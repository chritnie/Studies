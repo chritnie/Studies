{
  "nbformat": 4,
  "nbformat_minor": 0,
  "metadata": {
    "colab": {
      "provenance": []
    },
    "kernelspec": {
      "name": "python3",
      "display_name": "Python 3"
    },
    "language_info": {
      "name": "python"
    }
  },
  "cells": [
    {
      "cell_type": "markdown",
      "source": [
        "***Лабораторная работа 1. Журавлев К. В. ПИ20-1***"
      ],
      "metadata": {
        "id": "CR7WnQ0TU0Ru"
      }
    },
    {
      "cell_type": "markdown",
      "source": [
        "**Задание 1**"
      ],
      "metadata": {
        "id": "01rADa5W4RRi"
      }
    },
    {
      "cell_type": "code",
      "source": [
        "import numpy as np\n",
        "import matplotlib.pyplot as plt\n",
        "import pandas as pd\n",
        "import numpy.linalg as linalg"
      ],
      "metadata": {
        "id": "tAZH7zP2U2n4"
      },
      "execution_count": null,
      "outputs": []
    },
    {
      "cell_type": "code",
      "source": [
        "x, y = np.mgrid[1:11, 1:11]\n",
        "mat = x * y\n",
        "mat"
      ],
      "metadata": {
        "colab": {
          "base_uri": "https://localhost:8080/"
        },
        "id": "iX7Xyl5ZU50E",
        "outputId": "82ecff83-eb57-4bd5-8d6a-e79cfd74b64d"
      },
      "execution_count": null,
      "outputs": [
        {
          "output_type": "execute_result",
          "data": {
            "text/plain": [
              "array([[  1,   2,   3,   4,   5,   6,   7,   8,   9,  10],\n",
              "       [  2,   4,   6,   8,  10,  12,  14,  16,  18,  20],\n",
              "       [  3,   6,   9,  12,  15,  18,  21,  24,  27,  30],\n",
              "       [  4,   8,  12,  16,  20,  24,  28,  32,  36,  40],\n",
              "       [  5,  10,  15,  20,  25,  30,  35,  40,  45,  50],\n",
              "       [  6,  12,  18,  24,  30,  36,  42,  48,  54,  60],\n",
              "       [  7,  14,  21,  28,  35,  42,  49,  56,  63,  70],\n",
              "       [  8,  16,  24,  32,  40,  48,  56,  64,  72,  80],\n",
              "       [  9,  18,  27,  36,  45,  54,  63,  72,  81,  90],\n",
              "       [ 10,  20,  30,  40,  50,  60,  70,  80,  90, 100]])"
            ]
          },
          "metadata": {},
          "execution_count": 10
        }
      ]
    },
    {
      "cell_type": "markdown",
      "source": [
        "**Задание 2**"
      ],
      "metadata": {
        "id": "2kOwXAEjVcC4"
      }
    },
    {
      "cell_type": "code",
      "source": [
        "def zadanie_2(el1, d, n):\n",
        "    array = np.diag(np.arange(el1, el1 + d*n, d))\n",
        "    return array\n",
        "el1 = 1100\n",
        "d = 100\n",
        "n = 10\n",
        "zadanie_2(el1, d, n)"
      ],
      "metadata": {
        "colab": {
          "base_uri": "https://localhost:8080/"
        },
        "id": "nqw4nS6-2WKo",
        "outputId": "baf4f849-9fd0-453f-cc1a-9ca9883e8274"
      },
      "execution_count": null,
      "outputs": [
        {
          "output_type": "execute_result",
          "data": {
            "text/plain": [
              "array([[1100,    0,    0,    0,    0,    0,    0,    0,    0,    0],\n",
              "       [   0, 1200,    0,    0,    0,    0,    0,    0,    0,    0],\n",
              "       [   0,    0, 1300,    0,    0,    0,    0,    0,    0,    0],\n",
              "       [   0,    0,    0, 1400,    0,    0,    0,    0,    0,    0],\n",
              "       [   0,    0,    0,    0, 1500,    0,    0,    0,    0,    0],\n",
              "       [   0,    0,    0,    0,    0, 1600,    0,    0,    0,    0],\n",
              "       [   0,    0,    0,    0,    0,    0, 1700,    0,    0,    0],\n",
              "       [   0,    0,    0,    0,    0,    0,    0, 1800,    0,    0],\n",
              "       [   0,    0,    0,    0,    0,    0,    0,    0, 1900,    0],\n",
              "       [   0,    0,    0,    0,    0,    0,    0,    0,    0, 2000]])"
            ]
          },
          "metadata": {},
          "execution_count": 12
        }
      ]
    },
    {
      "cell_type": "markdown",
      "source": [
        "**Задание 3**"
      ],
      "metadata": {
        "id": "6M0U2FMqJI48"
      }
    },
    {
      "cell_type": "code",
      "source": [
        "data = np.genfromtxt('stockholm_td_adj.dat')"
      ],
      "metadata": {
        "id": "O3TtLm-SJZ0x"
      },
      "execution_count": null,
      "outputs": []
    },
    {
      "cell_type": "code",
      "source": [
        "a = data[(data[:,0]==1970) & (data[:,1]==10)]"
      ],
      "metadata": {
        "id": "5hIV7NMJMPwI"
      },
      "execution_count": null,
      "outputs": []
    },
    {
      "cell_type": "code",
      "source": [
        "np.savetxt('temperature.txt', a, fmt='%.5f')\n",
        "np.savetxt('temperature.bin', a, fmt='%.5f')"
      ],
      "metadata": {
        "id": "CEySeZLpXVQg"
      },
      "execution_count": null,
      "outputs": []
    },
    {
      "cell_type": "code",
      "source": [
        "temp = np.genfromtxt('temperature.txt')\n",
        "temp"
      ],
      "metadata": {
        "id": "huK-lULUXip2",
        "colab": {
          "base_uri": "https://localhost:8080/"
        },
        "outputId": "1d7d8983-79aa-4255-b8d5-41183f8c1e88"
      },
      "execution_count": null,
      "outputs": [
        {
          "output_type": "execute_result",
          "data": {
            "text/plain": [
              "array([[1.97e+03, 1.00e+01, 1.00e+00, 1.07e+01, 1.04e+01, 1.04e+01,\n",
              "        1.00e+00],\n",
              "       [1.97e+03, 1.00e+01, 2.00e+00, 9.30e+00, 9.00e+00, 9.00e+00,\n",
              "        1.00e+00],\n",
              "       [1.97e+03, 1.00e+01, 3.00e+00, 8.10e+00, 7.80e+00, 7.80e+00,\n",
              "        1.00e+00],\n",
              "       [1.97e+03, 1.00e+01, 4.00e+00, 6.90e+00, 6.60e+00, 6.60e+00,\n",
              "        1.00e+00],\n",
              "       [1.97e+03, 1.00e+01, 5.00e+00, 8.20e+00, 7.90e+00, 7.90e+00,\n",
              "        1.00e+00],\n",
              "       [1.97e+03, 1.00e+01, 6.00e+00, 1.10e+01, 1.07e+01, 1.07e+01,\n",
              "        1.00e+00],\n",
              "       [1.97e+03, 1.00e+01, 7.00e+00, 1.25e+01, 1.22e+01, 1.22e+01,\n",
              "        1.00e+00],\n",
              "       [1.97e+03, 1.00e+01, 8.00e+00, 1.25e+01, 1.22e+01, 1.22e+01,\n",
              "        1.00e+00],\n",
              "       [1.97e+03, 1.00e+01, 9.00e+00, 1.05e+01, 1.02e+01, 1.02e+01,\n",
              "        1.00e+00],\n",
              "       [1.97e+03, 1.00e+01, 1.00e+01, 1.11e+01, 1.09e+01, 1.09e+01,\n",
              "        1.00e+00],\n",
              "       [1.97e+03, 1.00e+01, 1.10e+01, 9.90e+00, 9.70e+00, 9.70e+00,\n",
              "        1.00e+00],\n",
              "       [1.97e+03, 1.00e+01, 1.20e+01, 9.20e+00, 9.00e+00, 9.00e+00,\n",
              "        1.00e+00],\n",
              "       [1.97e+03, 1.00e+01, 1.30e+01, 6.90e+00, 6.70e+00, 6.70e+00,\n",
              "        1.00e+00],\n",
              "       [1.97e+03, 1.00e+01, 1.40e+01, 5.00e+00, 4.80e+00, 4.80e+00,\n",
              "        1.00e+00],\n",
              "       [1.97e+03, 1.00e+01, 1.50e+01, 8.40e+00, 8.20e+00, 8.20e+00,\n",
              "        1.00e+00],\n",
              "       [1.97e+03, 1.00e+01, 1.60e+01, 1.01e+01, 9.90e+00, 9.90e+00,\n",
              "        1.00e+00],\n",
              "       [1.97e+03, 1.00e+01, 1.70e+01, 1.01e+01, 9.80e+00, 9.80e+00,\n",
              "        1.00e+00],\n",
              "       [1.97e+03, 1.00e+01, 1.80e+01, 8.90e+00, 8.60e+00, 8.60e+00,\n",
              "        1.00e+00],\n",
              "       [1.97e+03, 1.00e+01, 1.90e+01, 9.10e+00, 8.80e+00, 8.80e+00,\n",
              "        1.00e+00],\n",
              "       [1.97e+03, 1.00e+01, 2.00e+01, 7.60e+00, 7.30e+00, 7.30e+00,\n",
              "        1.00e+00],\n",
              "       [1.97e+03, 1.00e+01, 2.10e+01, 6.50e+00, 6.20e+00, 6.20e+00,\n",
              "        1.00e+00],\n",
              "       [1.97e+03, 1.00e+01, 2.20e+01, 3.30e+00, 3.00e+00, 3.00e+00,\n",
              "        1.00e+00],\n",
              "       [1.97e+03, 1.00e+01, 2.30e+01, 8.00e-01, 5.00e-01, 5.00e-01,\n",
              "        1.00e+00],\n",
              "       [1.97e+03, 1.00e+01, 2.40e+01, 4.80e+00, 4.50e+00, 4.50e+00,\n",
              "        1.00e+00],\n",
              "       [1.97e+03, 1.00e+01, 2.50e+01, 6.60e+00, 6.30e+00, 6.30e+00,\n",
              "        1.00e+00],\n",
              "       [1.97e+03, 1.00e+01, 2.60e+01, 3.60e+00, 3.30e+00, 3.30e+00,\n",
              "        1.00e+00],\n",
              "       [1.97e+03, 1.00e+01, 2.70e+01, 1.90e+00, 1.60e+00, 1.60e+00,\n",
              "        1.00e+00],\n",
              "       [1.97e+03, 1.00e+01, 2.80e+01, 2.00e+00, 1.70e+00, 1.70e+00,\n",
              "        1.00e+00],\n",
              "       [1.97e+03, 1.00e+01, 2.90e+01, 2.60e+00, 2.30e+00, 2.30e+00,\n",
              "        1.00e+00],\n",
              "       [1.97e+03, 1.00e+01, 3.00e+01, 2.20e+00, 1.80e+00, 1.80e+00,\n",
              "        1.00e+00],\n",
              "       [1.97e+03, 1.00e+01, 3.10e+01, 1.50e+00, 1.10e+00, 1.10e+00,\n",
              "        1.00e+00]])"
            ]
          },
          "metadata": {},
          "execution_count": 180
        }
      ]
    },
    {
      "cell_type": "code",
      "source": [
        "bin = np.genfromtxt('temperature.bin')\n",
        "bin"
      ],
      "metadata": {
        "id": "f0vwhHRMYqbl",
        "colab": {
          "base_uri": "https://localhost:8080/"
        },
        "outputId": "3faca786-3e5a-4a19-9855-ce43ad0e42b0"
      },
      "execution_count": null,
      "outputs": [
        {
          "output_type": "execute_result",
          "data": {
            "text/plain": [
              "array([[1.97e+03, 1.00e+01, 1.00e+00, 1.07e+01, 1.04e+01, 1.04e+01,\n",
              "        1.00e+00],\n",
              "       [1.97e+03, 1.00e+01, 2.00e+00, 9.30e+00, 9.00e+00, 9.00e+00,\n",
              "        1.00e+00],\n",
              "       [1.97e+03, 1.00e+01, 3.00e+00, 8.10e+00, 7.80e+00, 7.80e+00,\n",
              "        1.00e+00],\n",
              "       [1.97e+03, 1.00e+01, 4.00e+00, 6.90e+00, 6.60e+00, 6.60e+00,\n",
              "        1.00e+00],\n",
              "       [1.97e+03, 1.00e+01, 5.00e+00, 8.20e+00, 7.90e+00, 7.90e+00,\n",
              "        1.00e+00],\n",
              "       [1.97e+03, 1.00e+01, 6.00e+00, 1.10e+01, 1.07e+01, 1.07e+01,\n",
              "        1.00e+00],\n",
              "       [1.97e+03, 1.00e+01, 7.00e+00, 1.25e+01, 1.22e+01, 1.22e+01,\n",
              "        1.00e+00],\n",
              "       [1.97e+03, 1.00e+01, 8.00e+00, 1.25e+01, 1.22e+01, 1.22e+01,\n",
              "        1.00e+00],\n",
              "       [1.97e+03, 1.00e+01, 9.00e+00, 1.05e+01, 1.02e+01, 1.02e+01,\n",
              "        1.00e+00],\n",
              "       [1.97e+03, 1.00e+01, 1.00e+01, 1.11e+01, 1.09e+01, 1.09e+01,\n",
              "        1.00e+00],\n",
              "       [1.97e+03, 1.00e+01, 1.10e+01, 9.90e+00, 9.70e+00, 9.70e+00,\n",
              "        1.00e+00],\n",
              "       [1.97e+03, 1.00e+01, 1.20e+01, 9.20e+00, 9.00e+00, 9.00e+00,\n",
              "        1.00e+00],\n",
              "       [1.97e+03, 1.00e+01, 1.30e+01, 6.90e+00, 6.70e+00, 6.70e+00,\n",
              "        1.00e+00],\n",
              "       [1.97e+03, 1.00e+01, 1.40e+01, 5.00e+00, 4.80e+00, 4.80e+00,\n",
              "        1.00e+00],\n",
              "       [1.97e+03, 1.00e+01, 1.50e+01, 8.40e+00, 8.20e+00, 8.20e+00,\n",
              "        1.00e+00],\n",
              "       [1.97e+03, 1.00e+01, 1.60e+01, 1.01e+01, 9.90e+00, 9.90e+00,\n",
              "        1.00e+00],\n",
              "       [1.97e+03, 1.00e+01, 1.70e+01, 1.01e+01, 9.80e+00, 9.80e+00,\n",
              "        1.00e+00],\n",
              "       [1.97e+03, 1.00e+01, 1.80e+01, 8.90e+00, 8.60e+00, 8.60e+00,\n",
              "        1.00e+00],\n",
              "       [1.97e+03, 1.00e+01, 1.90e+01, 9.10e+00, 8.80e+00, 8.80e+00,\n",
              "        1.00e+00],\n",
              "       [1.97e+03, 1.00e+01, 2.00e+01, 7.60e+00, 7.30e+00, 7.30e+00,\n",
              "        1.00e+00],\n",
              "       [1.97e+03, 1.00e+01, 2.10e+01, 6.50e+00, 6.20e+00, 6.20e+00,\n",
              "        1.00e+00],\n",
              "       [1.97e+03, 1.00e+01, 2.20e+01, 3.30e+00, 3.00e+00, 3.00e+00,\n",
              "        1.00e+00],\n",
              "       [1.97e+03, 1.00e+01, 2.30e+01, 8.00e-01, 5.00e-01, 5.00e-01,\n",
              "        1.00e+00],\n",
              "       [1.97e+03, 1.00e+01, 2.40e+01, 4.80e+00, 4.50e+00, 4.50e+00,\n",
              "        1.00e+00],\n",
              "       [1.97e+03, 1.00e+01, 2.50e+01, 6.60e+00, 6.30e+00, 6.30e+00,\n",
              "        1.00e+00],\n",
              "       [1.97e+03, 1.00e+01, 2.60e+01, 3.60e+00, 3.30e+00, 3.30e+00,\n",
              "        1.00e+00],\n",
              "       [1.97e+03, 1.00e+01, 2.70e+01, 1.90e+00, 1.60e+00, 1.60e+00,\n",
              "        1.00e+00],\n",
              "       [1.97e+03, 1.00e+01, 2.80e+01, 2.00e+00, 1.70e+00, 1.70e+00,\n",
              "        1.00e+00],\n",
              "       [1.97e+03, 1.00e+01, 2.90e+01, 2.60e+00, 2.30e+00, 2.30e+00,\n",
              "        1.00e+00],\n",
              "       [1.97e+03, 1.00e+01, 3.00e+01, 2.20e+00, 1.80e+00, 1.80e+00,\n",
              "        1.00e+00],\n",
              "       [1.97e+03, 1.00e+01, 3.10e+01, 1.50e+00, 1.10e+00, 1.10e+00,\n",
              "        1.00e+00]])"
            ]
          },
          "metadata": {},
          "execution_count": 181
        }
      ]
    },
    {
      "cell_type": "markdown",
      "source": [
        "**Задание 4**"
      ],
      "metadata": {
        "id": "TgzZKNT0N9Wc"
      }
    },
    {
      "cell_type": "code",
      "source": [
        "A = np.array([[n+m*10 for n in range(5)] for m in range(5)])\n",
        "A[::, 1::2]"
      ],
      "metadata": {
        "colab": {
          "base_uri": "https://localhost:8080/"
        },
        "id": "L66whA4QN_Cy",
        "outputId": "e21c1f91-8d3c-4d5a-fde1-51744d95d19e"
      },
      "execution_count": null,
      "outputs": [
        {
          "output_type": "execute_result",
          "data": {
            "text/plain": [
              "array([[ 1,  3],\n",
              "       [11, 13],\n",
              "       [21, 23],\n",
              "       [31, 33],\n",
              "       [41, 43]])"
            ]
          },
          "metadata": {},
          "execution_count": 183
        }
      ]
    },
    {
      "cell_type": "markdown",
      "source": [
        "**Задание 5**"
      ],
      "metadata": {
        "id": "a-59Mc_zbQH0"
      }
    },
    {
      "cell_type": "code",
      "source": [
        "mask = mat % 3 == 0\n",
        "mat[mask]"
      ],
      "metadata": {
        "colab": {
          "base_uri": "https://localhost:8080/"
        },
        "id": "n8DV94A3bR_7",
        "outputId": "e8ab555e-d6af-48ef-84c9-25baf47d2220"
      },
      "execution_count": null,
      "outputs": [
        {
          "output_type": "execute_result",
          "data": {
            "text/plain": [
              "array([ 3,  6,  9,  6, 12, 18,  3,  6,  9, 12, 15, 18, 21, 24, 27, 30, 12,\n",
              "       24, 36, 15, 30, 45,  6, 12, 18, 24, 30, 36, 42, 48, 54, 60, 21, 42,\n",
              "       63, 24, 48, 72,  9, 18, 27, 36, 45, 54, 63, 72, 81, 90, 30, 60, 90])"
            ]
          },
          "metadata": {},
          "execution_count": 184
        }
      ]
    },
    {
      "cell_type": "markdown",
      "source": [
        "**Задание 7**"
      ],
      "metadata": {
        "id": "mYVm5Py1dE_C"
      }
    },
    {
      "cell_type": "code",
      "source": [
        "even = mat % 2 == 0 #Маски для отбора из таблицы умножения четных и нечетных элементов\n",
        "odd = mat % 2 == 1"
      ],
      "metadata": {
        "id": "EqEv5FXsdGfd"
      },
      "execution_count": null,
      "outputs": []
    },
    {
      "cell_type": "code",
      "source": [
        "even_array = mat[even] #Массив с четными числами\n",
        "mat[even]"
      ],
      "metadata": {
        "colab": {
          "base_uri": "https://localhost:8080/"
        },
        "id": "9xJGw6Pye-iO",
        "outputId": "338a09a6-9609-40bd-ccc4-6df2283df76b"
      },
      "execution_count": null,
      "outputs": [
        {
          "output_type": "execute_result",
          "data": {
            "text/plain": [
              "array([  2,   4,   6,   8,  10,   2,   4,   6,   8,  10,  12,  14,  16,\n",
              "        18,  20,   6,  12,  18,  24,  30,   4,   8,  12,  16,  20,  24,\n",
              "        28,  32,  36,  40,  10,  20,  30,  40,  50,   6,  12,  18,  24,\n",
              "        30,  36,  42,  48,  54,  60,  14,  28,  42,  56,  70,   8,  16,\n",
              "        24,  32,  40,  48,  56,  64,  72,  80,  18,  36,  54,  72,  90,\n",
              "        10,  20,  30,  40,  50,  60,  70,  80,  90, 100])"
            ]
          },
          "metadata": {},
          "execution_count": 186
        }
      ]
    },
    {
      "cell_type": "code",
      "source": [
        "odd_array = mat[odd] #Массив с нечетными числами\n",
        "mat[odd]"
      ],
      "metadata": {
        "colab": {
          "base_uri": "https://localhost:8080/"
        },
        "id": "Rcd0iFyje_-k",
        "outputId": "8fde0787-e3ca-4761-da90-243233c01c29"
      },
      "execution_count": null,
      "outputs": [
        {
          "output_type": "execute_result",
          "data": {
            "text/plain": [
              "array([ 1,  3,  5,  7,  9,  3,  9, 15, 21, 27,  5, 15, 25, 35, 45,  7, 21,\n",
              "       35, 49, 63,  9, 27, 45, 63, 81])"
            ]
          },
          "metadata": {},
          "execution_count": 188
        }
      ]
    },
    {
      "cell_type": "code",
      "source": [
        "#Первый способ\n",
        "which = [] #В цикле создается массив единиц и нулей, чтобы функция choose понимала из какого массива в какой момент брать элементы\n",
        "for i in range(len(mat)):\n",
        "  for j in range(len(mat)):\n",
        "    if mat[i,j] % 2 == 0:\n",
        "      which.append(0)\n",
        "    else:\n",
        "      which.append(1)\n",
        "choices = [[0, 2, 0,  4, 0, 6, 0, 8, 0, 10,   2,   4,   6,   8,  10,  12,  14,  16, # Массивы четных и нечетных чисел из таблицы умножения\n",
        "        18,  20, 0, 6, 0, 12, 0, 18, 0, 24, 0, 30,   4,   8,  12,  16,  20,  24,    # Нули подставлены, потому что функция choose пропускает \n",
        "        28,  32,  36,  40, 0, 10, 0, 20, 0, 30, 0, 40, 0, 50,   6,  12,  18,  24,   # индекс после каждой вставки\n",
        "        30,  36,  42,  48,  54,  60, 0, 14, 0, 28, 0, 42, 0, 56, 0, 70,   8,  16,\n",
        "        24,  32,  40,  48,  56,  64,  72,  80, 0, 18, 0, 36, 0, 54, 0, 72, 0, 90,\n",
        "        10,  20,  30,  40,  50,  60,  70,  80,  90, 100], [1, 0, 3, 0, 5, 0, 7, 0, 9, 0, 0, 0, 0, 0, 0, 0, 0, 0, 0, 0, 3, 0, 9, 0, 15, 0, 21, 0, 27, 0, 0, 0, 0, 0, 0, 0, 0, 0, 0, 0, 5, 0, 15, 0, 25, 0, 35, 0, 45, 0, 0, 0, 0, 0, 0, 0, 0, 0, 0, 0, 7, 0, 21, 0, 35, 0, 49, 0, 63, 0, 0, 0, 0, 0, 0, 0, 0, 0, 0, 0, 9, 0, 27, 0, 45, 0, 63, 0, 81, 0, 0, 0, 0, 0, 0, 0, 0, 0, 0, 0]]\n",
        "np.choose(which, choices).reshape(10, 10)\n"
      ],
      "metadata": {
        "id": "gXH9MVjJfljd",
        "colab": {
          "base_uri": "https://localhost:8080/"
        },
        "outputId": "37771ad3-c30b-4ae9-95b3-6a64986afd20"
      },
      "execution_count": null,
      "outputs": [
        {
          "output_type": "execute_result",
          "data": {
            "text/plain": [
              "array([[  1,   2,   3,   4,   5,   6,   7,   8,   9,  10],\n",
              "       [  2,   4,   6,   8,  10,  12,  14,  16,  18,  20],\n",
              "       [  3,   6,   9,  12,  15,  18,  21,  24,  27,  30],\n",
              "       [  4,   8,  12,  16,  20,  24,  28,  32,  36,  40],\n",
              "       [  5,  10,  15,  20,  25,  30,  35,  40,  45,  50],\n",
              "       [  6,  12,  18,  24,  30,  36,  42,  48,  54,  60],\n",
              "       [  7,  14,  21,  28,  35,  42,  49,  56,  63,  70],\n",
              "       [  8,  16,  24,  32,  40,  48,  56,  64,  72,  80],\n",
              "       [  9,  18,  27,  36,  45,  54,  63,  72,  81,  90],\n",
              "       [ 10,  20,  30,  40,  50,  60,  70,  80,  90, 100]])"
            ]
          },
          "metadata": {},
          "execution_count": 189
        }
      ]
    },
    {
      "cell_type": "code",
      "source": [
        "#Второй способ\n",
        "even = np.where(mat % 2 == 0, mat, 0)\n",
        "even"
      ],
      "metadata": {
        "colab": {
          "base_uri": "https://localhost:8080/"
        },
        "id": "4lms6OYE58r_",
        "outputId": "8b68f802-85d9-42ae-cd84-0f98fe45dfa8"
      },
      "execution_count": null,
      "outputs": [
        {
          "output_type": "execute_result",
          "data": {
            "text/plain": [
              "array([[  0,   2,   0,   4,   0,   6,   0,   8,   0,  10],\n",
              "       [  2,   4,   6,   8,  10,  12,  14,  16,  18,  20],\n",
              "       [  0,   6,   0,  12,   0,  18,   0,  24,   0,  30],\n",
              "       [  4,   8,  12,  16,  20,  24,  28,  32,  36,  40],\n",
              "       [  0,  10,   0,  20,   0,  30,   0,  40,   0,  50],\n",
              "       [  6,  12,  18,  24,  30,  36,  42,  48,  54,  60],\n",
              "       [  0,  14,   0,  28,   0,  42,   0,  56,   0,  70],\n",
              "       [  8,  16,  24,  32,  40,  48,  56,  64,  72,  80],\n",
              "       [  0,  18,   0,  36,   0,  54,   0,  72,   0,  90],\n",
              "       [ 10,  20,  30,  40,  50,  60,  70,  80,  90, 100]])"
            ]
          },
          "metadata": {},
          "execution_count": 209
        }
      ]
    },
    {
      "cell_type": "code",
      "source": [
        "odd = np.where(mat % 2 != 0, mat, 0)\n",
        "odd"
      ],
      "metadata": {
        "colab": {
          "base_uri": "https://localhost:8080/"
        },
        "id": "R6ypqVrA6RBu",
        "outputId": "bf8fdb01-5c2d-447f-9e67-a4f5b5fb37ab"
      },
      "execution_count": null,
      "outputs": [
        {
          "output_type": "execute_result",
          "data": {
            "text/plain": [
              "array([[ 1,  0,  3,  0,  5,  0,  7,  0,  9,  0],\n",
              "       [ 0,  0,  0,  0,  0,  0,  0,  0,  0,  0],\n",
              "       [ 3,  0,  9,  0, 15,  0, 21,  0, 27,  0],\n",
              "       [ 0,  0,  0,  0,  0,  0,  0,  0,  0,  0],\n",
              "       [ 5,  0, 15,  0, 25,  0, 35,  0, 45,  0],\n",
              "       [ 0,  0,  0,  0,  0,  0,  0,  0,  0,  0],\n",
              "       [ 7,  0, 21,  0, 35,  0, 49,  0, 63,  0],\n",
              "       [ 0,  0,  0,  0,  0,  0,  0,  0,  0,  0],\n",
              "       [ 9,  0, 27,  0, 45,  0, 63,  0, 81,  0],\n",
              "       [ 0,  0,  0,  0,  0,  0,  0,  0,  0,  0]])"
            ]
          },
          "metadata": {},
          "execution_count": 212
        }
      ]
    },
    {
      "cell_type": "code",
      "source": [
        "np.choose(mat % 2 == 0, [odd, even])"
      ],
      "metadata": {
        "colab": {
          "base_uri": "https://localhost:8080/"
        },
        "id": "nGEGYD6a7J7I",
        "outputId": "b869196c-5761-4904-fbf8-05b078b93b0b"
      },
      "execution_count": null,
      "outputs": [
        {
          "output_type": "execute_result",
          "data": {
            "text/plain": [
              "array([[  1,   2,   3,   4,   5,   6,   7,   8,   9,  10],\n",
              "       [  2,   4,   6,   8,  10,  12,  14,  16,  18,  20],\n",
              "       [  3,   6,   9,  12,  15,  18,  21,  24,  27,  30],\n",
              "       [  4,   8,  12,  16,  20,  24,  28,  32,  36,  40],\n",
              "       [  5,  10,  15,  20,  25,  30,  35,  40,  45,  50],\n",
              "       [  6,  12,  18,  24,  30,  36,  42,  48,  54,  60],\n",
              "       [  7,  14,  21,  28,  35,  42,  49,  56,  63,  70],\n",
              "       [  8,  16,  24,  32,  40,  48,  56,  64,  72,  80],\n",
              "       [  9,  18,  27,  36,  45,  54,  63,  72,  81,  90],\n",
              "       [ 10,  20,  30,  40,  50,  60,  70,  80,  90, 100]])"
            ]
          },
          "metadata": {},
          "execution_count": 213
        }
      ]
    },
    {
      "cell_type": "markdown",
      "source": [
        "**Задание 8**"
      ],
      "metadata": {
        "id": "5j4L3wp43OCP"
      }
    },
    {
      "cell_type": "code",
      "source": [
        "v1 = np.array([0,1,2,3,4])\n",
        "v2 = np.array([5,6,7,8,9])\n",
        "cosin = np.dot(v1,v2)/linalg.norm(v1)/linalg.norm(v2)\n",
        "angle = np.arccos(np.clip(cosin, -1, 1)) * 57.3\n",
        "print(angle)"
      ],
      "metadata": {
        "colab": {
          "base_uri": "https://localhost:8080/"
        },
        "id": "pAeeTBkABgkC",
        "outputId": "729f1195-efef-4f55-ed97-e4feb59ce76b"
      },
      "execution_count": null,
      "outputs": [
        {
          "output_type": "stream",
          "name": "stdout",
          "text": [
            "23.844392305568718\n"
          ]
        }
      ]
    },
    {
      "cell_type": "markdown",
      "source": [
        "**Задание 9**"
      ],
      "metadata": {
        "id": "W5BcXVrF3QwU"
      }
    },
    {
      "cell_type": "code",
      "source": [
        "A = np.array([i for i in range(1, 26)]).reshape(5, 5) #Задаю матрицу 5х5 от 1 до 25\n",
        "mask_odd = A % 2 != 0 #маски четных/нечетных чисел\n",
        "mask_even = A % 2 == 0\n",
        "A[mask_odd] = 5 #замена четных на 5, нечетных на 0\n",
        "A[mask_even] = 0"
      ],
      "metadata": {
        "id": "5JdSp1YmNJGZ"
      },
      "execution_count": null,
      "outputs": []
    },
    {
      "cell_type": "code",
      "source": [
        "B = np.array([[-i + j for i in range(1, 6)] for j in range(5)]) #Задаю матрицу 5х5 таким образом, чтобы по основной диагонали и выше ее\n",
        "mask_over = B <= -1                                             #стояли отрицательные числа\n",
        "mask_under = B > -1 #маски для замены - меньше или равно -1 на 5, больше -1 на 0\n",
        "B[mask_under] = 0\n",
        "B[mask_over] = 5"
      ],
      "metadata": {
        "id": "OlYYkqXg8bDL"
      },
      "execution_count": null,
      "outputs": []
    },
    {
      "cell_type": "code",
      "source": [
        "print(A, linalg.det(A)) #Матрица A и ее детерминант"
      ],
      "metadata": {
        "colab": {
          "base_uri": "https://localhost:8080/"
        },
        "id": "lK4J-OMT3jc3",
        "outputId": "7820e044-b765-497f-89ef-d07c0ee64dba"
      },
      "execution_count": null,
      "outputs": [
        {
          "output_type": "stream",
          "name": "stdout",
          "text": [
            "[[5 0 5 0 5]\n",
            " [0 5 0 5 0]\n",
            " [5 0 5 0 5]\n",
            " [0 5 0 5 0]\n",
            " [5 0 5 0 5]] 0.0\n"
          ]
        }
      ]
    },
    {
      "cell_type": "code",
      "source": [
        "print(B, linalg.det(B)) #Матрица B и ее детерминант"
      ],
      "metadata": {
        "colab": {
          "base_uri": "https://localhost:8080/"
        },
        "id": "-VII7O_G3rYO",
        "outputId": "9a317b5d-a191-495d-c18c-b2a212cb3d44"
      },
      "execution_count": null,
      "outputs": [
        {
          "output_type": "stream",
          "name": "stdout",
          "text": [
            "[[5 5 5 5 5]\n",
            " [0 5 5 5 5]\n",
            " [0 0 5 5 5]\n",
            " [0 0 0 5 5]\n",
            " [0 0 0 0 5]] 3124.999999999999\n"
          ]
        }
      ]
    },
    {
      "cell_type": "code",
      "source": [
        "B_inv = linalg.inv(B) #Обратная матрица B (обратная матрица A не строится из-за нулевого детерминанта)\n",
        "B_inv"
      ],
      "metadata": {
        "colab": {
          "base_uri": "https://localhost:8080/"
        },
        "id": "YC8gWSSF3ubC",
        "outputId": "7683912d-bef5-4411-b765-b7133711166a"
      },
      "execution_count": null,
      "outputs": [
        {
          "output_type": "execute_result",
          "data": {
            "text/plain": [
              "array([[ 0.2, -0.2,  0. ,  0. ,  0. ],\n",
              "       [ 0. ,  0.2, -0.2,  0. ,  0. ],\n",
              "       [ 0. ,  0. ,  0.2, -0.2,  0. ],\n",
              "       [ 0. ,  0. ,  0. ,  0.2, -0.2],\n",
              "       [ 0. ,  0. ,  0. ,  0. ,  0.2]])"
            ]
          },
          "metadata": {},
          "execution_count": 222
        }
      ]
    }
  ]
}