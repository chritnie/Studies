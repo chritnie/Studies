{
  "nbformat": 4,
  "nbformat_minor": 0,
  "metadata": {
    "colab": {
      "provenance": []
    },
    "kernelspec": {
      "name": "python3",
      "display_name": "Python 3"
    },
    "language_info": {
      "name": "python"
    }
  },
  "cells": [
    {
      "cell_type": "markdown",
      "source": [
        "Журавлев К. В. ПИ20-1 Лаборотарная работа №3"
      ],
      "metadata": {
        "id": "fhQTLtG656cc"
      }
    },
    {
      "cell_type": "code",
      "execution_count": null,
      "metadata": {
        "id": "sDo0ZNUi55su"
      },
      "outputs": [],
      "source": [
        "import pandas as pd\n",
        "import numpy as np\n",
        "import sklearn as skl\n",
        "from sklearn.preprocessing import MinMaxScaler\n",
        "from sklearn.preprocessing import StandardScaler"
      ]
    },
    {
      "cell_type": "code",
      "source": [],
      "metadata": {
        "id": "6B7CadMdqoFY"
      },
      "execution_count": null,
      "outputs": []
    },
    {
      "cell_type": "markdown",
      "source": [
        "Задание 1"
      ],
      "metadata": {
        "id": "5f54IomS7AbI"
      }
    },
    {
      "cell_type": "code",
      "source": [
        "a = pd.read_excel('Вариант 1.xlsx', header = 2)"
      ],
      "metadata": {
        "id": "yWO9vrjc6YNv"
      },
      "execution_count": null,
      "outputs": []
    },
    {
      "cell_type": "code",
      "source": [
        "a"
      ],
      "metadata": {
        "colab": {
          "base_uri": "https://localhost:8080/",
          "height": 502
        },
        "id": "XgERtiF062fO",
        "outputId": "f596ee8f-cbd1-477a-8627-a81f45ae8cda"
      },
      "execution_count": null,
      "outputs": [
        {
          "output_type": "execute_result",
          "data": {
            "text/plain": [
              "           №  № школы Класс  Пол  Номер варианта  Задания с кратким ответом  \\\n",
              "0        1.0    117.0    11    М           341.0  1+++--1+-++---0---------0   \n",
              "1        2.0    148.0   12А    М           338.0  1+---+0--+---+0----++-+-0   \n",
              "2        3.0    152.0    13    Ж           104.0  2-----0--+----1---------1   \n",
              "3        4.0    152.0    13    М           104.0  1+--+-0++-----2----++---0   \n",
              "4        5.0    132.0    11    М           337.0  1++---0-+++---1----+----2   \n",
              "...      ...      ...   ...  ...             ...                        ...   \n",
              "3044  3045.0    147.0    11    Ж           340.0  2+++++5+++++++2+++++++++4   \n",
              "3045  3046.0    147.0    11    Ж           338.0  2+++++5+++++++2+++++++++4   \n",
              "3046  3047.0    147.0    11    Ж           337.0  2+++++5+++++++2+++++++++4   \n",
              "3047  3048.0    144.0   11А    Ж           338.0  2+++++5+++++++2+++++++++4   \n",
              "3048     NaN      NaN   NaN  NaN             NaN                        NaN   \n",
              "\n",
              "                         Задания с развёрнутым ответом      Устная часть  \\\n",
              "0     0(1)0(3)0(1)0(3)0(2)0(2)0(3)0(3)0(2)0(2)0(1)0(1)               NaN   \n",
              "1     0(1)0(3)0(1)0(3)0(2)0(2)0(3)0(3)0(2)0(2)0(1)0(1)               NaN   \n",
              "2     0(1)0(3)0(1)0(3)0(2)0(2)0(3)1(3)0(2)1(2)1(1)1(1)               NaN   \n",
              "3     0(1)0(3)0(1)0(3)0(2)0(2)0(3)0(3)0(2)0(2)0(1)0(1)               NaN   \n",
              "4     0(1)0(3)0(1)0(3)0(2)0(2)0(3)0(3)0(2)0(2)0(1)0(1)               NaN   \n",
              "...                                                ...               ...   \n",
              "3044  1(1)3(3)1(1)3(3)2(2)2(2)3(3)3(3)2(2)2(2)1(1)1(1)               NaN   \n",
              "3045  1(1)3(3)1(1)3(3)2(2)2(2)3(3)3(3)2(2)2(2)1(1)1(1)               NaN   \n",
              "3046  1(1)3(3)1(1)3(3)2(2)2(2)3(3)3(3)2(2)2(2)1(1)1(1)               NaN   \n",
              "3047  1(1)3(3)1(1)3(3)2(2)2(2)3(3)3(3)2(2)2(2)1(1)1(1)               NaN   \n",
              "3048                                               NaN  Среднее значение   \n",
              "\n",
              "      Первичный балл        Балл  Минимальный балл  \n",
              "0                8.0   20.000000              24.0  \n",
              "1                8.0   20.000000              24.0  \n",
              "2                9.0   22.000000              24.0  \n",
              "3                9.0   22.000000              24.0  \n",
              "4               10.0   24.000000              24.0  \n",
              "...              ...         ...               ...  \n",
              "3044            58.0  100.000000              24.0  \n",
              "3045            58.0  100.000000              24.0  \n",
              "3046            58.0  100.000000              24.0  \n",
              "3047            58.0  100.000000              24.0  \n",
              "3048             NaN   72.769029               NaN  \n",
              "\n",
              "[3049 rows x 11 columns]"
            ],
            "text/html": [
              "\n",
              "  <div id=\"df-78ce6489-a2dc-4c65-b9bf-0c802ec20890\">\n",
              "    <div class=\"colab-df-container\">\n",
              "      <div>\n",
              "<style scoped>\n",
              "    .dataframe tbody tr th:only-of-type {\n",
              "        vertical-align: middle;\n",
              "    }\n",
              "\n",
              "    .dataframe tbody tr th {\n",
              "        vertical-align: top;\n",
              "    }\n",
              "\n",
              "    .dataframe thead th {\n",
              "        text-align: right;\n",
              "    }\n",
              "</style>\n",
              "<table border=\"1\" class=\"dataframe\">\n",
              "  <thead>\n",
              "    <tr style=\"text-align: right;\">\n",
              "      <th></th>\n",
              "      <th>№</th>\n",
              "      <th>№ школы</th>\n",
              "      <th>Класс</th>\n",
              "      <th>Пол</th>\n",
              "      <th>Номер варианта</th>\n",
              "      <th>Задания с кратким ответом</th>\n",
              "      <th>Задания с развёрнутым ответом</th>\n",
              "      <th>Устная часть</th>\n",
              "      <th>Первичный балл</th>\n",
              "      <th>Балл</th>\n",
              "      <th>Минимальный балл</th>\n",
              "    </tr>\n",
              "  </thead>\n",
              "  <tbody>\n",
              "    <tr>\n",
              "      <th>0</th>\n",
              "      <td>1.0</td>\n",
              "      <td>117.0</td>\n",
              "      <td>11</td>\n",
              "      <td>М</td>\n",
              "      <td>341.0</td>\n",
              "      <td>1+++--1+-++---0---------0</td>\n",
              "      <td>0(1)0(3)0(1)0(3)0(2)0(2)0(3)0(3)0(2)0(2)0(1)0(1)</td>\n",
              "      <td>NaN</td>\n",
              "      <td>8.0</td>\n",
              "      <td>20.000000</td>\n",
              "      <td>24.0</td>\n",
              "    </tr>\n",
              "    <tr>\n",
              "      <th>1</th>\n",
              "      <td>2.0</td>\n",
              "      <td>148.0</td>\n",
              "      <td>12А</td>\n",
              "      <td>М</td>\n",
              "      <td>338.0</td>\n",
              "      <td>1+---+0--+---+0----++-+-0</td>\n",
              "      <td>0(1)0(3)0(1)0(3)0(2)0(2)0(3)0(3)0(2)0(2)0(1)0(1)</td>\n",
              "      <td>NaN</td>\n",
              "      <td>8.0</td>\n",
              "      <td>20.000000</td>\n",
              "      <td>24.0</td>\n",
              "    </tr>\n",
              "    <tr>\n",
              "      <th>2</th>\n",
              "      <td>3.0</td>\n",
              "      <td>152.0</td>\n",
              "      <td>13</td>\n",
              "      <td>Ж</td>\n",
              "      <td>104.0</td>\n",
              "      <td>2-----0--+----1---------1</td>\n",
              "      <td>0(1)0(3)0(1)0(3)0(2)0(2)0(3)1(3)0(2)1(2)1(1)1(1)</td>\n",
              "      <td>NaN</td>\n",
              "      <td>9.0</td>\n",
              "      <td>22.000000</td>\n",
              "      <td>24.0</td>\n",
              "    </tr>\n",
              "    <tr>\n",
              "      <th>3</th>\n",
              "      <td>4.0</td>\n",
              "      <td>152.0</td>\n",
              "      <td>13</td>\n",
              "      <td>М</td>\n",
              "      <td>104.0</td>\n",
              "      <td>1+--+-0++-----2----++---0</td>\n",
              "      <td>0(1)0(3)0(1)0(3)0(2)0(2)0(3)0(3)0(2)0(2)0(1)0(1)</td>\n",
              "      <td>NaN</td>\n",
              "      <td>9.0</td>\n",
              "      <td>22.000000</td>\n",
              "      <td>24.0</td>\n",
              "    </tr>\n",
              "    <tr>\n",
              "      <th>4</th>\n",
              "      <td>5.0</td>\n",
              "      <td>132.0</td>\n",
              "      <td>11</td>\n",
              "      <td>М</td>\n",
              "      <td>337.0</td>\n",
              "      <td>1++---0-+++---1----+----2</td>\n",
              "      <td>0(1)0(3)0(1)0(3)0(2)0(2)0(3)0(3)0(2)0(2)0(1)0(1)</td>\n",
              "      <td>NaN</td>\n",
              "      <td>10.0</td>\n",
              "      <td>24.000000</td>\n",
              "      <td>24.0</td>\n",
              "    </tr>\n",
              "    <tr>\n",
              "      <th>...</th>\n",
              "      <td>...</td>\n",
              "      <td>...</td>\n",
              "      <td>...</td>\n",
              "      <td>...</td>\n",
              "      <td>...</td>\n",
              "      <td>...</td>\n",
              "      <td>...</td>\n",
              "      <td>...</td>\n",
              "      <td>...</td>\n",
              "      <td>...</td>\n",
              "      <td>...</td>\n",
              "    </tr>\n",
              "    <tr>\n",
              "      <th>3044</th>\n",
              "      <td>3045.0</td>\n",
              "      <td>147.0</td>\n",
              "      <td>11</td>\n",
              "      <td>Ж</td>\n",
              "      <td>340.0</td>\n",
              "      <td>2+++++5+++++++2+++++++++4</td>\n",
              "      <td>1(1)3(3)1(1)3(3)2(2)2(2)3(3)3(3)2(2)2(2)1(1)1(1)</td>\n",
              "      <td>NaN</td>\n",
              "      <td>58.0</td>\n",
              "      <td>100.000000</td>\n",
              "      <td>24.0</td>\n",
              "    </tr>\n",
              "    <tr>\n",
              "      <th>3045</th>\n",
              "      <td>3046.0</td>\n",
              "      <td>147.0</td>\n",
              "      <td>11</td>\n",
              "      <td>Ж</td>\n",
              "      <td>338.0</td>\n",
              "      <td>2+++++5+++++++2+++++++++4</td>\n",
              "      <td>1(1)3(3)1(1)3(3)2(2)2(2)3(3)3(3)2(2)2(2)1(1)1(1)</td>\n",
              "      <td>NaN</td>\n",
              "      <td>58.0</td>\n",
              "      <td>100.000000</td>\n",
              "      <td>24.0</td>\n",
              "    </tr>\n",
              "    <tr>\n",
              "      <th>3046</th>\n",
              "      <td>3047.0</td>\n",
              "      <td>147.0</td>\n",
              "      <td>11</td>\n",
              "      <td>Ж</td>\n",
              "      <td>337.0</td>\n",
              "      <td>2+++++5+++++++2+++++++++4</td>\n",
              "      <td>1(1)3(3)1(1)3(3)2(2)2(2)3(3)3(3)2(2)2(2)1(1)1(1)</td>\n",
              "      <td>NaN</td>\n",
              "      <td>58.0</td>\n",
              "      <td>100.000000</td>\n",
              "      <td>24.0</td>\n",
              "    </tr>\n",
              "    <tr>\n",
              "      <th>3047</th>\n",
              "      <td>3048.0</td>\n",
              "      <td>144.0</td>\n",
              "      <td>11А</td>\n",
              "      <td>Ж</td>\n",
              "      <td>338.0</td>\n",
              "      <td>2+++++5+++++++2+++++++++4</td>\n",
              "      <td>1(1)3(3)1(1)3(3)2(2)2(2)3(3)3(3)2(2)2(2)1(1)1(1)</td>\n",
              "      <td>NaN</td>\n",
              "      <td>58.0</td>\n",
              "      <td>100.000000</td>\n",
              "      <td>24.0</td>\n",
              "    </tr>\n",
              "    <tr>\n",
              "      <th>3048</th>\n",
              "      <td>NaN</td>\n",
              "      <td>NaN</td>\n",
              "      <td>NaN</td>\n",
              "      <td>NaN</td>\n",
              "      <td>NaN</td>\n",
              "      <td>NaN</td>\n",
              "      <td>NaN</td>\n",
              "      <td>Среднее значение</td>\n",
              "      <td>NaN</td>\n",
              "      <td>72.769029</td>\n",
              "      <td>NaN</td>\n",
              "    </tr>\n",
              "  </tbody>\n",
              "</table>\n",
              "<p>3049 rows × 11 columns</p>\n",
              "</div>\n",
              "      <button class=\"colab-df-convert\" onclick=\"convertToInteractive('df-78ce6489-a2dc-4c65-b9bf-0c802ec20890')\"\n",
              "              title=\"Convert this dataframe to an interactive table.\"\n",
              "              style=\"display:none;\">\n",
              "        \n",
              "  <svg xmlns=\"http://www.w3.org/2000/svg\" height=\"24px\"viewBox=\"0 0 24 24\"\n",
              "       width=\"24px\">\n",
              "    <path d=\"M0 0h24v24H0V0z\" fill=\"none\"/>\n",
              "    <path d=\"M18.56 5.44l.94 2.06.94-2.06 2.06-.94-2.06-.94-.94-2.06-.94 2.06-2.06.94zm-11 1L8.5 8.5l.94-2.06 2.06-.94-2.06-.94L8.5 2.5l-.94 2.06-2.06.94zm10 10l.94 2.06.94-2.06 2.06-.94-2.06-.94-.94-2.06-.94 2.06-2.06.94z\"/><path d=\"M17.41 7.96l-1.37-1.37c-.4-.4-.92-.59-1.43-.59-.52 0-1.04.2-1.43.59L10.3 9.45l-7.72 7.72c-.78.78-.78 2.05 0 2.83L4 21.41c.39.39.9.59 1.41.59.51 0 1.02-.2 1.41-.59l7.78-7.78 2.81-2.81c.8-.78.8-2.07 0-2.86zM5.41 20L4 18.59l7.72-7.72 1.47 1.35L5.41 20z\"/>\n",
              "  </svg>\n",
              "      </button>\n",
              "      \n",
              "  <style>\n",
              "    .colab-df-container {\n",
              "      display:flex;\n",
              "      flex-wrap:wrap;\n",
              "      gap: 12px;\n",
              "    }\n",
              "\n",
              "    .colab-df-convert {\n",
              "      background-color: #E8F0FE;\n",
              "      border: none;\n",
              "      border-radius: 50%;\n",
              "      cursor: pointer;\n",
              "      display: none;\n",
              "      fill: #1967D2;\n",
              "      height: 32px;\n",
              "      padding: 0 0 0 0;\n",
              "      width: 32px;\n",
              "    }\n",
              "\n",
              "    .colab-df-convert:hover {\n",
              "      background-color: #E2EBFA;\n",
              "      box-shadow: 0px 1px 2px rgba(60, 64, 67, 0.3), 0px 1px 3px 1px rgba(60, 64, 67, 0.15);\n",
              "      fill: #174EA6;\n",
              "    }\n",
              "\n",
              "    [theme=dark] .colab-df-convert {\n",
              "      background-color: #3B4455;\n",
              "      fill: #D2E3FC;\n",
              "    }\n",
              "\n",
              "    [theme=dark] .colab-df-convert:hover {\n",
              "      background-color: #434B5C;\n",
              "      box-shadow: 0px 1px 3px 1px rgba(0, 0, 0, 0.15);\n",
              "      filter: drop-shadow(0px 1px 2px rgba(0, 0, 0, 0.3));\n",
              "      fill: #FFFFFF;\n",
              "    }\n",
              "  </style>\n",
              "\n",
              "      <script>\n",
              "        const buttonEl =\n",
              "          document.querySelector('#df-78ce6489-a2dc-4c65-b9bf-0c802ec20890 button.colab-df-convert');\n",
              "        buttonEl.style.display =\n",
              "          google.colab.kernel.accessAllowed ? 'block' : 'none';\n",
              "\n",
              "        async function convertToInteractive(key) {\n",
              "          const element = document.querySelector('#df-78ce6489-a2dc-4c65-b9bf-0c802ec20890');\n",
              "          const dataTable =\n",
              "            await google.colab.kernel.invokeFunction('convertToInteractive',\n",
              "                                                     [key], {});\n",
              "          if (!dataTable) return;\n",
              "\n",
              "          const docLinkHtml = 'Like what you see? Visit the ' +\n",
              "            '<a target=\"_blank\" href=https://colab.research.google.com/notebooks/data_table.ipynb>data table notebook</a>'\n",
              "            + ' to learn more about interactive tables.';\n",
              "          element.innerHTML = '';\n",
              "          dataTable['output_type'] = 'display_data';\n",
              "          await google.colab.output.renderOutput(dataTable, element);\n",
              "          const docLink = document.createElement('div');\n",
              "          docLink.innerHTML = docLinkHtml;\n",
              "          element.appendChild(docLink);\n",
              "        }\n",
              "      </script>\n",
              "    </div>\n",
              "  </div>\n",
              "  "
            ]
          },
          "metadata": {},
          "execution_count": 5
        }
      ]
    },
    {
      "cell_type": "markdown",
      "source": [
        "Задание 2"
      ],
      "metadata": {
        "id": "1HfV-JRU7Bw3"
      }
    },
    {
      "cell_type": "code",
      "source": [
        "a['Балл'].describe()"
      ],
      "metadata": {
        "colab": {
          "base_uri": "https://localhost:8080/"
        },
        "id": "85XToUsZ7Ca_",
        "outputId": "6bb3d027-b168-44f1-aa7a-18fb207b1fbe"
      },
      "execution_count": null,
      "outputs": [
        {
          "output_type": "execute_result",
          "data": {
            "text/plain": [
              "count    3049.000000\n",
              "mean       72.769029\n",
              "std        13.662666\n",
              "min        20.000000\n",
              "25%        64.000000\n",
              "50%        72.000000\n",
              "75%        82.000000\n",
              "max       100.000000\n",
              "Name: Балл, dtype: float64"
            ]
          },
          "metadata": {},
          "execution_count": 6
        }
      ]
    },
    {
      "cell_type": "markdown",
      "source": [
        "Задание 3"
      ],
      "metadata": {
        "id": "SpaMBg7W93zl"
      }
    },
    {
      "cell_type": "code",
      "source": [
        "mean = a['Балл'].describe()[1]\n",
        "count = a['Балл'].describe()[0]\n",
        "belowAverage = (a['Балл'] < mean).sum()\n",
        "print(f'Процент учащихся, выполнивших работу ниже среднего: {round(belowAverage / (count - 1) * 100, 2)}%')"
      ],
      "metadata": {
        "colab": {
          "base_uri": "https://localhost:8080/"
        },
        "id": "Erf7HniI93Eu",
        "outputId": "4629ac9a-13fc-4954-e9b7-0f7835f646b6"
      },
      "execution_count": null,
      "outputs": [
        {
          "output_type": "stream",
          "name": "stdout",
          "text": [
            "Процент учащихся, выполнивших работу ниже среднего: 51.28%\n"
          ]
        }
      ]
    },
    {
      "cell_type": "markdown",
      "source": [
        "Задание 4"
      ],
      "metadata": {
        "id": "3zW6FDcXEd0K"
      }
    },
    {
      "cell_type": "code",
      "source": [
        "min = 24\n",
        "notPass = (a['Балл'] < min).sum()\n",
        "print(f'Процент учащихся, не сдавших экзамен: {round(notPass / (count - 1) * 100, 2)}%')"
      ],
      "metadata": {
        "colab": {
          "base_uri": "https://localhost:8080/"
        },
        "id": "-dQ9qonBETOH",
        "outputId": "2b5d5ce6-87de-4a91-ac8e-be608fe1f474"
      },
      "execution_count": null,
      "outputs": [
        {
          "output_type": "stream",
          "name": "stdout",
          "text": [
            "Процент учащихся, не сдавших экзамен: 0.13%\n"
          ]
        }
      ]
    },
    {
      "cell_type": "markdown",
      "source": [
        "Задание 5"
      ],
      "metadata": {
        "id": "t-HLg1bUE078"
      }
    },
    {
      "cell_type": "code",
      "source": [
        "import matplotlib.pyplot as plt"
      ],
      "metadata": {
        "id": "EXwaBXWME13O"
      },
      "execution_count": null,
      "outputs": []
    },
    {
      "cell_type": "code",
      "source": [
        "Pass = (a['Балл'] >= min).sum()\n",
        "labels = ['Сдавшие', 'Не сдавшие']\n",
        "plt.pie((Pass, notPass), labels = labels, colors=['orange', 'red'], autopct = '%1.2f%%', radius = 2)\n",
        "plt.show()"
      ],
      "metadata": {
        "colab": {
          "base_uri": "https://localhost:8080/",
          "height": 379
        },
        "id": "rEaTtXhTFQz4",
        "outputId": "2a0215e5-bae7-4c9c-fdbc-949dd3da2fff"
      },
      "execution_count": null,
      "outputs": [
        {
          "output_type": "display_data",
          "data": {
            "text/plain": [
              "<Figure size 432x288 with 1 Axes>"
            ],
            "image/png": "[encoded data removed]"
          },
          "metadata": {}
        }
      ]
    },
    {
      "cell_type": "markdown",
      "source": [
        "Задание 6"
      ],
      "metadata": {
        "id": "VQJ0tUUwgo5o"
      }
    },
    {
      "cell_type": "code",
      "source": [
        "import seaborn as sns\n",
        "sns.kdeplot(data=a['Балл'], lw=2, label=\"Баллы за экзамен\", color = 'green')\n",
        "plt.legend()\n",
        "plt.show()"
      ],
      "metadata": {
        "colab": {
          "base_uri": "https://localhost:8080/",
          "height": 279
        },
        "id": "3Eba5DmggqoR",
        "outputId": "486aa698-d589-4a6c-c879-ee2600f54e34"
      },
      "execution_count": null,
      "outputs": [
        {
          "output_type": "display_data",
          "data": {
            "text/plain": [
              "<Figure size 432x288 with 1 Axes>"
            ],
            "image/png": "[encoded data removed]"
          },
          "metadata": {
            "needs_background": "light"
          }
        }
      ]
    },
    {
      "cell_type": "markdown",
      "source": [
        "Задание 7"
      ],
      "metadata": {
        "id": "DQn2ZrPPiUZT"
      }
    },
    {
      "cell_type": "code",
      "source": [
        "a = a[a.index != 3048]\n",
        "excellent = (a['Балл'] >= 72).sum()\n",
        "nicely = a['Балл'].between(57, 71)\n",
        "satisfactory = a['Балл'].between(36, 56)\n",
        "unsatisfactory = (a['Балл'] <= 35).sum()\n",
        "print(f'Сдавших на \"отлично\": {round((excellent / (count - 1) * 100), 2)}%')\n",
        "print(f'Сдавших на \"хорошо\": {round((nicely.sum() / (count - 1) * 100), 2)}%')\n",
        "print(f'Сдавших на \"удовлетворительно\": {round((satisfactory.sum() / (count - 1) * 100), 2)}%')\n",
        "print(f'Сдавших на \"неудовлетворительно\": {round((unsatisfactory / (count - 1) * 100), 2)}%')"
      ],
      "metadata": {
        "colab": {
          "base_uri": "https://localhost:8080/"
        },
        "id": "vo_NLy1hiVsJ",
        "outputId": "3b0025fc-7719-414e-b184-e5587c1f28a6"
      },
      "execution_count": null,
      "outputs": [
        {
          "output_type": "stream",
          "name": "stdout",
          "text": [
            "Сдавших на \"отлично\": 53.31%\n",
            "Сдавших на \"хорошо\": 34.45%\n",
            "Сдавших на \"удовлетворительно\": 11.55%\n",
            "Сдавших на \"неудовлетворительно\": 0.69%\n"
          ]
        }
      ]
    },
    {
      "cell_type": "markdown",
      "source": [
        "Задание 8"
      ],
      "metadata": {
        "id": "BtcdpSvJrFKC"
      }
    },
    {
      "cell_type": "code",
      "source": [
        "sex = pd.get_dummies(a['Пол'], drop_first = True)"
      ],
      "metadata": {
        "id": "AAyc4sM0rGj4"
      },
      "execution_count": null,
      "outputs": []
    },
    {
      "cell_type": "code",
      "source": [
        "a = pd.concat([a, sex], axis = 1)"
      ],
      "metadata": {
        "id": "uwlwWoRbuZ8g"
      },
      "execution_count": null,
      "outputs": []
    },
    {
      "cell_type": "code",
      "source": [
        "male = (a['М'] == 1).sum()\n",
        "female = (a['М'] != 1).sum()\n",
        "labels = ['М', 'Ж']\n",
        "plt.pie([male, female], labels = labels, colors=['deepskyblue', 'pink'], autopct = '%1.2f%%', radius = 2)\n",
        "plt.show()"
      ],
      "metadata": {
        "colab": {
          "base_uri": "https://localhost:8080/",
          "height": 412
        },
        "id": "wHA2WXf3uSJd",
        "outputId": "bba6d6bb-5710-4f13-903c-770c5e113e30"
      },
      "execution_count": null,
      "outputs": [
        {
          "output_type": "display_data",
          "data": {
            "text/plain": [
              "<Figure size 432x288 with 1 Axes>"
            ],
            "image/png": "[encoded data removed]"
          },
          "metadata": {}
        }
      ]
    },
    {
      "cell_type": "markdown",
      "source": [
        "Задание 9"
      ],
      "metadata": {
        "id": "mr9uC0ljw0HR"
      }
    },
    {
      "cell_type": "code",
      "source": [
        "print(f'Школ, принимавших участие в экзамене: {a[\"№ школы\"].nunique()}')"
      ],
      "metadata": {
        "colab": {
          "base_uri": "https://localhost:8080/"
        },
        "id": "gvKb0lyXw1VA",
        "outputId": "b8de91aa-53d5-472f-86fd-3b9b1c90e6a9"
      },
      "execution_count": null,
      "outputs": [
        {
          "output_type": "stream",
          "name": "stdout",
          "text": [
            "Школ, принимавших участие в экзамене: 24\n"
          ]
        }
      ]
    },
    {
      "cell_type": "markdown",
      "source": [
        "Дополнительные задания\n"
      ],
      "metadata": {
        "id": "CWqszuOtVeRe"
      }
    },
    {
      "cell_type": "markdown",
      "source": [
        "Задание 1"
      ],
      "metadata": {
        "id": "-K-zE4fAVg9p"
      }
    },
    {
      "cell_type": "code",
      "source": [
        "print(f'Заданий с кратким ответом: {len(a[\"Задания с кратким ответом\"][0])}')\n",
        "print(f'Заданий с развёрнутым ответом: {int(len(a[\"Задания с развёрнутым ответом\"][0]) / 4)}')"
      ],
      "metadata": {
        "colab": {
          "base_uri": "https://localhost:8080/"
        },
        "id": "fCfo6j37XvSd",
        "outputId": "7a693f29-075e-44cf-bddb-b15338e61aa1"
      },
      "execution_count": null,
      "outputs": [
        {
          "output_type": "stream",
          "name": "stdout",
          "text": [
            "Заданий с кратким ответом: 25\n",
            "Заданий с развёрнутым ответом: 12\n"
          ]
        }
      ]
    },
    {
      "cell_type": "markdown",
      "source": [
        "Задание 2"
      ],
      "metadata": {
        "id": "6dn2zCzCYgXN"
      }
    },
    {
      "cell_type": "code",
      "source": [
        "a = np.arange(10,110,10)\n",
        "\n",
        "b = a.reshape((5,2))\n",
        "\n",
        "b[1,1] = 0\n",
        "\n",
        "a[:5].sum()"
      ],
      "metadata": {
        "colab": {
          "base_uri": "https://localhost:8080/"
        },
        "id": "wVqXPi3M_i2W",
        "outputId": "71761a6e-b89d-4d0b-a185-f761c383dc40"
      },
      "execution_count": null,
      "outputs": [
        {
          "output_type": "execute_result",
          "data": {
            "text/plain": [
              "110"
            ]
          },
          "metadata": {},
          "execution_count": 12
        }
      ]
    }
  ]
}