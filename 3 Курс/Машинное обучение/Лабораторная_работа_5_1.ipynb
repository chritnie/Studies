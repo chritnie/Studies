{
  "nbformat": 4,
  "nbformat_minor": 0,
  "metadata": {
    "colab": {
      "provenance": []
    },
    "kernelspec": {
      "name": "python3",
      "display_name": "Python 3"
    },
    "language_info": {
      "name": "python"
    }
  },
  "cells": [
    {
      "cell_type": "markdown",
      "source": [
        "Лабораторная работа 5.1 Журавлев К. В. ПИ20-1"
      ],
      "metadata": {
        "id": "OcYiI4PaUZPw"
      }
    },
    {
      "cell_type": "code",
      "execution_count": null,
      "metadata": {
        "id": "MUj-Kx-9UMLe"
      },
      "outputs": [],
      "source": [
        "import warnings\n",
        "warnings.simplefilter(action='ignore', category=FutureWarning)\n",
        "\n",
        "import math\n",
        "import pandas as pd\n",
        "import numpy as np\n",
        "import seaborn as sns\n",
        "import matplotlib.pyplot as plt\n",
        "import statistics as stats"
      ]
    },
    {
      "cell_type": "markdown",
      "source": [
        "**Задание 1**\n",
        "\n",
        "Загрузите и прочитайте в pandas приложенный датасет. Обратите внимание, что датасет собран «криво», поэтому прежде чем он «правильно» загрузится (рис.1), необходимо его обработать."
      ],
      "metadata": {
        "id": "zZvDmbYnUixk"
      }
    },
    {
      "cell_type": "code",
      "source": [
        "dates_list = [\"dateCreated\", \"lastSeen\", \"dateCrawled\"]"
      ],
      "metadata": {
        "id": "PBZo32e9U6QD"
      },
      "execution_count": null,
      "outputs": []
    },
    {
      "cell_type": "code",
      "source": [
        "df = pd.read_csv(\"./cars_sampled.csv\", parse_dates=dates_list)\n",
        "df"
      ],
      "metadata": {
        "colab": {
          "base_uri": "https://localhost:8080/",
          "height": 835
        },
        "id": "1Yv7xpDYU-Qj",
        "outputId": "a0d9975c-c31f-4165-e12b-fa5429b7302d"
      },
      "execution_count": null,
      "outputs": [
        {
          "output_type": "execute_result",
          "data": {
            "text/plain": [
              "              dateCrawled                                               name  \\\n",
              "0     2016-03-30 13:51:00                                       Zu_verkaufen   \n",
              "1     2016-07-03 09:54:00                             Volvo_XC90_2.4D_Summum   \n",
              "2     2016-01-04 00:57:00                                  Volkswagen_Touran   \n",
              "3     2016-03-19 17:50:00                       Seat_Ibiza_1.4_16V_Reference   \n",
              "4     2016-03-16 14:51:00  Volvo_XC90_D5_Aut._RDesign_R_Design_AWD_GSHD_S...   \n",
              "...                   ...                                                ...   \n",
              "49996 2016-03-04 15:48:00                               Suche_VW_T5_Multivan   \n",
              "49997 2016-03-27 14:55:00  Suche_einen_originalen_VW_Golf_2_Fire_and_Ice_G60   \n",
              "49998 2016-03-14 18:51:00  [SUCHE]_BMW_e46_Coupe_330ci_M_Paket_Facelift__...   \n",
              "49999 2016-03-15 18:06:00        Verkaufe_mehrere_Fahrzeuge_zum_Verschrotten   \n",
              "50000 2016-03-22 09:54:00                    Chevrolet_Matiz_1.Hd_TÜV11/2017   \n",
              "\n",
              "           seller offerType  price   abtest    vehicleType  \\\n",
              "0         private     offer   4450     test      limousine   \n",
              "1         private     offer  13299  control            suv   \n",
              "2         private     offer   3200     test            bus   \n",
              "3         private     offer   4500  control      small car   \n",
              "4         private     offer  18750     test            suv   \n",
              "...           ...       ...    ...      ...            ...   \n",
              "49996     private   request      0     test            bus   \n",
              "49997     private   request  19999  control            NaN   \n",
              "49998     private   request      0     test          coupe   \n",
              "49999  commercial     offer    100  control  station wagon   \n",
              "50000  commercial     offer   1100     test      small car   \n",
              "\n",
              "       yearOfRegistration    gearbox  powerPS        model  kilometer  \\\n",
              "0                    2003     manual      150          3er     150000   \n",
              "1                    2005     manual      163     xc_reihe     150000   \n",
              "2                    2003     manual      101       touran     150000   \n",
              "3                    2006     manual       86        ibiza      60000   \n",
              "4                    2008  automatic      185     xc_reihe     150000   \n",
              "...                   ...        ...      ...          ...        ...   \n",
              "49996                2005        NaN        0  transporter     150000   \n",
              "49997                1990        NaN        0         golf       5000   \n",
              "49998                2004     manual        0          3er     150000   \n",
              "49999                2000     manual        0       megane     150000   \n",
              "50000                2006     manual       38        matiz     150000   \n",
              "\n",
              "       monthOfRegistration fuelType       brand notRepairedDamage dateCreated  \\\n",
              "0                        3   diesel         bmw               NaN  2016-03-30   \n",
              "1                        6   diesel       volvo                no  2016-07-03   \n",
              "2                       11   diesel  volkswagen               NaN  2016-03-31   \n",
              "3                       12   petrol        seat                no  2016-03-19   \n",
              "4                       11   diesel       volvo                no  2016-03-16   \n",
              "...                    ...      ...         ...               ...         ...   \n",
              "49996                    0      NaN  volkswagen               NaN  2016-03-04   \n",
              "49997                    0      NaN  volkswagen               NaN  2016-03-27   \n",
              "49998                    1   petrol         bmw                no  2016-03-14   \n",
              "49999                    8   petrol     renault               NaN  2016-03-15   \n",
              "50000                   10   petrol   chevrolet                no  2016-03-22   \n",
              "\n",
              "       postalCode            lastSeen  \n",
              "0           20257 2016-07-04 04:44:00  \n",
              "1           88045 2016-03-26 13:17:00  \n",
              "2           27449 2016-01-04 08:40:00  \n",
              "3           34537 2016-07-04 04:44:00  \n",
              "4           55270 2016-01-04 23:18:00  \n",
              "...           ...                 ...  \n",
              "49996       29690 2016-05-04 15:16:00  \n",
              "49997       50181 2016-07-04 11:45:00  \n",
              "49998       86956 2016-03-25 06:17:00  \n",
              "49999       65232 2016-06-04 17:15:00  \n",
              "50000        7973 2016-05-04 21:15:00  \n",
              "\n",
              "[50001 rows x 19 columns]"
            ],
            "text/html": [
              "\n",
              "  <div id=\"df-297dd266-0541-480e-8381-823f05ff9914\">\n",
              "    <div class=\"colab-df-container\">\n",
              "      <div>\n",
              "<style scoped>\n",
              "    .dataframe tbody tr th:only-of-type {\n",
              "        vertical-align: middle;\n",
              "    }\n",
              "\n",
              "    .dataframe tbody tr th {\n",
              "        vertical-align: top;\n",
              "    }\n",
              "\n",
              "    .dataframe thead th {\n",
              "        text-align: right;\n",
              "    }\n",
              "</style>\n",
              "<table border=\"1\" class=\"dataframe\">\n",
              "  <thead>\n",
              "    <tr style=\"text-align: right;\">\n",
              "      <th></th>\n",
              "      <th>dateCrawled</th>\n",
              "      <th>name</th>\n",
              "      <th>seller</th>\n",
              "      <th>offerType</th>\n",
              "      <th>price</th>\n",
              "      <th>abtest</th>\n",
              "      <th>vehicleType</th>\n",
              "      <th>yearOfRegistration</th>\n",
              "      <th>gearbox</th>\n",
              "      <th>powerPS</th>\n",
              "      <th>model</th>\n",
              "      <th>kilometer</th>\n",
              "      <th>monthOfRegistration</th>\n",
              "      <th>fuelType</th>\n",
              "      <th>brand</th>\n",
              "      <th>notRepairedDamage</th>\n",
              "      <th>dateCreated</th>\n",
              "      <th>postalCode</th>\n",
              "      <th>lastSeen</th>\n",
              "    </tr>\n",
              "  </thead>\n",
              "  <tbody>\n",
              "    <tr>\n",
              "      <th>0</th>\n",
              "      <td>2016-03-30 13:51:00</td>\n",
              "      <td>Zu_verkaufen</td>\n",
              "      <td>private</td>\n",
              "      <td>offer</td>\n",
              "      <td>4450</td>\n",
              "      <td>test</td>\n",
              "      <td>limousine</td>\n",
              "      <td>2003</td>\n",
              "      <td>manual</td>\n",
              "      <td>150</td>\n",
              "      <td>3er</td>\n",
              "      <td>150000</td>\n",
              "      <td>3</td>\n",
              "      <td>diesel</td>\n",
              "      <td>bmw</td>\n",
              "      <td>NaN</td>\n",
              "      <td>2016-03-30</td>\n",
              "      <td>20257</td>\n",
              "      <td>2016-07-04 04:44:00</td>\n",
              "    </tr>\n",
              "    <tr>\n",
              "      <th>1</th>\n",
              "      <td>2016-07-03 09:54:00</td>\n",
              "      <td>Volvo_XC90_2.4D_Summum</td>\n",
              "      <td>private</td>\n",
              "      <td>offer</td>\n",
              "      <td>13299</td>\n",
              "      <td>control</td>\n",
              "      <td>suv</td>\n",
              "      <td>2005</td>\n",
              "      <td>manual</td>\n",
              "      <td>163</td>\n",
              "      <td>xc_reihe</td>\n",
              "      <td>150000</td>\n",
              "      <td>6</td>\n",
              "      <td>diesel</td>\n",
              "      <td>volvo</td>\n",
              "      <td>no</td>\n",
              "      <td>2016-07-03</td>\n",
              "      <td>88045</td>\n",
              "      <td>2016-03-26 13:17:00</td>\n",
              "    </tr>\n",
              "    <tr>\n",
              "      <th>2</th>\n",
              "      <td>2016-01-04 00:57:00</td>\n",
              "      <td>Volkswagen_Touran</td>\n",
              "      <td>private</td>\n",
              "      <td>offer</td>\n",
              "      <td>3200</td>\n",
              "      <td>test</td>\n",
              "      <td>bus</td>\n",
              "      <td>2003</td>\n",
              "      <td>manual</td>\n",
              "      <td>101</td>\n",
              "      <td>touran</td>\n",
              "      <td>150000</td>\n",
              "      <td>11</td>\n",
              "      <td>diesel</td>\n",
              "      <td>volkswagen</td>\n",
              "      <td>NaN</td>\n",
              "      <td>2016-03-31</td>\n",
              "      <td>27449</td>\n",
              "      <td>2016-01-04 08:40:00</td>\n",
              "    </tr>\n",
              "    <tr>\n",
              "      <th>3</th>\n",
              "      <td>2016-03-19 17:50:00</td>\n",
              "      <td>Seat_Ibiza_1.4_16V_Reference</td>\n",
              "      <td>private</td>\n",
              "      <td>offer</td>\n",
              "      <td>4500</td>\n",
              "      <td>control</td>\n",
              "      <td>small car</td>\n",
              "      <td>2006</td>\n",
              "      <td>manual</td>\n",
              "      <td>86</td>\n",
              "      <td>ibiza</td>\n",
              "      <td>60000</td>\n",
              "      <td>12</td>\n",
              "      <td>petrol</td>\n",
              "      <td>seat</td>\n",
              "      <td>no</td>\n",
              "      <td>2016-03-19</td>\n",
              "      <td>34537</td>\n",
              "      <td>2016-07-04 04:44:00</td>\n",
              "    </tr>\n",
              "    <tr>\n",
              "      <th>4</th>\n",
              "      <td>2016-03-16 14:51:00</td>\n",
              "      <td>Volvo_XC90_D5_Aut._RDesign_R_Design_AWD_GSHD_S...</td>\n",
              "      <td>private</td>\n",
              "      <td>offer</td>\n",
              "      <td>18750</td>\n",
              "      <td>test</td>\n",
              "      <td>suv</td>\n",
              "      <td>2008</td>\n",
              "      <td>automatic</td>\n",
              "      <td>185</td>\n",
              "      <td>xc_reihe</td>\n",
              "      <td>150000</td>\n",
              "      <td>11</td>\n",
              "      <td>diesel</td>\n",
              "      <td>volvo</td>\n",
              "      <td>no</td>\n",
              "      <td>2016-03-16</td>\n",
              "      <td>55270</td>\n",
              "      <td>2016-01-04 23:18:00</td>\n",
              "    </tr>\n",
              "    <tr>\n",
              "      <th>...</th>\n",
              "      <td>...</td>\n",
              "      <td>...</td>\n",
              "      <td>...</td>\n",
              "      <td>...</td>\n",
              "      <td>...</td>\n",
              "      <td>...</td>\n",
              "      <td>...</td>\n",
              "      <td>...</td>\n",
              "      <td>...</td>\n",
              "      <td>...</td>\n",
              "      <td>...</td>\n",
              "      <td>...</td>\n",
              "      <td>...</td>\n",
              "      <td>...</td>\n",
              "      <td>...</td>\n",
              "      <td>...</td>\n",
              "      <td>...</td>\n",
              "      <td>...</td>\n",
              "      <td>...</td>\n",
              "    </tr>\n",
              "    <tr>\n",
              "      <th>49996</th>\n",
              "      <td>2016-03-04 15:48:00</td>\n",
              "      <td>Suche_VW_T5_Multivan</td>\n",
              "      <td>private</td>\n",
              "      <td>request</td>\n",
              "      <td>0</td>\n",
              "      <td>test</td>\n",
              "      <td>bus</td>\n",
              "      <td>2005</td>\n",
              "      <td>NaN</td>\n",
              "      <td>0</td>\n",
              "      <td>transporter</td>\n",
              "      <td>150000</td>\n",
              "      <td>0</td>\n",
              "      <td>NaN</td>\n",
              "      <td>volkswagen</td>\n",
              "      <td>NaN</td>\n",
              "      <td>2016-03-04</td>\n",
              "      <td>29690</td>\n",
              "      <td>2016-05-04 15:16:00</td>\n",
              "    </tr>\n",
              "    <tr>\n",
              "      <th>49997</th>\n",
              "      <td>2016-03-27 14:55:00</td>\n",
              "      <td>Suche_einen_originalen_VW_Golf_2_Fire_and_Ice_G60</td>\n",
              "      <td>private</td>\n",
              "      <td>request</td>\n",
              "      <td>19999</td>\n",
              "      <td>control</td>\n",
              "      <td>NaN</td>\n",
              "      <td>1990</td>\n",
              "      <td>NaN</td>\n",
              "      <td>0</td>\n",
              "      <td>golf</td>\n",
              "      <td>5000</td>\n",
              "      <td>0</td>\n",
              "      <td>NaN</td>\n",
              "      <td>volkswagen</td>\n",
              "      <td>NaN</td>\n",
              "      <td>2016-03-27</td>\n",
              "      <td>50181</td>\n",
              "      <td>2016-07-04 11:45:00</td>\n",
              "    </tr>\n",
              "    <tr>\n",
              "      <th>49998</th>\n",
              "      <td>2016-03-14 18:51:00</td>\n",
              "      <td>[SUCHE]_BMW_e46_Coupe_330ci_M_Paket_Facelift__...</td>\n",
              "      <td>private</td>\n",
              "      <td>request</td>\n",
              "      <td>0</td>\n",
              "      <td>test</td>\n",
              "      <td>coupe</td>\n",
              "      <td>2004</td>\n",
              "      <td>manual</td>\n",
              "      <td>0</td>\n",
              "      <td>3er</td>\n",
              "      <td>150000</td>\n",
              "      <td>1</td>\n",
              "      <td>petrol</td>\n",
              "      <td>bmw</td>\n",
              "      <td>no</td>\n",
              "      <td>2016-03-14</td>\n",
              "      <td>86956</td>\n",
              "      <td>2016-03-25 06:17:00</td>\n",
              "    </tr>\n",
              "    <tr>\n",
              "      <th>49999</th>\n",
              "      <td>2016-03-15 18:06:00</td>\n",
              "      <td>Verkaufe_mehrere_Fahrzeuge_zum_Verschrotten</td>\n",
              "      <td>commercial</td>\n",
              "      <td>offer</td>\n",
              "      <td>100</td>\n",
              "      <td>control</td>\n",
              "      <td>station wagon</td>\n",
              "      <td>2000</td>\n",
              "      <td>manual</td>\n",
              "      <td>0</td>\n",
              "      <td>megane</td>\n",
              "      <td>150000</td>\n",
              "      <td>8</td>\n",
              "      <td>petrol</td>\n",
              "      <td>renault</td>\n",
              "      <td>NaN</td>\n",
              "      <td>2016-03-15</td>\n",
              "      <td>65232</td>\n",
              "      <td>2016-06-04 17:15:00</td>\n",
              "    </tr>\n",
              "    <tr>\n",
              "      <th>50000</th>\n",
              "      <td>2016-03-22 09:54:00</td>\n",
              "      <td>Chevrolet_Matiz_1.Hd_TÜV11/2017</td>\n",
              "      <td>commercial</td>\n",
              "      <td>offer</td>\n",
              "      <td>1100</td>\n",
              "      <td>test</td>\n",
              "      <td>small car</td>\n",
              "      <td>2006</td>\n",
              "      <td>manual</td>\n",
              "      <td>38</td>\n",
              "      <td>matiz</td>\n",
              "      <td>150000</td>\n",
              "      <td>10</td>\n",
              "      <td>petrol</td>\n",
              "      <td>chevrolet</td>\n",
              "      <td>no</td>\n",
              "      <td>2016-03-22</td>\n",
              "      <td>7973</td>\n",
              "      <td>2016-05-04 21:15:00</td>\n",
              "    </tr>\n",
              "  </tbody>\n",
              "</table>\n",
              "<p>50001 rows × 19 columns</p>\n",
              "</div>\n",
              "      <button class=\"colab-df-convert\" onclick=\"convertToInteractive('df-297dd266-0541-480e-8381-823f05ff9914')\"\n",
              "              title=\"Convert this dataframe to an interactive table.\"\n",
              "              style=\"display:none;\">\n",
              "        \n",
              "  <svg xmlns=\"http://www.w3.org/2000/svg\" height=\"24px\"viewBox=\"0 0 24 24\"\n",
              "       width=\"24px\">\n",
              "    <path d=\"M0 0h24v24H0V0z\" fill=\"none\"/>\n",
              "    <path d=\"M18.56 5.44l.94 2.06.94-2.06 2.06-.94-2.06-.94-.94-2.06-.94 2.06-2.06.94zm-11 1L8.5 8.5l.94-2.06 2.06-.94-2.06-.94L8.5 2.5l-.94 2.06-2.06.94zm10 10l.94 2.06.94-2.06 2.06-.94-2.06-.94-.94-2.06-.94 2.06-2.06.94z\"/><path d=\"M17.41 7.96l-1.37-1.37c-.4-.4-.92-.59-1.43-.59-.52 0-1.04.2-1.43.59L10.3 9.45l-7.72 7.72c-.78.78-.78 2.05 0 2.83L4 21.41c.39.39.9.59 1.41.59.51 0 1.02-.2 1.41-.59l7.78-7.78 2.81-2.81c.8-.78.8-2.07 0-2.86zM5.41 20L4 18.59l7.72-7.72 1.47 1.35L5.41 20z\"/>\n",
              "  </svg>\n",
              "      </button>\n",
              "      \n",
              "  <style>\n",
              "    .colab-df-container {\n",
              "      display:flex;\n",
              "      flex-wrap:wrap;\n",
              "      gap: 12px;\n",
              "    }\n",
              "\n",
              "    .colab-df-convert {\n",
              "      background-color: #E8F0FE;\n",
              "      border: none;\n",
              "      border-radius: 50%;\n",
              "      cursor: pointer;\n",
              "      display: none;\n",
              "      fill: #1967D2;\n",
              "      height: 32px;\n",
              "      padding: 0 0 0 0;\n",
              "      width: 32px;\n",
              "    }\n",
              "\n",
              "    .colab-df-convert:hover {\n",
              "      background-color: #E2EBFA;\n",
              "      box-shadow: 0px 1px 2px rgba(60, 64, 67, 0.3), 0px 1px 3px 1px rgba(60, 64, 67, 0.15);\n",
              "      fill: #174EA6;\n",
              "    }\n",
              "\n",
              "    [theme=dark] .colab-df-convert {\n",
              "      background-color: #3B4455;\n",
              "      fill: #D2E3FC;\n",
              "    }\n",
              "\n",
              "    [theme=dark] .colab-df-convert:hover {\n",
              "      background-color: #434B5C;\n",
              "      box-shadow: 0px 1px 3px 1px rgba(0, 0, 0, 0.15);\n",
              "      filter: drop-shadow(0px 1px 2px rgba(0, 0, 0, 0.3));\n",
              "      fill: #FFFFFF;\n",
              "    }\n",
              "  </style>\n",
              "\n",
              "      <script>\n",
              "        const buttonEl =\n",
              "          document.querySelector('#df-297dd266-0541-480e-8381-823f05ff9914 button.colab-df-convert');\n",
              "        buttonEl.style.display =\n",
              "          google.colab.kernel.accessAllowed ? 'block' : 'none';\n",
              "\n",
              "        async function convertToInteractive(key) {\n",
              "          const element = document.querySelector('#df-297dd266-0541-480e-8381-823f05ff9914');\n",
              "          const dataTable =\n",
              "            await google.colab.kernel.invokeFunction('convertToInteractive',\n",
              "                                                     [key], {});\n",
              "          if (!dataTable) return;\n",
              "\n",
              "          const docLinkHtml = 'Like what you see? Visit the ' +\n",
              "            '<a target=\"_blank\" href=https://colab.research.google.com/notebooks/data_table.ipynb>data table notebook</a>'\n",
              "            + ' to learn more about interactive tables.';\n",
              "          element.innerHTML = '';\n",
              "          dataTable['output_type'] = 'display_data';\n",
              "          await google.colab.output.renderOutput(dataTable, element);\n",
              "          const docLink = document.createElement('div');\n",
              "          docLink.innerHTML = docLinkHtml;\n",
              "          element.appendChild(docLink);\n",
              "        }\n",
              "      </script>\n",
              "    </div>\n",
              "  </div>\n",
              "  "
            ]
          },
          "metadata": {},
          "execution_count": 46
        }
      ]
    },
    {
      "cell_type": "markdown",
      "source": [
        "**Задание 2**\n",
        "\n",
        "Сделайте описательную статистику: размер, типы переменных, пустые значения, уникальные имена и т.д."
      ],
      "metadata": {
        "id": "9psawFE5VxJE"
      }
    },
    {
      "cell_type": "markdown",
      "source": [
        "Размерность"
      ],
      "metadata": {
        "id": "ydyOu90aWCU6"
      }
    },
    {
      "cell_type": "code",
      "source": [
        "df.shape"
      ],
      "metadata": {
        "colab": {
          "base_uri": "https://localhost:8080/"
        },
        "id": "hnVJxJruVy03",
        "outputId": "8aa3a6ff-4b9d-4309-f35c-747e3ae544f6"
      },
      "execution_count": null,
      "outputs": [
        {
          "output_type": "execute_result",
          "data": {
            "text/plain": [
              "(50001, 19)"
            ]
          },
          "metadata": {},
          "execution_count": 47
        }
      ]
    },
    {
      "cell_type": "code",
      "source": [
        "df.columns"
      ],
      "metadata": {
        "colab": {
          "base_uri": "https://localhost:8080/"
        },
        "id": "huuM7Z9XV665",
        "outputId": "eacaa743-9db6-4546-ee18-a1e1b359c329"
      },
      "execution_count": null,
      "outputs": [
        {
          "output_type": "execute_result",
          "data": {
            "text/plain": [
              "Index(['dateCrawled', 'name', 'seller', 'offerType', 'price', 'abtest',\n",
              "       'vehicleType', 'yearOfRegistration', 'gearbox', 'powerPS', 'model',\n",
              "       'kilometer', 'monthOfRegistration', 'fuelType', 'brand',\n",
              "       'notRepairedDamage', 'dateCreated', 'postalCode', 'lastSeen'],\n",
              "      dtype='object')"
            ]
          },
          "metadata": {},
          "execution_count": 48
        }
      ]
    },
    {
      "cell_type": "markdown",
      "source": [
        "Типы данных"
      ],
      "metadata": {
        "id": "0OxRtFtWWFHA"
      }
    },
    {
      "cell_type": "code",
      "source": [
        "df.dtypes"
      ],
      "metadata": {
        "colab": {
          "base_uri": "https://localhost:8080/"
        },
        "id": "uRYNHMNXWHqP",
        "outputId": "8f9c7824-07cd-4b82-e4d3-f1825338ddf7"
      },
      "execution_count": null,
      "outputs": [
        {
          "output_type": "execute_result",
          "data": {
            "text/plain": [
              "dateCrawled            datetime64[ns]\n",
              "name                           object\n",
              "seller                         object\n",
              "offerType                      object\n",
              "price                           int64\n",
              "abtest                         object\n",
              "vehicleType                    object\n",
              "yearOfRegistration              int64\n",
              "gearbox                        object\n",
              "powerPS                         int64\n",
              "model                          object\n",
              "kilometer                       int64\n",
              "monthOfRegistration             int64\n",
              "fuelType                       object\n",
              "brand                          object\n",
              "notRepairedDamage              object\n",
              "dateCreated            datetime64[ns]\n",
              "postalCode                      int64\n",
              "lastSeen               datetime64[ns]\n",
              "dtype: object"
            ]
          },
          "metadata": {},
          "execution_count": 49
        }
      ]
    },
    {
      "cell_type": "code",
      "source": [
        "df.info()"
      ],
      "metadata": {
        "colab": {
          "base_uri": "https://localhost:8080/"
        },
        "id": "ij2SDdDXWLsn",
        "outputId": "14b221f5-37f1-488c-8939-30c2ed6a96c0"
      },
      "execution_count": null,
      "outputs": [
        {
          "output_type": "stream",
          "name": "stdout",
          "text": [
            "<class 'pandas.core.frame.DataFrame'>\n",
            "RangeIndex: 50001 entries, 0 to 50000\n",
            "Data columns (total 19 columns):\n",
            " #   Column               Non-Null Count  Dtype         \n",
            "---  ------               --------------  -----         \n",
            " 0   dateCrawled          50001 non-null  datetime64[ns]\n",
            " 1   name                 50001 non-null  object        \n",
            " 2   seller               50001 non-null  object        \n",
            " 3   offerType            50001 non-null  object        \n",
            " 4   price                50001 non-null  int64         \n",
            " 5   abtest               50001 non-null  object        \n",
            " 6   vehicleType          44813 non-null  object        \n",
            " 7   yearOfRegistration   50001 non-null  int64         \n",
            " 8   gearbox              47177 non-null  object        \n",
            " 9   powerPS              50001 non-null  int64         \n",
            " 10  model                47243 non-null  object        \n",
            " 11  kilometer            50001 non-null  int64         \n",
            " 12  monthOfRegistration  50001 non-null  int64         \n",
            " 13  fuelType             45498 non-null  object        \n",
            " 14  brand                50001 non-null  object        \n",
            " 15  notRepairedDamage    40285 non-null  object        \n",
            " 16  dateCreated          50001 non-null  datetime64[ns]\n",
            " 17  postalCode           50001 non-null  int64         \n",
            " 18  lastSeen             50001 non-null  datetime64[ns]\n",
            "dtypes: datetime64[ns](3), int64(6), object(10)\n",
            "memory usage: 7.2+ MB\n"
          ]
        }
      ]
    },
    {
      "cell_type": "markdown",
      "source": [
        "Описательная статистика"
      ],
      "metadata": {
        "id": "JVAjcXkwWQoO"
      }
    },
    {
      "cell_type": "code",
      "source": [
        "df.describe()"
      ],
      "metadata": {
        "colab": {
          "base_uri": "https://localhost:8080/",
          "height": 300
        },
        "id": "k9fynthBWQL4",
        "outputId": "9bc0477a-637b-430e-d009-e073ffff48c7"
      },
      "execution_count": null,
      "outputs": [
        {
          "output_type": "execute_result",
          "data": {
            "text/plain": [
              "              price  yearOfRegistration       powerPS      kilometer  \\\n",
              "count  5.000100e+04        50001.000000  50001.000000   50001.000000   \n",
              "mean   6.559865e+03         2005.544229    116.496130  125613.687726   \n",
              "std    8.581847e+04          122.991832    230.567709   40205.234483   \n",
              "min    0.000000e+00         1000.000000      0.000000    5000.000000   \n",
              "25%    1.150000e+03         1999.000000     69.000000  125000.000000   \n",
              "50%    2.950000e+03         2003.000000    105.000000  150000.000000   \n",
              "75%    7.190000e+03         2008.000000    150.000000  150000.000000   \n",
              "max    1.234568e+07         9999.000000  19312.000000  150000.000000   \n",
              "\n",
              "       monthOfRegistration    postalCode  \n",
              "count         50001.000000  50001.000000  \n",
              "mean              5.743725  50775.216696  \n",
              "std               3.711345  25743.701933  \n",
              "min               0.000000   1067.000000  \n",
              "25%               3.000000  30559.000000  \n",
              "50%               6.000000  49504.000000  \n",
              "75%               9.000000  71404.000000  \n",
              "max              12.000000  99998.000000  "
            ],
            "text/html": [
              "\n",
              "  <div id=\"df-82432aed-f036-41d6-bcd5-b54078a4fd1e\">\n",
              "    <div class=\"colab-df-container\">\n",
              "      <div>\n",
              "<style scoped>\n",
              "    .dataframe tbody tr th:only-of-type {\n",
              "        vertical-align: middle;\n",
              "    }\n",
              "\n",
              "    .dataframe tbody tr th {\n",
              "        vertical-align: top;\n",
              "    }\n",
              "\n",
              "    .dataframe thead th {\n",
              "        text-align: right;\n",
              "    }\n",
              "</style>\n",
              "<table border=\"1\" class=\"dataframe\">\n",
              "  <thead>\n",
              "    <tr style=\"text-align: right;\">\n",
              "      <th></th>\n",
              "      <th>price</th>\n",
              "      <th>yearOfRegistration</th>\n",
              "      <th>powerPS</th>\n",
              "      <th>kilometer</th>\n",
              "      <th>monthOfRegistration</th>\n",
              "      <th>postalCode</th>\n",
              "    </tr>\n",
              "  </thead>\n",
              "  <tbody>\n",
              "    <tr>\n",
              "      <th>count</th>\n",
              "      <td>5.000100e+04</td>\n",
              "      <td>50001.000000</td>\n",
              "      <td>50001.000000</td>\n",
              "      <td>50001.000000</td>\n",
              "      <td>50001.000000</td>\n",
              "      <td>50001.000000</td>\n",
              "    </tr>\n",
              "    <tr>\n",
              "      <th>mean</th>\n",
              "      <td>6.559865e+03</td>\n",
              "      <td>2005.544229</td>\n",
              "      <td>116.496130</td>\n",
              "      <td>125613.687726</td>\n",
              "      <td>5.743725</td>\n",
              "      <td>50775.216696</td>\n",
              "    </tr>\n",
              "    <tr>\n",
              "      <th>std</th>\n",
              "      <td>8.581847e+04</td>\n",
              "      <td>122.991832</td>\n",
              "      <td>230.567709</td>\n",
              "      <td>40205.234483</td>\n",
              "      <td>3.711345</td>\n",
              "      <td>25743.701933</td>\n",
              "    </tr>\n",
              "    <tr>\n",
              "      <th>min</th>\n",
              "      <td>0.000000e+00</td>\n",
              "      <td>1000.000000</td>\n",
              "      <td>0.000000</td>\n",
              "      <td>5000.000000</td>\n",
              "      <td>0.000000</td>\n",
              "      <td>1067.000000</td>\n",
              "    </tr>\n",
              "    <tr>\n",
              "      <th>25%</th>\n",
              "      <td>1.150000e+03</td>\n",
              "      <td>1999.000000</td>\n",
              "      <td>69.000000</td>\n",
              "      <td>125000.000000</td>\n",
              "      <td>3.000000</td>\n",
              "      <td>30559.000000</td>\n",
              "    </tr>\n",
              "    <tr>\n",
              "      <th>50%</th>\n",
              "      <td>2.950000e+03</td>\n",
              "      <td>2003.000000</td>\n",
              "      <td>105.000000</td>\n",
              "      <td>150000.000000</td>\n",
              "      <td>6.000000</td>\n",
              "      <td>49504.000000</td>\n",
              "    </tr>\n",
              "    <tr>\n",
              "      <th>75%</th>\n",
              "      <td>7.190000e+03</td>\n",
              "      <td>2008.000000</td>\n",
              "      <td>150.000000</td>\n",
              "      <td>150000.000000</td>\n",
              "      <td>9.000000</td>\n",
              "      <td>71404.000000</td>\n",
              "    </tr>\n",
              "    <tr>\n",
              "      <th>max</th>\n",
              "      <td>1.234568e+07</td>\n",
              "      <td>9999.000000</td>\n",
              "      <td>19312.000000</td>\n",
              "      <td>150000.000000</td>\n",
              "      <td>12.000000</td>\n",
              "      <td>99998.000000</td>\n",
              "    </tr>\n",
              "  </tbody>\n",
              "</table>\n",
              "</div>\n",
              "      <button class=\"colab-df-convert\" onclick=\"convertToInteractive('df-82432aed-f036-41d6-bcd5-b54078a4fd1e')\"\n",
              "              title=\"Convert this dataframe to an interactive table.\"\n",
              "              style=\"display:none;\">\n",
              "        \n",
              "  <svg xmlns=\"http://www.w3.org/2000/svg\" height=\"24px\"viewBox=\"0 0 24 24\"\n",
              "       width=\"24px\">\n",
              "    <path d=\"M0 0h24v24H0V0z\" fill=\"none\"/>\n",
              "    <path d=\"M18.56 5.44l.94 2.06.94-2.06 2.06-.94-2.06-.94-.94-2.06-.94 2.06-2.06.94zm-11 1L8.5 8.5l.94-2.06 2.06-.94-2.06-.94L8.5 2.5l-.94 2.06-2.06.94zm10 10l.94 2.06.94-2.06 2.06-.94-2.06-.94-.94-2.06-.94 2.06-2.06.94z\"/><path d=\"M17.41 7.96l-1.37-1.37c-.4-.4-.92-.59-1.43-.59-.52 0-1.04.2-1.43.59L10.3 9.45l-7.72 7.72c-.78.78-.78 2.05 0 2.83L4 21.41c.39.39.9.59 1.41.59.51 0 1.02-.2 1.41-.59l7.78-7.78 2.81-2.81c.8-.78.8-2.07 0-2.86zM5.41 20L4 18.59l7.72-7.72 1.47 1.35L5.41 20z\"/>\n",
              "  </svg>\n",
              "      </button>\n",
              "      \n",
              "  <style>\n",
              "    .colab-df-container {\n",
              "      display:flex;\n",
              "      flex-wrap:wrap;\n",
              "      gap: 12px;\n",
              "    }\n",
              "\n",
              "    .colab-df-convert {\n",
              "      background-color: #E8F0FE;\n",
              "      border: none;\n",
              "      border-radius: 50%;\n",
              "      cursor: pointer;\n",
              "      display: none;\n",
              "      fill: #1967D2;\n",
              "      height: 32px;\n",
              "      padding: 0 0 0 0;\n",
              "      width: 32px;\n",
              "    }\n",
              "\n",
              "    .colab-df-convert:hover {\n",
              "      background-color: #E2EBFA;\n",
              "      box-shadow: 0px 1px 2px rgba(60, 64, 67, 0.3), 0px 1px 3px 1px rgba(60, 64, 67, 0.15);\n",
              "      fill: #174EA6;\n",
              "    }\n",
              "\n",
              "    [theme=dark] .colab-df-convert {\n",
              "      background-color: #3B4455;\n",
              "      fill: #D2E3FC;\n",
              "    }\n",
              "\n",
              "    [theme=dark] .colab-df-convert:hover {\n",
              "      background-color: #434B5C;\n",
              "      box-shadow: 0px 1px 3px 1px rgba(0, 0, 0, 0.15);\n",
              "      filter: drop-shadow(0px 1px 2px rgba(0, 0, 0, 0.3));\n",
              "      fill: #FFFFFF;\n",
              "    }\n",
              "  </style>\n",
              "\n",
              "      <script>\n",
              "        const buttonEl =\n",
              "          document.querySelector('#df-82432aed-f036-41d6-bcd5-b54078a4fd1e button.colab-df-convert');\n",
              "        buttonEl.style.display =\n",
              "          google.colab.kernel.accessAllowed ? 'block' : 'none';\n",
              "\n",
              "        async function convertToInteractive(key) {\n",
              "          const element = document.querySelector('#df-82432aed-f036-41d6-bcd5-b54078a4fd1e');\n",
              "          const dataTable =\n",
              "            await google.colab.kernel.invokeFunction('convertToInteractive',\n",
              "                                                     [key], {});\n",
              "          if (!dataTable) return;\n",
              "\n",
              "          const docLinkHtml = 'Like what you see? Visit the ' +\n",
              "            '<a target=\"_blank\" href=https://colab.research.google.com/notebooks/data_table.ipynb>data table notebook</a>'\n",
              "            + ' to learn more about interactive tables.';\n",
              "          element.innerHTML = '';\n",
              "          dataTable['output_type'] = 'display_data';\n",
              "          await google.colab.output.renderOutput(dataTable, element);\n",
              "          const docLink = document.createElement('div');\n",
              "          docLink.innerHTML = docLinkHtml;\n",
              "          element.appendChild(docLink);\n",
              "        }\n",
              "      </script>\n",
              "    </div>\n",
              "  </div>\n",
              "  "
            ]
          },
          "metadata": {},
          "execution_count": 51
        }
      ]
    },
    {
      "cell_type": "markdown",
      "source": [
        "Пустые значения"
      ],
      "metadata": {
        "id": "OU3XnTuTWaPB"
      }
    },
    {
      "cell_type": "code",
      "source": [
        "df.isna().sum()"
      ],
      "metadata": {
        "colab": {
          "base_uri": "https://localhost:8080/"
        },
        "id": "E8tziSrrWbhp",
        "outputId": "a131debd-eab4-4886-815c-4fa3fdb504dc"
      },
      "execution_count": null,
      "outputs": [
        {
          "output_type": "execute_result",
          "data": {
            "text/plain": [
              "dateCrawled               0\n",
              "name                      0\n",
              "seller                    0\n",
              "offerType                 0\n",
              "price                     0\n",
              "abtest                    0\n",
              "vehicleType            5188\n",
              "yearOfRegistration        0\n",
              "gearbox                2824\n",
              "powerPS                   0\n",
              "model                  2758\n",
              "kilometer                 0\n",
              "monthOfRegistration       0\n",
              "fuelType               4503\n",
              "brand                     0\n",
              "notRepairedDamage      9716\n",
              "dateCreated               0\n",
              "postalCode                0\n",
              "lastSeen                  0\n",
              "dtype: int64"
            ]
          },
          "metadata": {},
          "execution_count": 52
        }
      ]
    },
    {
      "cell_type": "markdown",
      "source": [
        "**Задание 3**\n",
        "\n",
        "Поработайте с типами переменных. Все числовые значения переведите в формат int."
      ],
      "metadata": {
        "id": "BXBDn5f1Wq2k"
      }
    },
    {
      "cell_type": "markdown",
      "source": [
        "**Задание 4**\n",
        "\n",
        "Поработайте со столбцом price. Постройте гистограмму, найдите выбросы (ящиковая диаграмма), удалите аномальные значения, постарайтесь привести к нормальному распределению."
      ],
      "metadata": {
        "id": "zec5hkFcW3C-"
      }
    },
    {
      "cell_type": "code",
      "source": [
        "df[\"price\"].plot.box()\n",
        "plt.show()"
      ],
      "metadata": {
        "colab": {
          "base_uri": "https://localhost:8080/",
          "height": 276
        },
        "id": "YhdiqvoyXU3R",
        "outputId": "c963657e-ca64-4d43-d389-623be05d9e6e"
      },
      "execution_count": null,
      "outputs": [
        {
          "output_type": "display_data",
          "data": {
            "text/plain": [
              "<Figure size 432x288 with 1 Axes>"
            ],
            "image/png": "[encoded data removed]"
          },
          "metadata": {
            "needs_background": "light"
          }
        }
      ]
    },
    {
      "cell_type": "code",
      "source": [
        "for x in [\"price\"]:\n",
        "    q75,q25 = np.percentile(df.loc[:,x],[75,25])\n",
        "    intr_qr = q75-q25\n",
        "\n",
        "    max = q75+(1.5*intr_qr)\n",
        "    min = q25-(1.5*intr_qr)\n",
        "\n",
        "    df.loc[df[x] < min,x] = np.nan\n",
        "    df.loc[df[x] > max,x] = np.nan"
      ],
      "metadata": {
        "id": "zCZMQWbfXdLZ"
      },
      "execution_count": null,
      "outputs": []
    },
    {
      "cell_type": "code",
      "source": [
        "df[\"price\"].plot.box()\n",
        "plt.show()"
      ],
      "metadata": {
        "colab": {
          "base_uri": "https://localhost:8080/",
          "height": 265
        },
        "id": "nFNT3Zl1XfnP",
        "outputId": "dea4daa9-3afd-4333-99cb-273d236cfb42"
      },
      "execution_count": null,
      "outputs": [
        {
          "output_type": "display_data",
          "data": {
            "text/plain": [
              "<Figure size 432x288 with 1 Axes>"
            ],
            "image/png": "[encoded data removed]"
          },
          "metadata": {
            "needs_background": "light"
          }
        }
      ]
    },
    {
      "cell_type": "code",
      "source": [
        "df[\"price\"].hist()\n",
        "plt.show()"
      ],
      "metadata": {
        "colab": {
          "base_uri": "https://localhost:8080/",
          "height": 265
        },
        "id": "DBZOottfXlBk",
        "outputId": "e1bfe179-f33d-46e1-e0bc-5782883b14f2"
      },
      "execution_count": null,
      "outputs": [
        {
          "output_type": "display_data",
          "data": {
            "text/plain": [
              "<Figure size 432x288 with 1 Axes>"
            ],
            "image/png": "[encoded data removed]"
          },
          "metadata": {
            "needs_background": "light"
          }
        }
      ]
    },
    {
      "cell_type": "code",
      "source": [
        "df['price'] = np.log(df['price']+1)\n",
        "df['price'].hist()\n",
        "plt.show()"
      ],
      "metadata": {
        "colab": {
          "base_uri": "https://localhost:8080/",
          "height": 265
        },
        "id": "ARnbJWhRXqVW",
        "outputId": "c5aa9025-4f43-4df8-8a86-d3a0a08b81f4"
      },
      "execution_count": null,
      "outputs": [
        {
          "output_type": "display_data",
          "data": {
            "text/plain": [
              "<Figure size 432x288 with 1 Axes>"
            ],
            "image/png": "[encoded data removed]"
          },
          "metadata": {
            "needs_background": "light"
          }
        }
      ]
    },
    {
      "cell_type": "code",
      "source": [
        "df[\"price\"].isna().sum()"
      ],
      "metadata": {
        "colab": {
          "base_uri": "https://localhost:8080/"
        },
        "id": "jaMIQk0oXrpw",
        "outputId": "acefa421-de7b-44d0-90cc-0e52a64e1395"
      },
      "execution_count": null,
      "outputs": [
        {
          "output_type": "execute_result",
          "data": {
            "text/plain": [
              "3757"
            ]
          },
          "metadata": {},
          "execution_count": 58
        }
      ]
    },
    {
      "cell_type": "markdown",
      "source": [
        "**Задание 5**\n",
        "\n",
        "Аналогично поработайте и с другими «важными для целевой функции price» параметрами (powerPS, yearOfRegistration, kilometer и т.д). «Важность» докажите через коэффициент корреляции. Сделайте визуализацию."
      ],
      "metadata": {
        "id": "XkiO3dpvXwuI"
      }
    },
    {
      "cell_type": "code",
      "source": [
        "df.corr()"
      ],
      "metadata": {
        "colab": {
          "base_uri": "https://localhost:8080/",
          "height": 237
        },
        "id": "cJBV_km1XzKC",
        "outputId": "0f4e4c8e-555b-4388-8b7f-e8c26b2e9999"
      },
      "execution_count": null,
      "outputs": [
        {
          "output_type": "execute_result",
          "data": {
            "text/plain": [
              "                        price  yearOfRegistration   powerPS  kilometer  \\\n",
              "price                1.000000            0.005603  0.096838  -0.108628   \n",
              "yearOfRegistration   0.005603            1.000000 -0.004394  -0.064188   \n",
              "powerPS              0.096838           -0.004394  1.000000  -0.016447   \n",
              "kilometer           -0.108628           -0.064188 -0.016447   1.000000   \n",
              "monthOfRegistration  0.170537           -0.023152  0.034345   0.001985   \n",
              "postalCode           0.068389           -0.001615  0.017415  -0.024076   \n",
              "\n",
              "                     monthOfRegistration  postalCode  \n",
              "price                           0.170537    0.068389  \n",
              "yearOfRegistration             -0.023152   -0.001615  \n",
              "powerPS                         0.034345    0.017415  \n",
              "kilometer                       0.001985   -0.024076  \n",
              "monthOfRegistration             1.000000    0.019050  \n",
              "postalCode                      0.019050    1.000000  "
            ],
            "text/html": [
              "\n",
              "  <div id=\"df-56e2ff41-c514-4dfa-987b-79a90bc42daf\">\n",
              "    <div class=\"colab-df-container\">\n",
              "      <div>\n",
              "<style scoped>\n",
              "    .dataframe tbody tr th:only-of-type {\n",
              "        vertical-align: middle;\n",
              "    }\n",
              "\n",
              "    .dataframe tbody tr th {\n",
              "        vertical-align: top;\n",
              "    }\n",
              "\n",
              "    .dataframe thead th {\n",
              "        text-align: right;\n",
              "    }\n",
              "</style>\n",
              "<table border=\"1\" class=\"dataframe\">\n",
              "  <thead>\n",
              "    <tr style=\"text-align: right;\">\n",
              "      <th></th>\n",
              "      <th>price</th>\n",
              "      <th>yearOfRegistration</th>\n",
              "      <th>powerPS</th>\n",
              "      <th>kilometer</th>\n",
              "      <th>monthOfRegistration</th>\n",
              "      <th>postalCode</th>\n",
              "    </tr>\n",
              "  </thead>\n",
              "  <tbody>\n",
              "    <tr>\n",
              "      <th>price</th>\n",
              "      <td>1.000000</td>\n",
              "      <td>0.005603</td>\n",
              "      <td>0.096838</td>\n",
              "      <td>-0.108628</td>\n",
              "      <td>0.170537</td>\n",
              "      <td>0.068389</td>\n",
              "    </tr>\n",
              "    <tr>\n",
              "      <th>yearOfRegistration</th>\n",
              "      <td>0.005603</td>\n",
              "      <td>1.000000</td>\n",
              "      <td>-0.004394</td>\n",
              "      <td>-0.064188</td>\n",
              "      <td>-0.023152</td>\n",
              "      <td>-0.001615</td>\n",
              "    </tr>\n",
              "    <tr>\n",
              "      <th>powerPS</th>\n",
              "      <td>0.096838</td>\n",
              "      <td>-0.004394</td>\n",
              "      <td>1.000000</td>\n",
              "      <td>-0.016447</td>\n",
              "      <td>0.034345</td>\n",
              "      <td>0.017415</td>\n",
              "    </tr>\n",
              "    <tr>\n",
              "      <th>kilometer</th>\n",
              "      <td>-0.108628</td>\n",
              "      <td>-0.064188</td>\n",
              "      <td>-0.016447</td>\n",
              "      <td>1.000000</td>\n",
              "      <td>0.001985</td>\n",
              "      <td>-0.024076</td>\n",
              "    </tr>\n",
              "    <tr>\n",
              "      <th>monthOfRegistration</th>\n",
              "      <td>0.170537</td>\n",
              "      <td>-0.023152</td>\n",
              "      <td>0.034345</td>\n",
              "      <td>0.001985</td>\n",
              "      <td>1.000000</td>\n",
              "      <td>0.019050</td>\n",
              "    </tr>\n",
              "    <tr>\n",
              "      <th>postalCode</th>\n",
              "      <td>0.068389</td>\n",
              "      <td>-0.001615</td>\n",
              "      <td>0.017415</td>\n",
              "      <td>-0.024076</td>\n",
              "      <td>0.019050</td>\n",
              "      <td>1.000000</td>\n",
              "    </tr>\n",
              "  </tbody>\n",
              "</table>\n",
              "</div>\n",
              "      <button class=\"colab-df-convert\" onclick=\"convertToInteractive('df-56e2ff41-c514-4dfa-987b-79a90bc42daf')\"\n",
              "              title=\"Convert this dataframe to an interactive table.\"\n",
              "              style=\"display:none;\">\n",
              "        \n",
              "  <svg xmlns=\"http://www.w3.org/2000/svg\" height=\"24px\"viewBox=\"0 0 24 24\"\n",
              "       width=\"24px\">\n",
              "    <path d=\"M0 0h24v24H0V0z\" fill=\"none\"/>\n",
              "    <path d=\"M18.56 5.44l.94 2.06.94-2.06 2.06-.94-2.06-.94-.94-2.06-.94 2.06-2.06.94zm-11 1L8.5 8.5l.94-2.06 2.06-.94-2.06-.94L8.5 2.5l-.94 2.06-2.06.94zm10 10l.94 2.06.94-2.06 2.06-.94-2.06-.94-.94-2.06-.94 2.06-2.06.94z\"/><path d=\"M17.41 7.96l-1.37-1.37c-.4-.4-.92-.59-1.43-.59-.52 0-1.04.2-1.43.59L10.3 9.45l-7.72 7.72c-.78.78-.78 2.05 0 2.83L4 21.41c.39.39.9.59 1.41.59.51 0 1.02-.2 1.41-.59l7.78-7.78 2.81-2.81c.8-.78.8-2.07 0-2.86zM5.41 20L4 18.59l7.72-7.72 1.47 1.35L5.41 20z\"/>\n",
              "  </svg>\n",
              "      </button>\n",
              "      \n",
              "  <style>\n",
              "    .colab-df-container {\n",
              "      display:flex;\n",
              "      flex-wrap:wrap;\n",
              "      gap: 12px;\n",
              "    }\n",
              "\n",
              "    .colab-df-convert {\n",
              "      background-color: #E8F0FE;\n",
              "      border: none;\n",
              "      border-radius: 50%;\n",
              "      cursor: pointer;\n",
              "      display: none;\n",
              "      fill: #1967D2;\n",
              "      height: 32px;\n",
              "      padding: 0 0 0 0;\n",
              "      width: 32px;\n",
              "    }\n",
              "\n",
              "    .colab-df-convert:hover {\n",
              "      background-color: #E2EBFA;\n",
              "      box-shadow: 0px 1px 2px rgba(60, 64, 67, 0.3), 0px 1px 3px 1px rgba(60, 64, 67, 0.15);\n",
              "      fill: #174EA6;\n",
              "    }\n",
              "\n",
              "    [theme=dark] .colab-df-convert {\n",
              "      background-color: #3B4455;\n",
              "      fill: #D2E3FC;\n",
              "    }\n",
              "\n",
              "    [theme=dark] .colab-df-convert:hover {\n",
              "      background-color: #434B5C;\n",
              "      box-shadow: 0px 1px 3px 1px rgba(0, 0, 0, 0.15);\n",
              "      filter: drop-shadow(0px 1px 2px rgba(0, 0, 0, 0.3));\n",
              "      fill: #FFFFFF;\n",
              "    }\n",
              "  </style>\n",
              "\n",
              "      <script>\n",
              "        const buttonEl =\n",
              "          document.querySelector('#df-56e2ff41-c514-4dfa-987b-79a90bc42daf button.colab-df-convert');\n",
              "        buttonEl.style.display =\n",
              "          google.colab.kernel.accessAllowed ? 'block' : 'none';\n",
              "\n",
              "        async function convertToInteractive(key) {\n",
              "          const element = document.querySelector('#df-56e2ff41-c514-4dfa-987b-79a90bc42daf');\n",
              "          const dataTable =\n",
              "            await google.colab.kernel.invokeFunction('convertToInteractive',\n",
              "                                                     [key], {});\n",
              "          if (!dataTable) return;\n",
              "\n",
              "          const docLinkHtml = 'Like what you see? Visit the ' +\n",
              "            '<a target=\"_blank\" href=https://colab.research.google.com/notebooks/data_table.ipynb>data table notebook</a>'\n",
              "            + ' to learn more about interactive tables.';\n",
              "          element.innerHTML = '';\n",
              "          dataTable['output_type'] = 'display_data';\n",
              "          await google.colab.output.renderOutput(dataTable, element);\n",
              "          const docLink = document.createElement('div');\n",
              "          docLink.innerHTML = docLinkHtml;\n",
              "          element.appendChild(docLink);\n",
              "        }\n",
              "      </script>\n",
              "    </div>\n",
              "  </div>\n",
              "  "
            ]
          },
          "metadata": {},
          "execution_count": 59
        }
      ]
    },
    {
      "cell_type": "code",
      "source": [
        "ax = sns.heatmap(\n",
        "    df.corr(),\n",
        "    annot=True,\n",
        "    annot_kws={'size': 12},\n",
        "    vmin=-1, vmax=1, center=0,\n",
        "    square=True\n",
        ")\n",
        "ax.figure.set_size_inches(11, 11)"
      ],
      "metadata": {
        "colab": {
          "base_uri": "https://localhost:8080/",
          "height": 690
        },
        "id": "EXVAdz5WX3sY",
        "outputId": "32a58cd4-1f74-4dc5-c3ed-12c08987b3d6"
      },
      "execution_count": null,
      "outputs": [
        {
          "output_type": "display_data",
          "data": {
            "text/plain": [
              "<Figure size 792x792 with 2 Axes>"
            ],
            "image/png": "[encoded data removed]"
          },
          "metadata": {
            "needs_background": "light"
          }
        }
      ]
    },
    {
      "cell_type": "markdown",
      "source": [
        "Факторы слабо коррелируют с целевой функцией price"
      ],
      "metadata": {
        "id": "jQjXs8j-X-uX"
      }
    },
    {
      "cell_type": "markdown",
      "source": [
        "**Задание 6**\n",
        "\n",
        "Постройте ящиковые диаграммы зависимости gearbox, fuelType, vehicleType, notRepairedDamage от price. Сделайте выводы. Можно ли убрать значения с малой частотой? Повлияет ли это на дальнейшее исследование?"
      ],
      "metadata": {
        "id": "GBhms2vAYCL5"
      }
    },
    {
      "cell_type": "code",
      "source": [
        "sns.boxplot(x=df[\"gearbox\"], y=df[\"price\"])\n",
        "plt.show()"
      ],
      "metadata": {
        "colab": {
          "base_uri": "https://localhost:8080/",
          "height": 280
        },
        "id": "_D7uuNDOX_TY",
        "outputId": "e513962b-1cde-48c1-d11f-e8451148cc6f"
      },
      "execution_count": null,
      "outputs": [
        {
          "output_type": "display_data",
          "data": {
            "text/plain": [
              "<Figure size 432x288 with 1 Axes>"
            ],
            "image/png": "[encoded data removed]"
          },
          "metadata": {
            "needs_background": "light"
          }
        }
      ]
    },
    {
      "cell_type": "markdown",
      "source": [
        "Авто с автоматической коробкой передач дороже"
      ],
      "metadata": {
        "id": "V8EYWnSlZqvA"
      }
    },
    {
      "cell_type": "code",
      "source": [
        "sns.boxplot(x=df[\"fuelType\"], y=df[\"price\"])\n",
        "plt.show()"
      ],
      "metadata": {
        "colab": {
          "base_uri": "https://localhost:8080/",
          "height": 280
        },
        "id": "S2ZusE2kYKKQ",
        "outputId": "b4906773-cec6-414c-a36b-09d7a4a0feb2"
      },
      "execution_count": null,
      "outputs": [
        {
          "output_type": "display_data",
          "data": {
            "text/plain": [
              "<Figure size 432x288 with 1 Axes>"
            ],
            "image/png": "[encoded data removed]"
          },
          "metadata": {
            "needs_background": "light"
          }
        }
      ]
    },
    {
      "cell_type": "markdown",
      "source": [
        "Гибриды дороже всех остальных, бензин - самый популярный"
      ],
      "metadata": {
        "id": "eG6IiWxfZtLC"
      }
    },
    {
      "cell_type": "code",
      "source": [
        "sns.boxplot(x=df[\"vehicleType\"], y=df[\"price\"])\n",
        "plt.show()"
      ],
      "metadata": {
        "colab": {
          "base_uri": "https://localhost:8080/",
          "height": 280
        },
        "id": "gGgVkKU5YQEi",
        "outputId": "2acd310c-6d49-451c-c3e4-8b8adaaac5b9"
      },
      "execution_count": null,
      "outputs": [
        {
          "output_type": "display_data",
          "data": {
            "text/plain": [
              "<Figure size 432x288 with 1 Axes>"
            ],
            "image/png": "[encoded data removed]"
          },
          "metadata": {
            "needs_background": "light"
          }
        }
      ]
    },
    {
      "cell_type": "markdown",
      "source": [
        "Внедорожники дороже всех"
      ],
      "metadata": {
        "id": "D8FmX4SSZvjN"
      }
    },
    {
      "cell_type": "code",
      "source": [
        "sns.boxplot(x=df[\"notRepairedDamage\"], y=df[\"price\"])\n",
        "plt.show()"
      ],
      "metadata": {
        "colab": {
          "base_uri": "https://localhost:8080/",
          "height": 280
        },
        "id": "WWnsdpcvYUoN",
        "outputId": "80bf1ecb-134d-441e-ad51-4377c8ac7de4"
      },
      "execution_count": null,
      "outputs": [
        {
          "output_type": "display_data",
          "data": {
            "text/plain": [
              "<Figure size 432x288 with 1 Axes>"
            ],
            "image/png": "[encoded data removed]"
          },
          "metadata": {
            "needs_background": "light"
          }
        }
      ]
    },
    {
      "cell_type": "markdown",
      "source": [
        "**Задание 7**\n",
        "\n",
        "Найдите пропуски. Удалите столбцы, которые содержат большое количество пропусков. В остальных случаях постарайтесь восстановить пропущенные значения."
      ],
      "metadata": {
        "id": "OpvE9BIWYZF-"
      }
    },
    {
      "cell_type": "code",
      "source": [
        "df.shape"
      ],
      "metadata": {
        "colab": {
          "base_uri": "https://localhost:8080/"
        },
        "id": "1FF8OewLYbNR",
        "outputId": "ec52d40c-657b-414a-884a-ec5aa4984899"
      },
      "execution_count": null,
      "outputs": [
        {
          "output_type": "execute_result",
          "data": {
            "text/plain": [
              "(50001, 19)"
            ]
          },
          "metadata": {},
          "execution_count": 67
        }
      ]
    },
    {
      "cell_type": "code",
      "source": [
        "for i in range(50000):\n",
        "  if df['price'][i] == 0:\n",
        "    print(df['price'][i])"
      ],
      "metadata": {
        "colab": {
          "base_uri": "https://localhost:8080/",
          "height": 501
        },
        "id": "JXRoily8dLrN",
        "outputId": "e63d4a5e-e3c6-4e8d-f73b-7d859a61eda0"
      },
      "execution_count": null,
      "outputs": [
        {
          "output_type": "error",
          "ename": "KeyError",
          "evalue": "ignored",
          "traceback": [
            "\u001b[0;31m---------------------------------------------------------------------------\u001b[0m",
            "\u001b[0;31mKeyError\u001b[0m                                  Traceback (most recent call last)",
            "\u001b[0;32m/usr/local/lib/python3.8/dist-packages/pandas/core/indexes/base.py\u001b[0m in \u001b[0;36mget_loc\u001b[0;34m(self, key, method, tolerance)\u001b[0m\n\u001b[1;32m   3360\u001b[0m             \u001b[0;32mtry\u001b[0m\u001b[0;34m:\u001b[0m\u001b[0;34m\u001b[0m\u001b[0;34m\u001b[0m\u001b[0m\n\u001b[0;32m-> 3361\u001b[0;31m                 \u001b[0;32mreturn\u001b[0m \u001b[0mself\u001b[0m\u001b[0;34m.\u001b[0m\u001b[0m_engine\u001b[0m\u001b[0;34m.\u001b[0m\u001b[0mget_loc\u001b[0m\u001b[0;34m(\u001b[0m\u001b[0mcasted_key\u001b[0m\u001b[0;34m)\u001b[0m\u001b[0;34m\u001b[0m\u001b[0;34m\u001b[0m\u001b[0m\n\u001b[0m\u001b[1;32m   3362\u001b[0m             \u001b[0;32mexcept\u001b[0m \u001b[0mKeyError\u001b[0m \u001b[0;32mas\u001b[0m \u001b[0merr\u001b[0m\u001b[0;34m:\u001b[0m\u001b[0;34m\u001b[0m\u001b[0;34m\u001b[0m\u001b[0m\n",
            "\u001b[0;32m/usr/local/lib/python3.8/dist-packages/pandas/_libs/index.pyx\u001b[0m in \u001b[0;36mpandas._libs.index.IndexEngine.get_loc\u001b[0;34m()\u001b[0m\n",
            "\u001b[0;32m/usr/local/lib/python3.8/dist-packages/pandas/_libs/index.pyx\u001b[0m in \u001b[0;36mpandas._libs.index.IndexEngine.get_loc\u001b[0;34m()\u001b[0m\n",
            "\u001b[0;32mpandas/_libs/hashtable_class_helper.pxi\u001b[0m in \u001b[0;36mpandas._libs.hashtable.Int64HashTable.get_item\u001b[0;34m()\u001b[0m\n",
            "\u001b[0;32mpandas/_libs/hashtable_class_helper.pxi\u001b[0m in \u001b[0;36mpandas._libs.hashtable.Int64HashTable.get_item\u001b[0;34m()\u001b[0m\n",
            "\u001b[0;31mKeyError\u001b[0m: 0",
            "\nThe above exception was the direct cause of the following exception:\n",
            "\u001b[0;31mKeyError\u001b[0m                                  Traceback (most recent call last)",
            "\u001b[0;32m<ipython-input-85-44d4874fefdf>\u001b[0m in \u001b[0;36m<module>\u001b[0;34m\u001b[0m\n\u001b[1;32m      1\u001b[0m \u001b[0;32mfor\u001b[0m \u001b[0mi\u001b[0m \u001b[0;32min\u001b[0m \u001b[0mrange\u001b[0m\u001b[0;34m(\u001b[0m\u001b[0;36m50000\u001b[0m\u001b[0;34m)\u001b[0m\u001b[0;34m:\u001b[0m\u001b[0;34m\u001b[0m\u001b[0;34m\u001b[0m\u001b[0m\n\u001b[0;32m----> 2\u001b[0;31m   \u001b[0;32mif\u001b[0m \u001b[0mdf\u001b[0m\u001b[0;34m[\u001b[0m\u001b[0;34m'price'\u001b[0m\u001b[0;34m]\u001b[0m\u001b[0;34m[\u001b[0m\u001b[0mi\u001b[0m\u001b[0;34m]\u001b[0m \u001b[0;34m==\u001b[0m \u001b[0;36m0\u001b[0m\u001b[0;34m:\u001b[0m\u001b[0;34m\u001b[0m\u001b[0;34m\u001b[0m\u001b[0m\n\u001b[0m\u001b[1;32m      3\u001b[0m     \u001b[0mprint\u001b[0m\u001b[0;34m(\u001b[0m\u001b[0mdf\u001b[0m\u001b[0;34m[\u001b[0m\u001b[0;34m'price'\u001b[0m\u001b[0;34m]\u001b[0m\u001b[0;34m[\u001b[0m\u001b[0mi\u001b[0m\u001b[0;34m]\u001b[0m\u001b[0;34m)\u001b[0m\u001b[0;34m\u001b[0m\u001b[0;34m\u001b[0m\u001b[0m\n",
            "\u001b[0;32m/usr/local/lib/python3.8/dist-packages/pandas/core/series.py\u001b[0m in \u001b[0;36m__getitem__\u001b[0;34m(self, key)\u001b[0m\n\u001b[1;32m    940\u001b[0m \u001b[0;34m\u001b[0m\u001b[0m\n\u001b[1;32m    941\u001b[0m         \u001b[0;32melif\u001b[0m \u001b[0mkey_is_scalar\u001b[0m\u001b[0;34m:\u001b[0m\u001b[0;34m\u001b[0m\u001b[0;34m\u001b[0m\u001b[0m\n\u001b[0;32m--> 942\u001b[0;31m             \u001b[0;32mreturn\u001b[0m \u001b[0mself\u001b[0m\u001b[0;34m.\u001b[0m\u001b[0m_get_value\u001b[0m\u001b[0;34m(\u001b[0m\u001b[0mkey\u001b[0m\u001b[0;34m)\u001b[0m\u001b[0;34m\u001b[0m\u001b[0;34m\u001b[0m\u001b[0m\n\u001b[0m\u001b[1;32m    943\u001b[0m \u001b[0;34m\u001b[0m\u001b[0m\n\u001b[1;32m    944\u001b[0m         \u001b[0;32mif\u001b[0m \u001b[0mis_hashable\u001b[0m\u001b[0;34m(\u001b[0m\u001b[0mkey\u001b[0m\u001b[0;34m)\u001b[0m\u001b[0;34m:\u001b[0m\u001b[0;34m\u001b[0m\u001b[0;34m\u001b[0m\u001b[0m\n",
            "\u001b[0;32m/usr/local/lib/python3.8/dist-packages/pandas/core/series.py\u001b[0m in \u001b[0;36m_get_value\u001b[0;34m(self, label, takeable)\u001b[0m\n\u001b[1;32m   1049\u001b[0m \u001b[0;34m\u001b[0m\u001b[0m\n\u001b[1;32m   1050\u001b[0m         \u001b[0;31m# Similar to Index.get_value, but we do not fall back to positional\u001b[0m\u001b[0;34m\u001b[0m\u001b[0;34m\u001b[0m\u001b[0;34m\u001b[0m\u001b[0m\n\u001b[0;32m-> 1051\u001b[0;31m         \u001b[0mloc\u001b[0m \u001b[0;34m=\u001b[0m \u001b[0mself\u001b[0m\u001b[0;34m.\u001b[0m\u001b[0mindex\u001b[0m\u001b[0;34m.\u001b[0m\u001b[0mget_loc\u001b[0m\u001b[0;34m(\u001b[0m\u001b[0mlabel\u001b[0m\u001b[0;34m)\u001b[0m\u001b[0;34m\u001b[0m\u001b[0;34m\u001b[0m\u001b[0m\n\u001b[0m\u001b[1;32m   1052\u001b[0m         \u001b[0;32mreturn\u001b[0m \u001b[0mself\u001b[0m\u001b[0;34m.\u001b[0m\u001b[0mindex\u001b[0m\u001b[0;34m.\u001b[0m\u001b[0m_get_values_for_loc\u001b[0m\u001b[0;34m(\u001b[0m\u001b[0mself\u001b[0m\u001b[0;34m,\u001b[0m \u001b[0mloc\u001b[0m\u001b[0;34m,\u001b[0m \u001b[0mlabel\u001b[0m\u001b[0;34m)\u001b[0m\u001b[0;34m\u001b[0m\u001b[0;34m\u001b[0m\u001b[0m\n\u001b[1;32m   1053\u001b[0m \u001b[0;34m\u001b[0m\u001b[0m\n",
            "\u001b[0;32m/usr/local/lib/python3.8/dist-packages/pandas/core/indexes/base.py\u001b[0m in \u001b[0;36mget_loc\u001b[0;34m(self, key, method, tolerance)\u001b[0m\n\u001b[1;32m   3361\u001b[0m                 \u001b[0;32mreturn\u001b[0m \u001b[0mself\u001b[0m\u001b[0;34m.\u001b[0m\u001b[0m_engine\u001b[0m\u001b[0;34m.\u001b[0m\u001b[0mget_loc\u001b[0m\u001b[0;34m(\u001b[0m\u001b[0mcasted_key\u001b[0m\u001b[0;34m)\u001b[0m\u001b[0;34m\u001b[0m\u001b[0;34m\u001b[0m\u001b[0m\n\u001b[1;32m   3362\u001b[0m             \u001b[0;32mexcept\u001b[0m \u001b[0mKeyError\u001b[0m \u001b[0;32mas\u001b[0m \u001b[0merr\u001b[0m\u001b[0;34m:\u001b[0m\u001b[0;34m\u001b[0m\u001b[0;34m\u001b[0m\u001b[0m\n\u001b[0;32m-> 3363\u001b[0;31m                 \u001b[0;32mraise\u001b[0m \u001b[0mKeyError\u001b[0m\u001b[0;34m(\u001b[0m\u001b[0mkey\u001b[0m\u001b[0;34m)\u001b[0m \u001b[0;32mfrom\u001b[0m \u001b[0merr\u001b[0m\u001b[0;34m\u001b[0m\u001b[0;34m\u001b[0m\u001b[0m\n\u001b[0m\u001b[1;32m   3364\u001b[0m \u001b[0;34m\u001b[0m\u001b[0m\n\u001b[1;32m   3365\u001b[0m         \u001b[0;32mif\u001b[0m \u001b[0mis_scalar\u001b[0m\u001b[0;34m(\u001b[0m\u001b[0mkey\u001b[0m\u001b[0;34m)\u001b[0m \u001b[0;32mand\u001b[0m \u001b[0misna\u001b[0m\u001b[0;34m(\u001b[0m\u001b[0mkey\u001b[0m\u001b[0;34m)\u001b[0m \u001b[0;32mand\u001b[0m \u001b[0;32mnot\u001b[0m \u001b[0mself\u001b[0m\u001b[0;34m.\u001b[0m\u001b[0mhasnans\u001b[0m\u001b[0;34m:\u001b[0m\u001b[0;34m\u001b[0m\u001b[0;34m\u001b[0m\u001b[0m\n",
            "\u001b[0;31mKeyError\u001b[0m: 0"
          ]
        }
      ]
    },
    {
      "cell_type": "code",
      "source": [],
      "metadata": {
        "id": "Dd8XX0HKdYQ9"
      },
      "execution_count": null,
      "outputs": []
    },
    {
      "cell_type": "code",
      "source": [],
      "metadata": {
        "id": "ZiWGyHUKdVpu"
      },
      "execution_count": null,
      "outputs": []
    },
    {
      "cell_type": "code",
      "source": [
        "df.isna().sum()"
      ],
      "metadata": {
        "colab": {
          "base_uri": "https://localhost:8080/"
        },
        "id": "Jxr0Ap3nYeno",
        "outputId": "9a93bea2-7d9d-41bc-ff89-9ed15c7a0eb1"
      },
      "execution_count": null,
      "outputs": [
        {
          "output_type": "execute_result",
          "data": {
            "text/plain": [
              "dateCrawled               0\n",
              "name                      0\n",
              "seller                    0\n",
              "offerType                 0\n",
              "price                  3757\n",
              "abtest                    0\n",
              "vehicleType            5188\n",
              "yearOfRegistration        0\n",
              "gearbox                2824\n",
              "powerPS                   0\n",
              "model                  2758\n",
              "kilometer                 0\n",
              "monthOfRegistration       0\n",
              "fuelType               4503\n",
              "brand                     0\n",
              "notRepairedDamage      9716\n",
              "dateCreated               0\n",
              "postalCode                0\n",
              "lastSeen                  0\n",
              "dtype: int64"
            ]
          },
          "metadata": {},
          "execution_count": 68
        }
      ]
    },
    {
      "cell_type": "code",
      "source": [
        "df = df.dropna(subset=[\"notRepairedDamage\"])"
      ],
      "metadata": {
        "id": "LsDWSenEYir_"
      },
      "execution_count": null,
      "outputs": []
    },
    {
      "cell_type": "code",
      "source": [
        "df[\"gearbox\"] = df[\"gearbox\"].fillna(stats.mode(df[\"gearbox\"]))"
      ],
      "metadata": {
        "colab": {
          "base_uri": "https://localhost:8080/"
        },
        "id": "nu9oCQIRhI4H",
        "outputId": "ab098bff-789b-40f8-d893-59c74a02868b"
      },
      "execution_count": null,
      "outputs": [
        {
          "output_type": "stream",
          "name": "stderr",
          "text": [
            "<ipython-input-70-b494c6d95011>:1: SettingWithCopyWarning: \n",
            "A value is trying to be set on a copy of a slice from a DataFrame.\n",
            "Try using .loc[row_indexer,col_indexer] = value instead\n",
            "\n",
            "See the caveats in the documentation: https://pandas.pydata.org/pandas-docs/stable/user_guide/indexing.html#returning-a-view-versus-a-copy\n",
            "  df[\"gearbox\"] = df[\"gearbox\"].fillna(stats.mode(df[\"gearbox\"]))\n"
          ]
        }
      ]
    },
    {
      "cell_type": "code",
      "source": [
        "df['gearbox'].replace(['manual', 'automatic'],\n",
        "                        [0, 1], inplace=True)"
      ],
      "metadata": {
        "colab": {
          "base_uri": "https://localhost:8080/"
        },
        "id": "jWZR9IhwY0ru",
        "outputId": "9158f3f2-97c8-44bc-ef84-64e338898777"
      },
      "execution_count": null,
      "outputs": [
        {
          "output_type": "stream",
          "name": "stderr",
          "text": [
            "/usr/local/lib/python3.8/dist-packages/pandas/core/generic.py:6619: SettingWithCopyWarning: \n",
            "A value is trying to be set on a copy of a slice from a DataFrame\n",
            "\n",
            "See the caveats in the documentation: https://pandas.pydata.org/pandas-docs/stable/user_guide/indexing.html#returning-a-view-versus-a-copy\n",
            "  return self._update_inplace(result)\n"
          ]
        }
      ]
    },
    {
      "cell_type": "code",
      "source": [
        "df[\"vehicleType\"] = df[\"vehicleType\"].fillna(stats.mode(df[\"vehicleType\"]))"
      ],
      "metadata": {
        "colab": {
          "base_uri": "https://localhost:8080/"
        },
        "id": "oo6YS_uEd07Y",
        "outputId": "426d8e55-11d3-4985-dc36-a0ef1c58c5cb"
      },
      "execution_count": null,
      "outputs": [
        {
          "output_type": "stream",
          "name": "stderr",
          "text": [
            "<ipython-input-72-5940b28136dd>:1: SettingWithCopyWarning: \n",
            "A value is trying to be set on a copy of a slice from a DataFrame.\n",
            "Try using .loc[row_indexer,col_indexer] = value instead\n",
            "\n",
            "See the caveats in the documentation: https://pandas.pydata.org/pandas-docs/stable/user_guide/indexing.html#returning-a-view-versus-a-copy\n",
            "  df[\"vehicleType\"] = df[\"vehicleType\"].fillna(stats.mode(df[\"vehicleType\"]))\n"
          ]
        }
      ]
    },
    {
      "cell_type": "code",
      "source": [
        "df[\"fuelType\"] = df[\"fuelType\"].fillna(stats.mode(df[\"fuelType\"]))"
      ],
      "metadata": {
        "colab": {
          "base_uri": "https://localhost:8080/"
        },
        "id": "DahuBwn-d-_q",
        "outputId": "b4fdb15f-d6a0-4fd1-cde8-fa3d71ee40b9"
      },
      "execution_count": null,
      "outputs": [
        {
          "output_type": "stream",
          "name": "stderr",
          "text": [
            "<ipython-input-73-29179aea4793>:1: SettingWithCopyWarning: \n",
            "A value is trying to be set on a copy of a slice from a DataFrame.\n",
            "Try using .loc[row_indexer,col_indexer] = value instead\n",
            "\n",
            "See the caveats in the documentation: https://pandas.pydata.org/pandas-docs/stable/user_guide/indexing.html#returning-a-view-versus-a-copy\n",
            "  df[\"fuelType\"] = df[\"fuelType\"].fillna(stats.mode(df[\"fuelType\"]))\n"
          ]
        }
      ]
    },
    {
      "cell_type": "code",
      "source": [
        "df.isna().sum()"
      ],
      "metadata": {
        "colab": {
          "base_uri": "https://localhost:8080/"
        },
        "id": "diEc26oVY4PF",
        "outputId": "a8db461e-4de4-4a50-8e3e-06b23bd0e6b0"
      },
      "execution_count": null,
      "outputs": [
        {
          "output_type": "execute_result",
          "data": {
            "text/plain": [
              "dateCrawled               0\n",
              "name                      0\n",
              "seller                    0\n",
              "offerType                 0\n",
              "price                  3548\n",
              "abtest                    0\n",
              "vehicleType               0\n",
              "yearOfRegistration        0\n",
              "gearbox                   0\n",
              "powerPS                   0\n",
              "model                  1519\n",
              "kilometer                 0\n",
              "monthOfRegistration       0\n",
              "fuelType                  0\n",
              "brand                     0\n",
              "notRepairedDamage         0\n",
              "dateCreated               0\n",
              "postalCode                0\n",
              "lastSeen                  0\n",
              "dtype: int64"
            ]
          },
          "metadata": {},
          "execution_count": 74
        }
      ]
    },
    {
      "cell_type": "code",
      "source": [
        "stats.mode(df[\"model\"])"
      ],
      "metadata": {
        "colab": {
          "base_uri": "https://localhost:8080/",
          "height": 36
        },
        "id": "kSZFLRVDaD2E",
        "outputId": "b0d6f69d-f539-466a-e3e8-e32755a2e4cf"
      },
      "execution_count": null,
      "outputs": [
        {
          "output_type": "execute_result",
          "data": {
            "text/plain": [
              "'golf'"
            ],
            "application/vnd.google.colaboratory.intrinsic+json": {
              "type": "string"
            }
          },
          "metadata": {},
          "execution_count": 75
        }
      ]
    },
    {
      "cell_type": "code",
      "source": [
        "df[\"model\"] = df[\"model\"].fillna('golf')"
      ],
      "metadata": {
        "colab": {
          "base_uri": "https://localhost:8080/"
        },
        "id": "aQmwbVKTbEQ6",
        "outputId": "7fa7c9e8-288d-440e-b36c-b3335ae8b85f"
      },
      "execution_count": null,
      "outputs": [
        {
          "output_type": "stream",
          "name": "stderr",
          "text": [
            "<ipython-input-76-6390ffb7e4b5>:1: SettingWithCopyWarning: \n",
            "A value is trying to be set on a copy of a slice from a DataFrame.\n",
            "Try using .loc[row_indexer,col_indexer] = value instead\n",
            "\n",
            "See the caveats in the documentation: https://pandas.pydata.org/pandas-docs/stable/user_guide/indexing.html#returning-a-view-versus-a-copy\n",
            "  df[\"model\"] = df[\"model\"].fillna('golf')\n"
          ]
        }
      ]
    },
    {
      "cell_type": "code",
      "source": [
        "df.isna().sum()"
      ],
      "metadata": {
        "colab": {
          "base_uri": "https://localhost:8080/"
        },
        "id": "3MVPzVstbKku",
        "outputId": "b5271633-336a-47f4-b540-bbe5fbf4dfbd"
      },
      "execution_count": null,
      "outputs": [
        {
          "output_type": "execute_result",
          "data": {
            "text/plain": [
              "dateCrawled               0\n",
              "name                      0\n",
              "seller                    0\n",
              "offerType                 0\n",
              "price                  3548\n",
              "abtest                    0\n",
              "vehicleType               0\n",
              "yearOfRegistration        0\n",
              "gearbox                   0\n",
              "powerPS                   0\n",
              "model                     0\n",
              "kilometer                 0\n",
              "monthOfRegistration       0\n",
              "fuelType                  0\n",
              "brand                     0\n",
              "notRepairedDamage         0\n",
              "dateCreated               0\n",
              "postalCode                0\n",
              "lastSeen                  0\n",
              "dtype: int64"
            ]
          },
          "metadata": {},
          "execution_count": 77
        }
      ]
    },
    {
      "cell_type": "code",
      "source": [
        "df['price'] = df['price'].fillna(df['price'].mean())"
      ],
      "metadata": {
        "colab": {
          "base_uri": "https://localhost:8080/"
        },
        "id": "8t7Si_J_eVBX",
        "outputId": "a00f3de3-8bf6-455a-f423-df97d467b1dd"
      },
      "execution_count": null,
      "outputs": [
        {
          "output_type": "stream",
          "name": "stderr",
          "text": [
            "<ipython-input-78-6a1c23d09cd4>:1: SettingWithCopyWarning: \n",
            "A value is trying to be set on a copy of a slice from a DataFrame.\n",
            "Try using .loc[row_indexer,col_indexer] = value instead\n",
            "\n",
            "See the caveats in the documentation: https://pandas.pydata.org/pandas-docs/stable/user_guide/indexing.html#returning-a-view-versus-a-copy\n",
            "  df['price'] = df['price'].fillna(df['price'].mean())\n"
          ]
        }
      ]
    },
    {
      "cell_type": "code",
      "source": [
        "df.isna().sum()"
      ],
      "metadata": {
        "colab": {
          "base_uri": "https://localhost:8080/"
        },
        "id": "ZIOjkjF3efyy",
        "outputId": "9fe2a61d-eaf1-4237-96eb-68be3c73c9db"
      },
      "execution_count": null,
      "outputs": [
        {
          "output_type": "execute_result",
          "data": {
            "text/plain": [
              "dateCrawled            0\n",
              "name                   0\n",
              "seller                 0\n",
              "offerType              0\n",
              "price                  0\n",
              "abtest                 0\n",
              "vehicleType            0\n",
              "yearOfRegistration     0\n",
              "gearbox                0\n",
              "powerPS                0\n",
              "model                  0\n",
              "kilometer              0\n",
              "monthOfRegistration    0\n",
              "fuelType               0\n",
              "brand                  0\n",
              "notRepairedDamage      0\n",
              "dateCreated            0\n",
              "postalCode             0\n",
              "lastSeen               0\n",
              "dtype: int64"
            ]
          },
          "metadata": {},
          "execution_count": 79
        }
      ]
    },
    {
      "cell_type": "code",
      "source": [
        "fuel_type = pd.get_dummies(df['fuelType'], prefix='fuelType', drop_first=True)\n",
        "df = pd.concat([fuel_type, df], axis=1)\n",
        "df = df.drop('fuelType', axis=1)\n",
        "notRepairedDamage = pd.get_dummies(df['notRepairedDamage'], prefix='notRepairedDmg', drop_first=True)\n",
        "df = pd.concat([notRepairedDamage, df], axis=1)\n",
        "df = df.drop('notRepairedDamage', axis=1)"
      ],
      "metadata": {
        "id": "1SjU5iwdGA_d"
      },
      "execution_count": null,
      "outputs": []
    },
    {
      "cell_type": "markdown",
      "source": [
        "**Задание 8**\n",
        "\n",
        "Сохраните датасет и выведите его"
      ],
      "metadata": {
        "id": "2psfMmU1Y9xl"
      }
    },
    {
      "cell_type": "code",
      "source": [
        "df.head(100)"
      ],
      "metadata": {
        "colab": {
          "base_uri": "https://localhost:8080/",
          "height": 835
        },
        "id": "LLsbRycYZBcG",
        "outputId": "062885af-7e3c-40ad-c1c9-588aa42cbbf2"
      },
      "execution_count": null,
      "outputs": [
        {
          "output_type": "execute_result",
          "data": {
            "text/plain": [
              "     notRepairedDmg_yes  fuelType_diesel  fuelType_electro  fuelType_hybrid  \\\n",
              "1                     0                1                 0                0   \n",
              "3                     0                0                 0                0   \n",
              "4                     0                1                 0                0   \n",
              "5                     0                0                 0                0   \n",
              "7                     0                0                 0                0   \n",
              "..                  ...              ...               ...              ...   \n",
              "117                   0                1                 0                0   \n",
              "118                   0                0                 0                0   \n",
              "119                   0                0                 0                0   \n",
              "120                   0                0                 0                0   \n",
              "121                   0                1                 0                0   \n",
              "\n",
              "     fuelType_lpg  fuelType_other  fuelType_petrol         dateCrawled  \\\n",
              "1               0               0                0 2016-07-03 09:54:00   \n",
              "3               0               0                1 2016-03-19 17:50:00   \n",
              "4               0               0                0 2016-03-16 14:51:00   \n",
              "5               0               0                1 2016-02-04 12:51:00   \n",
              "7               0               0                1 2016-03-24 15:52:00   \n",
              "..            ...             ...              ...                 ...   \n",
              "117             0               0                0 2016-03-26 16:57:00   \n",
              "118             0               0                1 2016-03-29 13:49:00   \n",
              "119             0               0                1 2016-02-04 17:39:00   \n",
              "120             0               0                1 2016-03-18 20:44:00   \n",
              "121             0               0                0 2016-03-25 11:47:00   \n",
              "\n",
              "                                                  name   seller  ...  \\\n",
              "1                               Volvo_XC90_2.4D_Summum  private  ...   \n",
              "3                         Seat_Ibiza_1.4_16V_Reference  private  ...   \n",
              "4    Volvo_XC90_D5_Aut._RDesign_R_Design_AWD_GSHD_S...  private  ...   \n",
              "5             VW_Passat_35i_Facelift_Limousine_TÜV_Neu  private  ...   \n",
              "7                          Mercedes_Benz_CLK_Coupe_200  private  ...   \n",
              "..                                                 ...      ...  ...   \n",
              "117  Sharan_Comfortline_4M_BlueMotion_Technology_2_...  private  ...   \n",
              "118           Mercedes_Benz_C_300_7G_TRONIC_Avantgarde  private  ...   \n",
              "119                                Opel_Agila_1.0_12_V  private  ...   \n",
              "120                          Volkswagen_Touran_1.6_FSI  private  ...   \n",
              "121                        Volkswagen_Golf_1.9_TDI_DSG  private  ...   \n",
              "\n",
              "    yearOfRegistration  gearbox powerPS     model  kilometer  \\\n",
              "1                 2005        0     163  xc_reihe     150000   \n",
              "3                 2006        0      86     ibiza      60000   \n",
              "4                 2008        1     185  xc_reihe     150000   \n",
              "5                 1995        0      90    passat     150000   \n",
              "7                 1997        0     136       clk     150000   \n",
              "..                 ...      ...     ...       ...        ...   \n",
              "117               2013        0     103    sharan      40000   \n",
              "118               2010        1     231  c_klasse      70000   \n",
              "119               2003        0      58     agila     150000   \n",
              "120               2003        0     116    touran     150000   \n",
              "121               2006        1     105      golf     125000   \n",
              "\n",
              "     monthOfRegistration          brand dateCreated  postalCode  \\\n",
              "1                      6          volvo  2016-07-03       88045   \n",
              "3                     12           seat  2016-03-19       34537   \n",
              "4                     11          volvo  2016-03-16       55270   \n",
              "5                      2     volkswagen  2016-02-04       26826   \n",
              "7                     11  mercedes_benz  2016-03-24       13353   \n",
              "..                   ...            ...         ...         ...   \n",
              "117                    9     volkswagen  2016-03-26       12163   \n",
              "118                    1  mercedes_benz  2016-03-29       95189   \n",
              "119                    9           opel  2016-02-04       64807   \n",
              "120                    9     volkswagen  2016-03-18       72584   \n",
              "121                    5     volkswagen  2016-03-25       10783   \n",
              "\n",
              "               lastSeen  \n",
              "1   2016-03-26 13:17:00  \n",
              "3   2016-07-04 04:44:00  \n",
              "4   2016-01-04 23:18:00  \n",
              "5   2016-02-04 12:51:00  \n",
              "7   2016-03-27 12:45:00  \n",
              "..                  ...  \n",
              "117 2016-06-04 05:44:00  \n",
              "118 2016-05-04 23:17:00  \n",
              "119 2016-02-04 17:39:00  \n",
              "120 2016-05-04 22:47:00  \n",
              "121 2016-06-04 12:16:00  \n",
              "\n",
              "[100 rows x 24 columns]"
            ],
            "text/html": [
              "\n",
              "  <div id=\"df-14574ddf-e3f4-4825-8b9e-f6035c933146\">\n",
              "    <div class=\"colab-df-container\">\n",
              "      <div>\n",
              "<style scoped>\n",
              "    .dataframe tbody tr th:only-of-type {\n",
              "        vertical-align: middle;\n",
              "    }\n",
              "\n",
              "    .dataframe tbody tr th {\n",
              "        vertical-align: top;\n",
              "    }\n",
              "\n",
              "    .dataframe thead th {\n",
              "        text-align: right;\n",
              "    }\n",
              "</style>\n",
              "<table border=\"1\" class=\"dataframe\">\n",
              "  <thead>\n",
              "    <tr style=\"text-align: right;\">\n",
              "      <th></th>\n",
              "      <th>notRepairedDmg_yes</th>\n",
              "      <th>fuelType_diesel</th>\n",
              "      <th>fuelType_electro</th>\n",
              "      <th>fuelType_hybrid</th>\n",
              "      <th>fuelType_lpg</th>\n",
              "      <th>fuelType_other</th>\n",
              "      <th>fuelType_petrol</th>\n",
              "      <th>dateCrawled</th>\n",
              "      <th>name</th>\n",
              "      <th>seller</th>\n",
              "      <th>...</th>\n",
              "      <th>yearOfRegistration</th>\n",
              "      <th>gearbox</th>\n",
              "      <th>powerPS</th>\n",
              "      <th>model</th>\n",
              "      <th>kilometer</th>\n",
              "      <th>monthOfRegistration</th>\n",
              "      <th>brand</th>\n",
              "      <th>dateCreated</th>\n",
              "      <th>postalCode</th>\n",
              "      <th>lastSeen</th>\n",
              "    </tr>\n",
              "  </thead>\n",
              "  <tbody>\n",
              "    <tr>\n",
              "      <th>1</th>\n",
              "      <td>0</td>\n",
              "      <td>1</td>\n",
              "      <td>0</td>\n",
              "      <td>0</td>\n",
              "      <td>0</td>\n",
              "      <td>0</td>\n",
              "      <td>0</td>\n",
              "      <td>2016-07-03 09:54:00</td>\n",
              "      <td>Volvo_XC90_2.4D_Summum</td>\n",
              "      <td>private</td>\n",
              "      <td>...</td>\n",
              "      <td>2005</td>\n",
              "      <td>0</td>\n",
              "      <td>163</td>\n",
              "      <td>xc_reihe</td>\n",
              "      <td>150000</td>\n",
              "      <td>6</td>\n",
              "      <td>volvo</td>\n",
              "      <td>2016-07-03</td>\n",
              "      <td>88045</td>\n",
              "      <td>2016-03-26 13:17:00</td>\n",
              "    </tr>\n",
              "    <tr>\n",
              "      <th>3</th>\n",
              "      <td>0</td>\n",
              "      <td>0</td>\n",
              "      <td>0</td>\n",
              "      <td>0</td>\n",
              "      <td>0</td>\n",
              "      <td>0</td>\n",
              "      <td>1</td>\n",
              "      <td>2016-03-19 17:50:00</td>\n",
              "      <td>Seat_Ibiza_1.4_16V_Reference</td>\n",
              "      <td>private</td>\n",
              "      <td>...</td>\n",
              "      <td>2006</td>\n",
              "      <td>0</td>\n",
              "      <td>86</td>\n",
              "      <td>ibiza</td>\n",
              "      <td>60000</td>\n",
              "      <td>12</td>\n",
              "      <td>seat</td>\n",
              "      <td>2016-03-19</td>\n",
              "      <td>34537</td>\n",
              "      <td>2016-07-04 04:44:00</td>\n",
              "    </tr>\n",
              "    <tr>\n",
              "      <th>4</th>\n",
              "      <td>0</td>\n",
              "      <td>1</td>\n",
              "      <td>0</td>\n",
              "      <td>0</td>\n",
              "      <td>0</td>\n",
              "      <td>0</td>\n",
              "      <td>0</td>\n",
              "      <td>2016-03-16 14:51:00</td>\n",
              "      <td>Volvo_XC90_D5_Aut._RDesign_R_Design_AWD_GSHD_S...</td>\n",
              "      <td>private</td>\n",
              "      <td>...</td>\n",
              "      <td>2008</td>\n",
              "      <td>1</td>\n",
              "      <td>185</td>\n",
              "      <td>xc_reihe</td>\n",
              "      <td>150000</td>\n",
              "      <td>11</td>\n",
              "      <td>volvo</td>\n",
              "      <td>2016-03-16</td>\n",
              "      <td>55270</td>\n",
              "      <td>2016-01-04 23:18:00</td>\n",
              "    </tr>\n",
              "    <tr>\n",
              "      <th>5</th>\n",
              "      <td>0</td>\n",
              "      <td>0</td>\n",
              "      <td>0</td>\n",
              "      <td>0</td>\n",
              "      <td>0</td>\n",
              "      <td>0</td>\n",
              "      <td>1</td>\n",
              "      <td>2016-02-04 12:51:00</td>\n",
              "      <td>VW_Passat_35i_Facelift_Limousine_TÜV_Neu</td>\n",
              "      <td>private</td>\n",
              "      <td>...</td>\n",
              "      <td>1995</td>\n",
              "      <td>0</td>\n",
              "      <td>90</td>\n",
              "      <td>passat</td>\n",
              "      <td>150000</td>\n",
              "      <td>2</td>\n",
              "      <td>volkswagen</td>\n",
              "      <td>2016-02-04</td>\n",
              "      <td>26826</td>\n",
              "      <td>2016-02-04 12:51:00</td>\n",
              "    </tr>\n",
              "    <tr>\n",
              "      <th>7</th>\n",
              "      <td>0</td>\n",
              "      <td>0</td>\n",
              "      <td>0</td>\n",
              "      <td>0</td>\n",
              "      <td>0</td>\n",
              "      <td>0</td>\n",
              "      <td>1</td>\n",
              "      <td>2016-03-24 15:52:00</td>\n",
              "      <td>Mercedes_Benz_CLK_Coupe_200</td>\n",
              "      <td>private</td>\n",
              "      <td>...</td>\n",
              "      <td>1997</td>\n",
              "      <td>0</td>\n",
              "      <td>136</td>\n",
              "      <td>clk</td>\n",
              "      <td>150000</td>\n",
              "      <td>11</td>\n",
              "      <td>mercedes_benz</td>\n",
              "      <td>2016-03-24</td>\n",
              "      <td>13353</td>\n",
              "      <td>2016-03-27 12:45:00</td>\n",
              "    </tr>\n",
              "    <tr>\n",
              "      <th>...</th>\n",
              "      <td>...</td>\n",
              "      <td>...</td>\n",
              "      <td>...</td>\n",
              "      <td>...</td>\n",
              "      <td>...</td>\n",
              "      <td>...</td>\n",
              "      <td>...</td>\n",
              "      <td>...</td>\n",
              "      <td>...</td>\n",
              "      <td>...</td>\n",
              "      <td>...</td>\n",
              "      <td>...</td>\n",
              "      <td>...</td>\n",
              "      <td>...</td>\n",
              "      <td>...</td>\n",
              "      <td>...</td>\n",
              "      <td>...</td>\n",
              "      <td>...</td>\n",
              "      <td>...</td>\n",
              "      <td>...</td>\n",
              "      <td>...</td>\n",
              "    </tr>\n",
              "    <tr>\n",
              "      <th>117</th>\n",
              "      <td>0</td>\n",
              "      <td>1</td>\n",
              "      <td>0</td>\n",
              "      <td>0</td>\n",
              "      <td>0</td>\n",
              "      <td>0</td>\n",
              "      <td>0</td>\n",
              "      <td>2016-03-26 16:57:00</td>\n",
              "      <td>Sharan_Comfortline_4M_BlueMotion_Technology_2_...</td>\n",
              "      <td>private</td>\n",
              "      <td>...</td>\n",
              "      <td>2013</td>\n",
              "      <td>0</td>\n",
              "      <td>103</td>\n",
              "      <td>sharan</td>\n",
              "      <td>40000</td>\n",
              "      <td>9</td>\n",
              "      <td>volkswagen</td>\n",
              "      <td>2016-03-26</td>\n",
              "      <td>12163</td>\n",
              "      <td>2016-06-04 05:44:00</td>\n",
              "    </tr>\n",
              "    <tr>\n",
              "      <th>118</th>\n",
              "      <td>0</td>\n",
              "      <td>0</td>\n",
              "      <td>0</td>\n",
              "      <td>0</td>\n",
              "      <td>0</td>\n",
              "      <td>0</td>\n",
              "      <td>1</td>\n",
              "      <td>2016-03-29 13:49:00</td>\n",
              "      <td>Mercedes_Benz_C_300_7G_TRONIC_Avantgarde</td>\n",
              "      <td>private</td>\n",
              "      <td>...</td>\n",
              "      <td>2010</td>\n",
              "      <td>1</td>\n",
              "      <td>231</td>\n",
              "      <td>c_klasse</td>\n",
              "      <td>70000</td>\n",
              "      <td>1</td>\n",
              "      <td>mercedes_benz</td>\n",
              "      <td>2016-03-29</td>\n",
              "      <td>95189</td>\n",
              "      <td>2016-05-04 23:17:00</td>\n",
              "    </tr>\n",
              "    <tr>\n",
              "      <th>119</th>\n",
              "      <td>0</td>\n",
              "      <td>0</td>\n",
              "      <td>0</td>\n",
              "      <td>0</td>\n",
              "      <td>0</td>\n",
              "      <td>0</td>\n",
              "      <td>1</td>\n",
              "      <td>2016-02-04 17:39:00</td>\n",
              "      <td>Opel_Agila_1.0_12_V</td>\n",
              "      <td>private</td>\n",
              "      <td>...</td>\n",
              "      <td>2003</td>\n",
              "      <td>0</td>\n",
              "      <td>58</td>\n",
              "      <td>agila</td>\n",
              "      <td>150000</td>\n",
              "      <td>9</td>\n",
              "      <td>opel</td>\n",
              "      <td>2016-02-04</td>\n",
              "      <td>64807</td>\n",
              "      <td>2016-02-04 17:39:00</td>\n",
              "    </tr>\n",
              "    <tr>\n",
              "      <th>120</th>\n",
              "      <td>0</td>\n",
              "      <td>0</td>\n",
              "      <td>0</td>\n",
              "      <td>0</td>\n",
              "      <td>0</td>\n",
              "      <td>0</td>\n",
              "      <td>1</td>\n",
              "      <td>2016-03-18 20:44:00</td>\n",
              "      <td>Volkswagen_Touran_1.6_FSI</td>\n",
              "      <td>private</td>\n",
              "      <td>...</td>\n",
              "      <td>2003</td>\n",
              "      <td>0</td>\n",
              "      <td>116</td>\n",
              "      <td>touran</td>\n",
              "      <td>150000</td>\n",
              "      <td>9</td>\n",
              "      <td>volkswagen</td>\n",
              "      <td>2016-03-18</td>\n",
              "      <td>72584</td>\n",
              "      <td>2016-05-04 22:47:00</td>\n",
              "    </tr>\n",
              "    <tr>\n",
              "      <th>121</th>\n",
              "      <td>0</td>\n",
              "      <td>1</td>\n",
              "      <td>0</td>\n",
              "      <td>0</td>\n",
              "      <td>0</td>\n",
              "      <td>0</td>\n",
              "      <td>0</td>\n",
              "      <td>2016-03-25 11:47:00</td>\n",
              "      <td>Volkswagen_Golf_1.9_TDI_DSG</td>\n",
              "      <td>private</td>\n",
              "      <td>...</td>\n",
              "      <td>2006</td>\n",
              "      <td>1</td>\n",
              "      <td>105</td>\n",
              "      <td>golf</td>\n",
              "      <td>125000</td>\n",
              "      <td>5</td>\n",
              "      <td>volkswagen</td>\n",
              "      <td>2016-03-25</td>\n",
              "      <td>10783</td>\n",
              "      <td>2016-06-04 12:16:00</td>\n",
              "    </tr>\n",
              "  </tbody>\n",
              "</table>\n",
              "<p>100 rows × 24 columns</p>\n",
              "</div>\n",
              "      <button class=\"colab-df-convert\" onclick=\"convertToInteractive('df-14574ddf-e3f4-4825-8b9e-f6035c933146')\"\n",
              "              title=\"Convert this dataframe to an interactive table.\"\n",
              "              style=\"display:none;\">\n",
              "        \n",
              "  <svg xmlns=\"http://www.w3.org/2000/svg\" height=\"24px\"viewBox=\"0 0 24 24\"\n",
              "       width=\"24px\">\n",
              "    <path d=\"M0 0h24v24H0V0z\" fill=\"none\"/>\n",
              "    <path d=\"M18.56 5.44l.94 2.06.94-2.06 2.06-.94-2.06-.94-.94-2.06-.94 2.06-2.06.94zm-11 1L8.5 8.5l.94-2.06 2.06-.94-2.06-.94L8.5 2.5l-.94 2.06-2.06.94zm10 10l.94 2.06.94-2.06 2.06-.94-2.06-.94-.94-2.06-.94 2.06-2.06.94z\"/><path d=\"M17.41 7.96l-1.37-1.37c-.4-.4-.92-.59-1.43-.59-.52 0-1.04.2-1.43.59L10.3 9.45l-7.72 7.72c-.78.78-.78 2.05 0 2.83L4 21.41c.39.39.9.59 1.41.59.51 0 1.02-.2 1.41-.59l7.78-7.78 2.81-2.81c.8-.78.8-2.07 0-2.86zM5.41 20L4 18.59l7.72-7.72 1.47 1.35L5.41 20z\"/>\n",
              "  </svg>\n",
              "      </button>\n",
              "      \n",
              "  <style>\n",
              "    .colab-df-container {\n",
              "      display:flex;\n",
              "      flex-wrap:wrap;\n",
              "      gap: 12px;\n",
              "    }\n",
              "\n",
              "    .colab-df-convert {\n",
              "      background-color: #E8F0FE;\n",
              "      border: none;\n",
              "      border-radius: 50%;\n",
              "      cursor: pointer;\n",
              "      display: none;\n",
              "      fill: #1967D2;\n",
              "      height: 32px;\n",
              "      padding: 0 0 0 0;\n",
              "      width: 32px;\n",
              "    }\n",
              "\n",
              "    .colab-df-convert:hover {\n",
              "      background-color: #E2EBFA;\n",
              "      box-shadow: 0px 1px 2px rgba(60, 64, 67, 0.3), 0px 1px 3px 1px rgba(60, 64, 67, 0.15);\n",
              "      fill: #174EA6;\n",
              "    }\n",
              "\n",
              "    [theme=dark] .colab-df-convert {\n",
              "      background-color: #3B4455;\n",
              "      fill: #D2E3FC;\n",
              "    }\n",
              "\n",
              "    [theme=dark] .colab-df-convert:hover {\n",
              "      background-color: #434B5C;\n",
              "      box-shadow: 0px 1px 3px 1px rgba(0, 0, 0, 0.15);\n",
              "      filter: drop-shadow(0px 1px 2px rgba(0, 0, 0, 0.3));\n",
              "      fill: #FFFFFF;\n",
              "    }\n",
              "  </style>\n",
              "\n",
              "      <script>\n",
              "        const buttonEl =\n",
              "          document.querySelector('#df-14574ddf-e3f4-4825-8b9e-f6035c933146 button.colab-df-convert');\n",
              "        buttonEl.style.display =\n",
              "          google.colab.kernel.accessAllowed ? 'block' : 'none';\n",
              "\n",
              "        async function convertToInteractive(key) {\n",
              "          const element = document.querySelector('#df-14574ddf-e3f4-4825-8b9e-f6035c933146');\n",
              "          const dataTable =\n",
              "            await google.colab.kernel.invokeFunction('convertToInteractive',\n",
              "                                                     [key], {});\n",
              "          if (!dataTable) return;\n",
              "\n",
              "          const docLinkHtml = 'Like what you see? Visit the ' +\n",
              "            '<a target=\"_blank\" href=https://colab.research.google.com/notebooks/data_table.ipynb>data table notebook</a>'\n",
              "            + ' to learn more about interactive tables.';\n",
              "          element.innerHTML = '';\n",
              "          dataTable['output_type'] = 'display_data';\n",
              "          await google.colab.output.renderOutput(dataTable, element);\n",
              "          const docLink = document.createElement('div');\n",
              "          docLink.innerHTML = docLinkHtml;\n",
              "          element.appendChild(docLink);\n",
              "        }\n",
              "      </script>\n",
              "    </div>\n",
              "  </div>\n",
              "  "
            ]
          },
          "metadata": {},
          "execution_count": 81
        }
      ]
    },
    {
      "cell_type": "code",
      "source": [
        "df.info()"
      ],
      "metadata": {
        "colab": {
          "base_uri": "https://localhost:8080/"
        },
        "id": "Wxwa_JjZZD1Y",
        "outputId": "5c1ed947-0956-4b8d-933e-7e8b878a7aa5"
      },
      "execution_count": null,
      "outputs": [
        {
          "output_type": "stream",
          "name": "stdout",
          "text": [
            "<class 'pandas.core.frame.DataFrame'>\n",
            "Int64Index: 40285 entries, 1 to 50000\n",
            "Data columns (total 24 columns):\n",
            " #   Column               Non-Null Count  Dtype         \n",
            "---  ------               --------------  -----         \n",
            " 0   notRepairedDmg_yes   40285 non-null  uint8         \n",
            " 1   fuelType_diesel      40285 non-null  uint8         \n",
            " 2   fuelType_electro     40285 non-null  uint8         \n",
            " 3   fuelType_hybrid      40285 non-null  uint8         \n",
            " 4   fuelType_lpg         40285 non-null  uint8         \n",
            " 5   fuelType_other       40285 non-null  uint8         \n",
            " 6   fuelType_petrol      40285 non-null  uint8         \n",
            " 7   dateCrawled          40285 non-null  datetime64[ns]\n",
            " 8   name                 40285 non-null  object        \n",
            " 9   seller               40285 non-null  object        \n",
            " 10  offerType            40285 non-null  object        \n",
            " 11  price                40285 non-null  float64       \n",
            " 12  abtest               40285 non-null  object        \n",
            " 13  vehicleType          40285 non-null  object        \n",
            " 14  yearOfRegistration   40285 non-null  int64         \n",
            " 15  gearbox              40285 non-null  int64         \n",
            " 16  powerPS              40285 non-null  int64         \n",
            " 17  model                40285 non-null  object        \n",
            " 18  kilometer            40285 non-null  int64         \n",
            " 19  monthOfRegistration  40285 non-null  int64         \n",
            " 20  brand                40285 non-null  object        \n",
            " 21  dateCreated          40285 non-null  datetime64[ns]\n",
            " 22  postalCode           40285 non-null  int64         \n",
            " 23  lastSeen             40285 non-null  datetime64[ns]\n",
            "dtypes: datetime64[ns](3), float64(1), int64(6), object(7), uint8(7)\n",
            "memory usage: 5.8+ MB\n"
          ]
        }
      ]
    },
    {
      "cell_type": "code",
      "source": [
        "df.to_csv(\"./out.csv\")"
      ],
      "metadata": {
        "id": "EpsQjHTZZLld"
      },
      "execution_count": null,
      "outputs": []
    }
  ]
}