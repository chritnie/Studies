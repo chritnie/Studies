{
  "nbformat": 4,
  "nbformat_minor": 0,
  "metadata": {
    "colab": {
      "provenance": []
    },
    "kernelspec": {
      "name": "python3",
      "display_name": "Python 3"
    },
    "language_info": {
      "name": "python"
    }
  },
  "cells": [
    {
      "cell_type": "markdown",
      "source": [
        "Журавлев К. В. ПИ20-1 Лабораторная 2 ТОБД"
      ],
      "metadata": {
        "id": "AmKivV4Q5C85"
      }
    },
    {
      "cell_type": "markdown",
      "source": [
        "Задание 1"
      ],
      "metadata": {
        "id": "78LAHKNO5Gbd"
      }
    },
    {
      "cell_type": "code",
      "execution_count": null,
      "metadata": {
        "colab": {
          "base_uri": "https://localhost:8080/"
        },
        "id": "D7N--TKx4-jm",
        "outputId": "1ee70e22-88cd-4a2a-f2c6-c351b5a833fe"
      },
      "outputs": [
        {
          "output_type": "execute_result",
          "data": {
            "text/plain": [
              "[array([[  1,   2,   3,   4,   5,   6,   7],\n",
              "        [ 11,  12,  13,  14,  15,  16,  17],\n",
              "        [ 21,  22,  23,  24,  25,  26,  27],\n",
              "        [ 31,  32,  33,  34,  35,  36,  37],\n",
              "        [ 41,  42,  43,  44,  45,  46,  47],\n",
              "        [ 51,  52,  53,  54,  55,  56,  57],\n",
              "        [ 61,  62,  63,  64,  65,  66,  67],\n",
              "        [ 71,  72,  73,  74,  75,  76,  77],\n",
              "        [ 81,  82,  83,  84,  85,  86,  87],\n",
              "        [ 91,  92,  93,  94,  95,  96,  97],\n",
              "        [101, 102, 103, 104, 105, 106, 107]])]"
            ]
          },
          "metadata": {},
          "execution_count": 2
        }
      ],
      "source": [
        "import numpy as np\n",
        "[np.arange(1,8,1) + np.arange(0, 110, 10).reshape(11, 1)]"
      ]
    },
    {
      "cell_type": "markdown",
      "source": [
        "Задание 2\n"
      ],
      "metadata": {
        "id": "Hi4r5gTt8uQr"
      }
    },
    {
      "cell_type": "code",
      "source": [
        "a = np.arange(1,21,1)[1::2]\n",
        "b = np.arange(1,22,1)[2::2]\n",
        "a*b"
      ],
      "metadata": {
        "colab": {
          "base_uri": "https://localhost:8080/"
        },
        "id": "gVmiEsww8vGW",
        "outputId": "5865f49b-d127-4a79-aaf9-bfce1f97a0fd"
      },
      "execution_count": null,
      "outputs": [
        {
          "output_type": "execute_result",
          "data": {
            "text/plain": [
              "array([  6,  20,  42,  72, 110, 156, 210, 272, 342, 420])"
            ]
          },
          "metadata": {},
          "execution_count": 2
        }
      ]
    },
    {
      "cell_type": "markdown",
      "source": [
        "Задание 3\n"
      ],
      "metadata": {
        "id": "oD5p08qQ8xUs"
      }
    },
    {
      "cell_type": "code",
      "source": [
        "x = np.arange(0, 11, 1)\n",
        "t3 = x * np.sin(x)\n",
        "m = (0.5 < t3)\n",
        "m\n",
        "print(x[m])"
      ],
      "metadata": {
        "colab": {
          "base_uri": "https://localhost:8080/"
        },
        "id": "TEmjOaSj8yVP",
        "outputId": "dea37cce-c415-4ab9-e8e4-ebf1d3c184be"
      },
      "execution_count": null,
      "outputs": [
        {
          "output_type": "stream",
          "name": "stdout",
          "text": [
            "[1 2 7 8 9]\n"
          ]
        }
      ]
    },
    {
      "cell_type": "markdown",
      "source": [
        "Задание 4"
      ],
      "metadata": {
        "id": "MuF01P5S9DnL"
      }
    },
    {
      "cell_type": "code",
      "source": [
        "a = np.random.randint(0, 11, (3, 3))\n",
        "b = np.argmin(np.sum(a, axis = 1))\n",
        "print(a, a[b], b)"
      ],
      "metadata": {
        "colab": {
          "base_uri": "https://localhost:8080/"
        },
        "id": "XAqt6SQx9E66",
        "outputId": "a654fc79-f30b-4870-8a78-fe9ebb7512e8"
      },
      "execution_count": null,
      "outputs": [
        {
          "output_type": "stream",
          "name": "stdout",
          "text": [
            "[[ 2  5  9]\n",
            " [ 5  7  1]\n",
            " [10  4  0]] [5 7 1] 1\n"
          ]
        }
      ]
    },
    {
      "cell_type": "markdown",
      "source": [
        "Задание 5"
      ],
      "metadata": {
        "id": "n1YqFeRmBuEv"
      }
    },
    {
      "cell_type": "code",
      "source": [
        "a = np.random.randint(0, 10, (3, 3))\n",
        "a = np.random.randint(0, 10, (3, 3))\n",
        "res = sum(a[a > b])\n",
        "print(a, b, res, sep='\\n')"
      ],
      "metadata": {
        "colab": {
          "base_uri": "https://localhost:8080/"
        },
        "id": "Km-9RNC4BvWj",
        "outputId": "9bff9186-d5dd-4b1f-99c6-b93dded9340e"
      },
      "execution_count": null,
      "outputs": [
        {
          "output_type": "stream",
          "name": "stdout",
          "text": [
            "[[1 4 1]\n",
            " [7 4 3]\n",
            " [7 1 3]]\n",
            "1\n",
            "28\n"
          ]
        }
      ]
    },
    {
      "cell_type": "markdown",
      "source": [
        "Задание 6"
      ],
      "metadata": {
        "id": "TXFzLV1PCA_l"
      }
    },
    {
      "cell_type": "code",
      "source": [
        "def func1(m, n):\n",
        "  arr = np.zeros((n, m))\n",
        "  arr[1::2] = arr[1::2] + 2\n",
        "  arr[:, 1::2] = arr[:, 1::2] + 1\n",
        "  return arr\n",
        "func1(4, 4)"
      ],
      "metadata": {
        "colab": {
          "base_uri": "https://localhost:8080/"
        },
        "id": "sIVyNDCNCB3H",
        "outputId": "ecb0b6a0-8d83-47cc-bd57-76146af0ae39"
      },
      "execution_count": null,
      "outputs": [
        {
          "output_type": "execute_result",
          "data": {
            "text/plain": [
              "array([[0., 1., 0., 1.],\n",
              "       [2., 3., 2., 3.],\n",
              "       [0., 1., 0., 1.],\n",
              "       [2., 3., 2., 3.]])"
            ]
          },
          "metadata": {},
          "execution_count": 31
        }
      ]
    },
    {
      "cell_type": "markdown",
      "source": [
        "Задание 7\n"
      ],
      "metadata": {
        "id": "XuHcPvf09VGz"
      }
    },
    {
      "cell_type": "code",
      "source": [
        "def func2(n=100):\n",
        "  k = n\n",
        "  o = np.arange(1, k + 1, 1)\n",
        "  s = o.reshape(k, 1)\n",
        "  f = o.reshape(1, k)\n",
        "  o = o[(f % s == 0).sum(axis = 0) == 2]\n",
        "  return o\n",
        "func2(100)"
      ],
      "metadata": {
        "colab": {
          "base_uri": "https://localhost:8080/"
        },
        "id": "O5pe77U8JBY0",
        "outputId": "0418df7a-352b-4888-cabf-9f25c3d4048c"
      },
      "execution_count": null,
      "outputs": [
        {
          "output_type": "execute_result",
          "data": {
            "text/plain": [
              "array([ 2,  3,  5,  7, 11, 13, 17, 19, 23, 29, 31, 37, 41, 43, 47, 53, 59,\n",
              "       61, 67, 71, 73, 79, 83, 89, 97])"
            ]
          },
          "metadata": {},
          "execution_count": 37
        }
      ]
    },
    {
      "cell_type": "markdown",
      "source": [
        "Задание 8"
      ],
      "metadata": {
        "id": "GGGaUofqKN4q"
      }
    },
    {
      "cell_type": "code",
      "source": [
        "arr = np.array(['A', 'B', 'C', 'D', 'E', 'F', 'G', 'H', 'I', 'J'])\n",
        "call = np.array(np.random.randint(0, 10, 100))\n",
        "arr[call]"
      ],
      "metadata": {
        "colab": {
          "base_uri": "https://localhost:8080/"
        },
        "id": "oZHPxSUVKP2t",
        "outputId": "149324e9-d72a-4a1b-de48-54a474ed46ff"
      },
      "execution_count": null,
      "outputs": [
        {
          "output_type": "execute_result",
          "data": {
            "text/plain": [
              "array(['D', 'H', 'C', 'D', 'E', 'B', 'C', 'B', 'I', 'G', 'C', 'E', 'B',\n",
              "       'J', 'H', 'I', 'C', 'J', 'J', 'G', 'J', 'B', 'G', 'G', 'F', 'F',\n",
              "       'G', 'E', 'C', 'D', 'E', 'H', 'J', 'E', 'H', 'C', 'F', 'J', 'F',\n",
              "       'I', 'G', 'A', 'A', 'C', 'I', 'F', 'H', 'J', 'F', 'F', 'C', 'J',\n",
              "       'I', 'J', 'B', 'J', 'G', 'A', 'I', 'E', 'A', 'H', 'H', 'J', 'G',\n",
              "       'A', 'E', 'C', 'I', 'B', 'F', 'I', 'H', 'C', 'B', 'D', 'C', 'H',\n",
              "       'D', 'D', 'E', 'F', 'C', 'A', 'H', 'C', 'C', 'C', 'G', 'J', 'J',\n",
              "       'B', 'E', 'F', 'I', 'B', 'F', 'I', 'H', 'H'], dtype='<U1')"
            ]
          },
          "metadata": {},
          "execution_count": 38
        }
      ]
    },
    {
      "cell_type": "markdown",
      "source": [
        "Задание 9"
      ],
      "metadata": {
        "id": "usMEnXrQKpAo"
      }
    },
    {
      "cell_type": "code",
      "source": [
        "l9=np.random.randint(0,11,size=(20,20), dtype=int)\n",
        "print(l9)\n",
        "row_id=np.arange(0, 19, 1)\n",
        "col_id=row_id+1\n",
        "l9[row_id, col_id]"
      ],
      "metadata": {
        "id": "_o3Hk1sSKqIu",
        "colab": {
          "base_uri": "https://localhost:8080/"
        },
        "outputId": "e7bfb112-0c9f-4fee-fe08-c652f5d196a9"
      },
      "execution_count": null,
      "outputs": [
        {
          "output_type": "stream",
          "name": "stdout",
          "text": [
            "[[ 5  4 10  4  7  5  5  3  7  9  3  1  3  7  9  8  5  9  1  4]\n",
            " [ 6  7  3  5  0  6  0  4  6  1  1  1  6  8  6  1  9  3  0  8]\n",
            " [ 8  7  2  9  4  4  9  9  4  9  1  9  8  8  0  2  9  1  7 10]\n",
            " [ 7  6  1  7  7  5  4  5 10  8  0  0  3  0  7 10 10  4  5  7]\n",
            " [ 5  3  9  9  3  2  1  3  3  0  5 10  5  0  6  5  4  7  0 10]\n",
            " [ 2  2  2  9  9 10  4  6  7  8  7  7  4  6  1  6  0  6  4  9]\n",
            " [ 3  2  9  9  9  6  1  3  2  2  7  8  7  1  2  9  4  2  0  6]\n",
            " [ 9  2  2  5  9  4  5  7  1  9  8  0  8  3  4  4 10  2  5  1]\n",
            " [ 9  3  4  7  5  6  3  7  7  7  6  3  3  3  1  2  8  3  6  5]\n",
            " [ 3  5  2  1  1 10  1  0  2 10  1  0  2  8  5 10  9  8  6  0]\n",
            " [ 3  6 10  9  2  6 10  5  2  8  5  6  6  8  2  7  0  1  4  1]\n",
            " [10  2  3  6  9  9  8  3  8  1  1 10  4  6  6  3  1  0  4 10]\n",
            " [ 0  8  4  2  5  9  0  5  7  0 10  0  0  8  8  8  5  8  2 10]\n",
            " [10  5  6  3  9  9  0  8  9  1  9  2  1  3  2 10  1  1  7  5]\n",
            " [ 6  7  4  8  1  4  0  1  6  2  9  1  8  8  2  9  0  0  7  2]\n",
            " [ 9  8  3  7  8  9  4  4 10  1  1  8  9  7  1  1 10  8  4  8]\n",
            " [ 5  0  1  3  2  7 10  6  9  7  8  0  9  5  8  8 10  7  1  5]\n",
            " [ 9  5 10  0 10  0 10  2  6  5  5  8  4  7  9  1  9  9  0  0]\n",
            " [ 1  0  8  4  3  1  6 10  8  2  7  7  4  3  5 10  6  5  7  3]\n",
            " [ 3  1 10  6  5  2  2  7 10  8  1  7  3  7 10  0  4  4  7  3]]\n"
          ]
        },
        {
          "output_type": "execute_result",
          "data": {
            "text/plain": [
              "array([ 4,  3,  9,  7,  2,  4,  3,  1,  7,  1,  6,  4,  8,  2,  9, 10,  7,\n",
              "        0,  3])"
            ]
          },
          "metadata": {},
          "execution_count": 3
        }
      ]
    }
  ]
}