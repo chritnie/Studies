{
  "cells": [
    {
      "cell_type": "markdown",
      "metadata": {
        "id": "8KlxX_oAzufn"
      },
      "source": [
        "# Numpy"
      ]
    },
    {
      "cell_type": "markdown",
      "metadata": {
        "id": "uqH7Zq02zufr"
      },
      "source": [
        "Материалы:\n",
        "* Макрушин С.В. \"Лекция 1: Библиотека Numpy\"\n",
        "* https://numpy.org/doc/stable/user/index.html\n",
        "* https://numpy.org/doc/stable/reference/index.html"
      ]
    },
    {
      "cell_type": "markdown",
      "metadata": {
        "id": "k3D-WiTFzufs"
      },
      "source": [
        "## Задачи для совместного разбора"
      ]
    },
    {
      "cell_type": "markdown",
      "metadata": {
        "id": "_vBV3vZzzuft"
      },
      "source": [
        "1. Сгенерировать двухмерный массив `arr` размерности (4, 7), состоящий из случайных действительных чисел, равномерно распределенных в диапазоне от 0 до 20. Нормализовать значения массива с помощью преобразования вида  $𝑎𝑥+𝑏$  так, что после нормализации максимальный элемент масcива будет равен 1.0, минимальный 0.0"
      ]
    },
    {
      "cell_type": "code",
      "execution_count": null,
      "metadata": {
        "colab": {
          "base_uri": "https://localhost:8080/"
        },
        "id": "LVccu8Kxzuft",
        "outputId": "a2833ce8-138c-49fc-eb4e-5951c0c896f9"
      },
      "outputs": [
        {
          "output_type": "stream",
          "name": "stdout",
          "text": [
            "[[ 1.43717062  6.27558754 16.12582206  5.94017818 19.52224797 16.00190487\n",
            "   5.59774558]\n",
            " [18.9558319  12.42294679 18.53248047  7.23023637 18.75199364 11.08452292\n",
            "   8.13004062]\n",
            " [ 2.58017671 12.77518257 14.07182646  5.62830155 17.15946423  4.45312715\n",
            "   6.98196699]\n",
            " [ 1.99433898 10.97046395 18.78651845 16.53648767 14.15917113  2.75549492\n",
            "  13.22970765]]\n",
            "[[0.         0.26753642 0.81219732 0.24899023 1.         0.80534542\n",
            "  0.23005569]\n",
            " [0.96868047 0.60744977 0.94527159 0.32032297 0.9574094  0.53344269\n",
            "  0.37007694]\n",
            " [0.06320161 0.62692637 0.69862327 0.23174526 0.86935175 0.16676492\n",
            "  0.30659512]\n",
            " [0.03080818 0.52713589 0.95931842 0.83490475 0.70345292 0.0728957\n",
            "  0.65205898]]\n"
          ]
        }
      ],
      "source": [
        "import numpy as np\n",
        "arr = np.random.rand(4,7)*20\n",
        "print(arr)\n",
        "arr_new = arr/(arr.max() - arr.min()) + arr.min()/(arr.min()-arr.max())\n",
        "print(arr_new)"
      ]
    },
    {
      "cell_type": "markdown",
      "metadata": {
        "id": "M1bHZJCtzufu"
      },
      "source": [
        "2. Создать матрицу 8 на 10 из случайных целых (используя модуль `numpy.random`) чисел из диапозона от 0 до 10 и найти в ней строку (ее индекс и вывести саму строку), в которой сумма значений минимальна."
      ]
    },
    {
      "cell_type": "code",
      "source": [
        "arr = np.random.randint(0,11,(8,10))\n",
        "print(arr)\n",
        "print(f'Строка ={arr[np.argmin(np.sum(arr, axis=1))]}, Индекс={np.argmin(np.sum(arr, axis=1))}')"
      ],
      "metadata": {
        "colab": {
          "base_uri": "https://localhost:8080/"
        },
        "id": "gnmhyaN24De9",
        "outputId": "027c8943-038a-40f9-8c12-32798b246dbf"
      },
      "execution_count": null,
      "outputs": [
        {
          "output_type": "stream",
          "name": "stdout",
          "text": [
            "[[ 5  0  0  9  6  8  9 10  4  5]\n",
            " [10  0  9  8  5  6  9 10  0  7]\n",
            " [ 7  6  5  7  5  0  6  9  3  5]\n",
            " [ 9 10  0  0  8  0 10  6  7  0]\n",
            " [ 3  4  9  2  3  2  9  8  5  8]\n",
            " [ 2 10  8  3  8  3  2  1  2 10]\n",
            " [ 2  3  1  3  0  3  9  8  2  7]\n",
            " [ 1  0  3  9  9  7  9  0  9  9]]\n",
            "Строка =[2 3 1 3 0 3 9 8 2 7], Индекс=6\n"
          ]
        }
      ]
    },
    {
      "cell_type": "code",
      "source": [
        "arr = np.random.randint(0,11,(8,10))\n",
        "print(arr)\n",
        "print(f'Строка ={arr[:,np.argmin(np.sum(arr, axis=0))]}, Индекс={np.argmin(np.sum(arr, axis=0))}')"
      ],
      "metadata": {
        "colab": {
          "base_uri": "https://localhost:8080/"
        },
        "id": "HBes0dMZ6met",
        "outputId": "d6db652f-9f43-4039-d248-feb73fc5f1cd"
      },
      "execution_count": null,
      "outputs": [
        {
          "output_type": "stream",
          "name": "stdout",
          "text": [
            "[[ 2  6  0  1  4  9  7  1  2  8]\n",
            " [10  5  7  1 10  9  9 10  5  3]\n",
            " [ 4  4  0  2  8  8  8  8  4  6]\n",
            " [ 3  1  1  0  4  2 10  8  3  9]\n",
            " [ 8  2  4 10  4  6  0  0  3 10]\n",
            " [ 2  9  5  9 10  8  1  8  7  0]\n",
            " [ 7  1  3  4  2 10  6  8  6 10]\n",
            " [ 2  3  5  1  7  3  5  1  1  4]]\n",
            "Строка =[0 7 0 1 4 5 3 5], Индекс=2\n"
          ]
        }
      ]
    },
    {
      "cell_type": "markdown",
      "metadata": {
        "id": "RG2tWIj_zufu"
      },
      "source": [
        "3. Найти евклидово расстояние между двумя одномерными векторами одинаковой размерности."
      ]
    },
    {
      "cell_type": "code",
      "source": [
        "a = np.array([0,4])\n",
        "b = np.array([3, 0])\n",
        "np.sqrt(((b - a)**2).sum())\n",
        "np.linalg.norm(b-a)"
      ],
      "metadata": {
        "colab": {
          "base_uri": "https://localhost:8080/"
        },
        "id": "aoNS7R7O7GR8",
        "outputId": "046747a4-78a3-47bb-ecc1-655e42cab82c"
      },
      "execution_count": null,
      "outputs": [
        {
          "output_type": "execute_result",
          "data": {
            "text/plain": [
              "5.0"
            ]
          },
          "metadata": {},
          "execution_count": 120
        }
      ]
    },
    {
      "cell_type": "markdown",
      "metadata": {
        "id": "iKr1ynKdzufv"
      },
      "source": [
        "4. Решить матричное уравнение `A*X*B=-C` - найти матрицу `X`. Где `A = [[-1, 2, 4], [-3, 1, 2], [-3, 0, 1]]`, `B=[[3, -1], [2, 1]]`, `C=[[7, 21], [11, 8], [8, 4]]`."
      ]
    },
    {
      "cell_type": "code",
      "source": [
        "A = np.array([[-1, 2, 4], [-3, 1, 2], [-3, 0, 1]])\n",
        "B = np.array([[3, -1], [2, 1]])\n",
        "C = np.array([[7, 21], [11, 8], [8, 4]])\n",
        "#A^-1*A*X*B*B^-1 = A^-1 * (-C) * B^-1\n",
        "X = np.linalg.inv(A) @ (-C) @ np.linalg.inv(B)\n",
        "X"
      ],
      "metadata": {
        "colab": {
          "base_uri": "https://localhost:8080/"
        },
        "id": "K7ZLW6h-8g6M",
        "outputId": "4616297d-5b39-4b31-afc8-98e5d0ed9595"
      },
      "execution_count": null,
      "outputs": [
        {
          "output_type": "execute_result",
          "data": {
            "text/plain": [
              "array([[ 1.00000000e+00,  5.32907052e-16],\n",
              "       [-2.00000000e+00,  1.00000000e+00],\n",
              "       [ 3.00000000e+00, -4.00000000e+00]])"
            ]
          },
          "metadata": {},
          "execution_count": 121
        }
      ]
    },
    {
      "cell_type": "markdown",
      "metadata": {
        "id": "Qwjm5BsGzufv"
      },
      "source": [
        "## Лабораторная работа №1"
      ]
    },
    {
      "cell_type": "markdown",
      "metadata": {
        "id": "RdwL4gnZzufw"
      },
      "source": [
        "Замечание: при решении данных задач не подразумевается использования циклов или генераторов Python, если в задании не сказано обратного. Решение должно опираться на использования функционала библиотеки `numpy`."
      ]
    },
    {
      "cell_type": "code",
      "source": [
        "m_n_i = np.loadtxt('minutes_n_ingredients.csv', dtype='int32', skiprows=1, delimiter=',') #max_rows=5\n",
        "un = np.unique(m_n_i[:,(1,2)], axis=0)\n",
        "un.size"
      ],
      "metadata": {
        "colab": {
          "base_uri": "https://localhost:8080/"
        },
        "id": "6UE1zDUUOlue",
        "outputId": "a5773f3e-f4d4-4c37-b641-e0a561f99c87"
      },
      "execution_count": null,
      "outputs": [
        {
          "output_type": "execute_result",
          "data": {
            "text/plain": [
              "8390"
            ]
          },
          "metadata": {},
          "execution_count": 140
        }
      ]
    },
    {
      "cell_type": "markdown",
      "metadata": {
        "id": "xxL_Igvzzufw"
      },
      "source": [
        "1. Файл `minutes_n_ingredients.csv` содержит информацию об идентификаторе рецепта, времени его выполнения в минутах и количестве необходимых ингредиентов. Считайте данные из этого файла в виде массива `numpy` типа `int32`, используя `np.loadtxt`. Выведите на экран первые 5 строк массива."
      ]
    },
    {
      "cell_type": "code",
      "source": [
        "ds = np.loadtxt('minutes_n_ingredients.csv', dtype=int, delimiter=\",\", skiprows=1)\n",
        "print(ds[:5])"
      ],
      "metadata": {
        "colab": {
          "base_uri": "https://localhost:8080/"
        },
        "id": "g0wDh1PsHbzH",
        "outputId": "e103b168-32a2-49af-92d3-14ac9d8079db"
      },
      "execution_count": null,
      "outputs": [
        {
          "output_type": "execute_result",
          "data": {
            "text/plain": [
              "array([[127244,     60,     16],\n",
              "       [ 23891,     25,      7],\n",
              "       [ 94746,     10,      6],\n",
              "       ...,\n",
              "       [498432,     65,     15],\n",
              "       [370915,      5,      4],\n",
              "       [ 81993,    140,     14]], dtype=int32)"
            ]
          },
          "metadata": {},
          "execution_count": 156
        }
      ]
    },
    {
      "cell_type": "markdown",
      "metadata": {
        "id": "Hu7T_iPuzufx"
      },
      "source": [
        "2. Вычислите среднее значение, минимум, максимум и медиану по каждому из столбцов, кроме первого."
      ]
    },
    {
      "cell_type": "code",
      "source": [
        "print(np.min(ds[:, 1]), np.max(ds[:, 1]), np.median(ds[:, 1]), np.mean(ds[:, 1]))\n",
        "print(np.min(ds[:, 2]), np.max(ds[:, 2]), np.median(ds[:, 2]), np.mean(ds[:, 2]))"
      ],
      "metadata": {
        "colab": {
          "base_uri": "https://localhost:8080/"
        },
        "id": "M7lpR2dQIXAB",
        "outputId": "277622ac-6568-4ee3-d235-3cb40e854973"
      },
      "execution_count": null,
      "outputs": [
        {
          "output_type": "stream",
          "name": "stdout",
          "text": [
            "[2.16010017e+04 9.05528000e+00]\n",
            "[0 1]\n",
            "[2147483647         39]\n",
            "[40.  9.]\n"
          ]
        }
      ]
    },
    {
      "cell_type": "markdown",
      "metadata": {
        "id": "XAoSrmfKzufx"
      },
      "source": [
        "3. Ограничьте сверху значения продолжительности выполнения рецепта значением квантиля $q_{0.75}$. "
      ]
    },
    {
      "cell_type": "code",
      "source": [
        "data2 = ds.copy()\n",
        "limit = np.quantile(data2[:,1:2], 0.75)\n",
        "data2 = data2[data2[:,1] <= limit]\n",
        "data2.shape"
      ],
      "metadata": {
        "colab": {
          "base_uri": "https://localhost:8080/"
        },
        "id": "5Id79hZfJg_C",
        "outputId": "1414af7f-f452-4d5a-c95a-b3903f080c94"
      },
      "execution_count": null,
      "outputs": [
        {
          "output_type": "stream",
          "name": "stdout",
          "text": [
            "65.0\n"
          ]
        },
        {
          "output_type": "execute_result",
          "data": {
            "text/plain": [
              "(75461, 3)"
            ]
          },
          "metadata": {},
          "execution_count": 158
        }
      ]
    },
    {
      "cell_type": "markdown",
      "metadata": {
        "id": "pKlyRMkAzufx"
      },
      "source": [
        "4. Посчитайте, для скольких рецептов указана продолжительность, равная нулю. Замените для таких строк значение в данном столбце на 1."
      ]
    },
    {
      "cell_type": "code",
      "source": [
        "data1 = ds.copy()\n",
        "count = data1.shape[0] - np.count_nonzero(data1[:,1])\n",
        "print(count)\n",
        "np.place(data1[:,1], data1[:,1]==0, 1)"
      ],
      "metadata": {
        "colab": {
          "base_uri": "https://localhost:8080/"
        },
        "id": "lf_lrfioKnit",
        "outputId": "d082e193-c541-472d-df5d-be48ec8e0068"
      },
      "execution_count": null,
      "outputs": [
        {
          "output_type": "stream",
          "name": "stdout",
          "text": [
            "0\n"
          ]
        },
        {
          "output_type": "execute_result",
          "data": {
            "text/plain": [
              "1"
            ]
          },
          "metadata": {},
          "execution_count": 161
        }
      ]
    },
    {
      "cell_type": "markdown",
      "metadata": {
        "id": "pk4n6Ozbzufy"
      },
      "source": [
        "5. Посчитайте, сколько уникальных рецептов находится в датасете."
      ]
    },
    {
      "cell_type": "code",
      "source": [
        "un = np.unique(ds[:, (1,  2)], axis = 0)\n",
        "un.size"
      ],
      "metadata": {
        "colab": {
          "base_uri": "https://localhost:8080/"
        },
        "id": "GTbhl0dbL7od",
        "outputId": "47f6534a-35c9-43c2-bb2f-36a00bbe7a3a"
      },
      "execution_count": null,
      "outputs": [
        {
          "output_type": "execute_result",
          "data": {
            "text/plain": [
              "2250"
            ]
          },
          "metadata": {},
          "execution_count": 163
        }
      ]
    },
    {
      "cell_type": "markdown",
      "metadata": {
        "id": "uOScX9XHzufy"
      },
      "source": [
        "6. Сколько и каких различных значений кол-ва ингредиентов присутвует в рецептах из датасета?"
      ]
    },
    {
      "cell_type": "code",
      "source": [
        "ingr = ds.copy()\n",
        "ingr = ingr[:,2]\n",
        "print(np.unique(ingr), len(np.unique(ingr)))"
      ],
      "metadata": {
        "colab": {
          "base_uri": "https://localhost:8080/"
        },
        "id": "3IwaxOdNN5wl",
        "outputId": "5531038d-8aff-4f25-e353-87396aba9d75"
      },
      "execution_count": null,
      "outputs": [
        {
          "output_type": "stream",
          "name": "stdout",
          "text": [
            "[ 1  2  3  4  5  6  7  8  9 10 11 12 13 14 15 16 17 18 19 20 21 22 23 24\n",
            " 25 26 27 28 29 30 33 34]\n"
          ]
        },
        {
          "output_type": "execute_result",
          "data": {
            "text/plain": [
              "32"
            ]
          },
          "metadata": {},
          "execution_count": 128
        }
      ]
    },
    {
      "cell_type": "markdown",
      "metadata": {
        "id": "QnBsMluzzufy"
      },
      "source": [
        "7. Создайте версию массива, содержащую информацию только о рецептах, состоящих не более чем из 5 ингредиентов."
      ]
    },
    {
      "cell_type": "code",
      "source": [
        "mask = ds[:, 2] <= 5\n",
        "print(ds.shape, ds[mask].shape)"
      ],
      "metadata": {
        "colab": {
          "base_uri": "https://localhost:8080/"
        },
        "id": "8Cd3NK2cO12e",
        "outputId": "805268b1-e168-404a-b905-e4deb7b012f5"
      },
      "execution_count": null,
      "outputs": [
        {
          "output_type": "execute_result",
          "data": {
            "text/plain": [
              "(14890, 3)"
            ]
          },
          "metadata": {},
          "execution_count": 129
        }
      ]
    },
    {
      "cell_type": "markdown",
      "metadata": {
        "id": "rdyTD63izufy"
      },
      "source": [
        "8. Для каждого рецепта посчитайте, сколько в среднем ингредиентов приходится на одну минуту рецепта. Найдите максимальное значение этой величины для всего датасета"
      ]
    },
    {
      "cell_type": "code",
      "source": [
        "mask = ds[:, 1] != 0\n",
        "ds2 = ds[mask]\n",
        "average = ds2[:, 2] / ds2[:, 1]\n",
        "np.max(average)"
      ],
      "metadata": {
        "colab": {
          "base_uri": "https://localhost:8080/"
        },
        "id": "34hKPSqnP7Qv",
        "outputId": "780fbdba-a0a3-439b-f6da-5f8e310f88a7"
      },
      "execution_count": null,
      "outputs": [
        {
          "output_type": "execute_result",
          "data": {
            "text/plain": [
              "24.0"
            ]
          },
          "metadata": {},
          "execution_count": 130
        }
      ]
    },
    {
      "cell_type": "markdown",
      "metadata": {
        "id": "H7KlIzmUzufz"
      },
      "source": [
        "9. Вычислите среднее количество ингредиентов для топ-100 рецептов с наибольшей продолжительностью"
      ]
    },
    {
      "cell_type": "code",
      "source": [
        "ds[ds[:, 1].argsort()[::-1]][:100,2].mean()"
      ],
      "metadata": {
        "colab": {
          "base_uri": "https://localhost:8080/"
        },
        "id": "QP-NYnkdTCPo",
        "outputId": "5024e8d3-453b-4ee3-e10e-8b343480ca0e"
      },
      "execution_count": null,
      "outputs": [
        {
          "output_type": "execute_result",
          "data": {
            "text/plain": [
              "10.06"
            ]
          },
          "metadata": {},
          "execution_count": 131
        }
      ]
    },
    {
      "cell_type": "markdown",
      "metadata": {
        "id": "FPCuXFAXzufz"
      },
      "source": [
        "10. Выберите случайным образом и выведите информацию о 10 различных рецептах"
      ]
    },
    {
      "cell_type": "code",
      "source": [
        "m_n_i[np.random.randint(m_n_i.shape[0],size=10),:]"
      ],
      "metadata": {
        "colab": {
          "base_uri": "https://localhost:8080/"
        },
        "id": "tz_r-tsaT1nv",
        "outputId": "284bf7e4-a356-4cb0-cdfb-b3305f789742"
      },
      "execution_count": null,
      "outputs": [
        {
          "output_type": "execute_result",
          "data": {
            "text/plain": [
              "array([[270154,     25,      5],\n",
              "       [393143,     45,     17],\n",
              "       [502609,     20,     10],\n",
              "       [ 23315,     20,      8],\n",
              "       [ 97116,     32,      6],\n",
              "       [100949,      1,      4],\n",
              "       [ 80999,     40,      4],\n",
              "       [187748,     45,     11],\n",
              "       [243343,     30,     11],\n",
              "       [329230,      2,      4]], dtype=int32)"
            ]
          },
          "metadata": {},
          "execution_count": 132
        }
      ]
    },
    {
      "cell_type": "markdown",
      "metadata": {
        "id": "sHZ2_kydzufz"
      },
      "source": [
        "11. Выведите процент рецептов, кол-во ингредиентов в которых меньше среднего."
      ]
    },
    {
      "cell_type": "code",
      "source": [
        "mask = ds[:,2]<np.mean(ds[:,2])\n",
        "print(100*len(ds[mask]/len(ds)))"
      ],
      "metadata": {
        "colab": {
          "base_uri": "https://localhost:8080/"
        },
        "id": "rpVLjkyjUfjP",
        "outputId": "75861f9c-93be-41e6-bf1f-433567db1fc1"
      },
      "execution_count": null,
      "outputs": [
        {
          "output_type": "stream",
          "name": "stdout",
          "text": [
            "52.51056837306688\n"
          ]
        }
      ]
    },
    {
      "cell_type": "markdown",
      "metadata": {
        "id": "M9LPheAuzufz"
      },
      "source": [
        "12. Назовем \"простым\" такой рецепт, длительность выполнения которого не больше 20 минут и кол-во ингредиентов в котором не больше 5. Создайте версию датасета с дополнительным столбцом, значениями которого являются 1, если рецепт простой, и 0 в противном случае."
      ]
    },
    {
      "cell_type": "code",
      "source": [
        "is_simple_mask = (ds[:, 1] < 21) & (ds[:, 2] < 6)\n",
        "new_ds = np.c_[ds, is_simple_mask]\n",
        "new_ds"
      ],
      "metadata": {
        "colab": {
          "base_uri": "https://localhost:8080/"
        },
        "id": "83FL4oq8VbwI",
        "outputId": "001cf423-6f20-490f-8e5f-2394f5d0c4b4"
      },
      "execution_count": null,
      "outputs": [
        {
          "output_type": "execute_result",
          "data": {
            "text/plain": [
              "array([[127244,     60,     16,      0],\n",
              "       [ 23891,     25,      7,      0],\n",
              "       [ 94746,     10,      6,      0],\n",
              "       ...,\n",
              "       [498432,     65,     15,      0],\n",
              "       [370915,      5,      4,      1],\n",
              "       [ 81993,    140,     14,      0]], dtype=int32)"
            ]
          },
          "metadata": {},
          "execution_count": 141
        }
      ]
    },
    {
      "cell_type": "markdown",
      "metadata": {
        "id": "YN79mNk6zuf0"
      },
      "source": [
        "13. Выведите процент \"простых\" рецептов в датасете"
      ]
    },
    {
      "cell_type": "code",
      "source": [
        "mask = new_ds[:, 3] == 1\n",
        "new_ds[mask].shape[0] * 100 / new_ds.shape[0]"
      ],
      "metadata": {
        "colab": {
          "base_uri": "https://localhost:8080/"
        },
        "id": "Kud0kt1sWjaf",
        "outputId": "678329b2-ee0e-4b86-b7bb-216b81330518"
      },
      "execution_count": null,
      "outputs": [
        {
          "output_type": "stream",
          "name": "stdout",
          "text": [
            "9.552\n"
          ]
        }
      ]
    },
    {
      "cell_type": "markdown",
      "metadata": {
        "id": "2D9TN1Rpzuf0"
      },
      "source": [
        "14. Разделим рецепты на группы по следующему правилу. Назовем рецепты короткими, если их продолжительность составляет менее 10 минут; стандартными, если их продолжительность составляет более 10, но менее 20 минут; и длинными, если их продолжительность составляет не менее 20 минут. Создайте трехмерный массив, где нулевая ось отвечает за номер группы (короткий, стандартный или длинный рецепт), первая ось - за сам рецепт и вторая ось - за характеристики рецепта. Выберите максимальное количество рецептов из каждой группы таким образом, чтобы было возможно сформировать трехмерный массив. Выведите форму полученного массива."
      ]
    },
    {
      "cell_type": "code",
      "execution_count": null,
      "metadata": {
        "colab": {
          "base_uri": "https://localhost:8080/"
        },
        "id": "_nbCiAHKzuf0",
        "outputId": "219c69ce-190b-4f6d-ce9c-a3191d552921"
      },
      "outputs": [
        {
          "output_type": "execute_result",
          "data": {
            "text/plain": [
              "(3, 7588, 4)"
            ]
          },
          "metadata": {},
          "execution_count": 169
        }
      ],
      "source": [
        "short = new_ds[new_ds[:,1]<10]\n",
        "standart = new_ds[(new_ds[:,1]>=10) & (new_ds[:,1]<20)]\n",
        "long = new_ds[20<=new_ds[:,1]]\n",
        "max_ = np.min([short.shape[0], standart.shape[0], long.shape[0]])\n",
        "np.array([short[:max_], standart[:max_], long[:max_]])"
      ]
    }
  ],
  "metadata": {
    "kernelspec": {
      "display_name": "Python 3",
      "language": "python",
      "name": "python3"
    },
    "language_info": {
      "codemirror_mode": {
        "name": "ipython",
        "version": 3
      },
      "file_extension": ".py",
      "mimetype": "text/x-python",
      "name": "python",
      "nbconvert_exporter": "python",
      "pygments_lexer": "ipython3",
      "version": "3.7.6"
    },
    "colab": {
      "provenance": [],
      "collapsed_sections": []
    }
  },
  "nbformat": 4,
  "nbformat_minor": 0
}